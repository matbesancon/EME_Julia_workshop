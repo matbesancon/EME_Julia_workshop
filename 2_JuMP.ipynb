{
 "cells": [
  {
   "cell_type": "markdown",
   "metadata": {
    "slideshow": {
     "slide_type": "slide"
    }
   },
   "source": [
    "# Julia for the working scientist & engineer\n",
    "## Part II: constrained optimization with JuMP\n",
    "-----------\n",
    "\n",
    "\n",
    "Mathieu Besançon  \n",
    "EME tutorial, University of Edinburgh\n",
    "\n",
    "<img src=\"https://julialang.org/assets/infra/logo.svg\" alt=\"logo\" width=\"200\"/>\n",
    "\n",
    "Run the notebooks (local or online): https://github.com/matbesancon/EME_Julia_workshop"
   ]
  },
  {
   "cell_type": "markdown",
   "metadata": {
    "slideshow": {
     "slide_type": "slide"
    }
   },
   "source": [
    "# Outline\n",
    "\n",
    "- Algebraic Modelling Languages & libraries for optimization\n",
    "- Advanced Julia: broadcast and macros\n",
    "- What is JuMP?\n",
    "- Core concepts\n",
    "- Getting started with examples"
   ]
  },
  {
   "cell_type": "markdown",
   "metadata": {
    "slideshow": {
     "slide_type": "slide"
    }
   },
   "source": [
    "# Modelling optimization problems\n",
    "\n",
    "Ideally:\n",
    "\n",
    "$$\\begin{align}\n",
    "\\min_{x}\\,\\, & f(x)\\\\\n",
    "\\text{s.t.} &  \\\\\n",
    "& A x \\leq b   \\\\\n",
    "& x \\in \\mathcal{X}\n",
    "\\end{align}$$"
   ]
  },
  {
   "cell_type": "markdown",
   "metadata": {
    "slideshow": {
     "slide_type": "slide"
    }
   },
   "source": [
    "## Using an Algebraic Modelling Language\n",
    "\n",
    "A form of optimization-focused Domain-Specific Language (DSL).  \n",
    "Close enough to the original syntax:\n",
    "```\n",
    "set rows;\n",
    "set cols;\n",
    "\n",
    "param A{rows, cols};\n",
    "param b{rows};\n",
    "\n",
    "var x {ncols} in Xset;\n",
    "\n",
    "minimize f(x)\n",
    "\n",
    "subject to:\n",
    "    forall {i in rows}\n",
    "        sum {j in cols} A{i,j} * x{j} <= b{i}\n",
    "\n",
    "```"
   ]
  },
  {
   "cell_type": "markdown",
   "metadata": {
    "slideshow": {
     "slide_type": "slide"
    }
   },
   "source": [
    "## From static model to algorithm design\n",
    "\n",
    "- Column / row generation?\n",
    "- Lazy constraints and cuts?\n",
    "- Extending to custom sets?\n",
    "\n",
    "Limits of AMLs $\\Rightarrow$ programming interfaces"
   ]
  },
  {
   "cell_type": "markdown",
   "metadata": {
    "slideshow": {
     "slide_type": "slide"
    }
   },
   "source": [
    "Example from CPLEX tutorials:\n",
    "\n",
    "```\n",
    "# instantiating\n",
    "IloModel model(env);\n",
    "IloNumVarArray vars(env);\n",
    "vars.add(IloNumVar(env, 0.0, 40.0));\n",
    "vars.add(IloNumVar(env));\n",
    "vars.add(IloNumVar(env));\n",
    "model.add(IloMaximize(env, vars[0] + 2 * vars[1] + 3 * vars[2]));\n",
    "model.add( - vars[0] +     vars[1] + vars[2] <= 20);\n",
    "model.add(   vars[0] - 3 * vars[1] + vars[2] <= 30);\n",
    "\n",
    "# solving\n",
    "IloCplex cplex(model);\n",
    "if ( !cplex.solve() ) {\n",
    " env.error() << \"Failed to optimize LP.\" << endl;\n",
    " throw(-1);\n",
    "}\n",
    "\n",
    "# fetching results\n",
    "IloNumArray vals(env);\n",
    "env.out() << \"Solution status = \" << cplex.getStatus() << endl;\n",
    "env.out() << \"Solution value = \" << cplex.getObjValue() << endl;\n",
    "cplex.getValues(vals, vars);\n",
    "env.out() << \"Values = \" << vals << endl;\n",
    "```"
   ]
  },
  {
   "cell_type": "markdown",
   "metadata": {
    "slideshow": {
     "slide_type": "slide"
    }
   },
   "source": [
    "## Modelling with Programming Interfaces\n",
    "\n",
    "- arbitrary algorithms (as long as exposed by solvers)\n",
    "- directly dependent on solver  \n",
    "    $\\rightarrow$ \"did you try with another solver?\"   ¯\\_(ツ)_/¯\n",
    "- distance between model (paper) and implementation  \n",
    "    $\\rightarrow$ more chances for errors  \n",
    "    $\\rightarrow$ more software skills required"
   ]
  },
  {
   "cell_type": "markdown",
   "metadata": {
    "slideshow": {
     "slide_type": "slide"
    }
   },
   "source": [
    "## Embedded Algebraic Modelling Languages (E-AML)\n",
    "\n",
    "**Embed** a modelling language within another programming language.  \n",
    "\n",
    "- Familiar syntax from your favourite programming language;\n",
    "- Specific optimization-specififc language;\n",
    "- Used as a library for algorithm design;\n",
    "- Best of both world?"
   ]
  },
  {
   "cell_type": "markdown",
   "metadata": {
    "slideshow": {
     "slide_type": "slide"
    }
   },
   "source": [
    "# JuMP, an E-AML in Julia\n",
    "\n",
    "<img src=\"https://jump.dev/assets/jump-logo-with-text.svg\" alt=\"logo\" width=\"100\"/>\n",
    "\n",
    "- Almost as old as Julia itself (appendix of J. Bezanson's thesis)\n",
    "- An organization supported by NumFocus (pandas, scipy, jupyter, stan, Julia itself)\n",
    "\n",
    "Aim: unified modelling interface for **structured**, constrained optimization"
   ]
  },
  {
   "cell_type": "markdown",
   "metadata": {
    "slideshow": {
     "slide_type": "slide"
    }
   },
   "source": [
    "# Two Julia notions on the side\n",
    "\n",
    "## Macros\n",
    "\n",
    "Macros are functions that take **source code** in input.\n",
    "`f(x)` $\\rightarrow$ function, `@f(x)` $\\rightarrow$ macro.  \n",
    "\n",
    "Normal code execution:  \n",
    "`f(g(x))` evaluates `g(x)`, passed to `f`.\n",
    "\n",
    "In a macro:\n",
    "`@f(g(x))`: the `@f` macro takes the **code** `\"g(x)\"`, and can manipulate it."
   ]
  },
  {
   "cell_type": "code",
   "execution_count": 2,
   "metadata": {},
   "outputs": [
    {
     "name": "stdout",
     "output_type": "stream",
     "text": [
      "1 + 3 + rand() = 4.8069961512921555\n"
     ]
    }
   ],
   "source": [
    "@show(1 + 3 + rand());"
   ]
  },
  {
   "cell_type": "markdown",
   "metadata": {
    "slideshow": {
     "slide_type": "slide"
    }
   },
   "source": [
    "## Broadcasting\n",
    "\n",
    "Notion of \"element-wise\" operation."
   ]
  },
  {
   "cell_type": "code",
   "execution_count": 3,
   "metadata": {},
   "outputs": [
    {
     "name": "stdout",
     "output_type": "stream",
     "text": [
      "A ^ 2 = [1 0; 0 1]\n",
      "A .^ 2 = [0 1; 1 0]\n"
     ]
    }
   ],
   "source": [
    "A = [\n",
    "    0 1\n",
    "    1 0\n",
    "]\n",
    "@show A^2;  # A * A\n",
    "@show A.^2; # A_ij^2 ∀ ij"
   ]
  },
  {
   "cell_type": "code",
   "execution_count": 4,
   "metadata": {
    "slideshow": {
     "slide_type": "slide"
    }
   },
   "outputs": [],
   "source": [
    "m = Model()\n",
    "\n",
    "# scalars\n",
    "@variable(m, x)\n",
    "@variable(m, 1 <= y <= π)\n",
    "\n",
    "@variable(m, z[i=1:5,j=1:10], Bin)\n",
    "\n",
    "@variable(m, 2.5 <= Δ[i=1:5,j=i:2i, k=2:5] <= 3.5 + i)\n",
    "\n",
    "# fancier indexing\n",
    "product_type = [\"flour\", \"eggs\", \"milk\"]\n",
    "@variable(m, grocery_list[p = product_type] >= 0, Int);"
   ]
  },
  {
   "cell_type": "code",
   "execution_count": 5,
   "metadata": {
    "slideshow": {
     "slide_type": "slide"
    }
   },
   "outputs": [],
   "source": [
    "@variable(m, number_pancakes >= 0, Int)\n",
    "\n",
    "@constraint(m, x <= 3 * y)\n",
    "\n",
    "@constraint(m, recipe_constraint_egg,\n",
    "    number_pancakes <= 3 * grocery_list[\"eggs\"]\n",
    ")\n",
    "\n",
    "@constraint(m, recipe_constraint_flour,\n",
    "    number_pancakes <= 0.5 * grocery_list[\"flour\"]\n",
    ")\n",
    "@constraint(m, recipe_constraint_milk,\n",
    "    number_pancakes <= 0.2 * grocery_list[\"milk\"]\n",
    ");"
   ]
  },
  {
   "cell_type": "code",
   "execution_count": 6,
   "metadata": {
    "slideshow": {
     "slide_type": "slide"
    }
   },
   "outputs": [
    {
     "name": "stdout",
     "output_type": "stream",
     "text": [
      "Feasibility\n",
      "Subject to\n",
      " x - 3 y ≤ 0.0\n",
      " recipe_constraint_egg : number_pancakes - 3 grocery_list[eggs] ≤ 0.0\n",
      " recipe_constraint_flour : number_pancakes - 0.5 grocery_list[flour] ≤ 0.0\n",
      " recipe_constraint_milk : number_pancakes - 0.2 grocery_list[milk] ≤ 0.0\n",
      " y ≥ 1.0\n",
      " Δ[1,1,2] ≥ 2.5\n",
      " Δ[1,1,3] ≥ 2.5\n",
      " Δ[1,1,4] ≥ 2.5\n",
      " Δ[1,1,5] ≥ 2.5\n",
      " Δ[1,2,2] ≥ 2.5\n",
      " Δ[1,2,3] ≥ 2.5\n",
      " Δ[1,2,4] ≥ 2.5\n",
      " Δ[1,2,5] ≥ 2.5\n",
      " Δ[2,2,2] ≥ 2.5\n",
      " Δ[2,2,3] ≥ 2.5\n",
      " Δ[2,2,4] ≥ 2.5\n",
      " Δ[2,2,5] ≥ 2.5\n",
      " Δ[2,3,2] ≥ 2.5\n",
      " Δ[2,3,3] ≥ 2.5\n",
      " Δ[2,3,4] ≥ 2.5\n",
      " Δ[2,3,5] ≥ 2.5\n",
      " Δ[2,4,2] ≥ 2.5\n",
      " Δ[2,4,3] ≥ 2.5\n",
      " Δ[2,4,4] ≥ 2.5\n",
      " Δ[2,4,5] ≥ 2.5\n",
      " Δ[3,3,2] ≥ 2.5\n",
      " Δ[3,3,3] ≥ 2.5\n",
      " Δ[3,3,4] ≥ 2.5\n",
      " Δ[3,3,5] ≥ 2.5\n",
      " Δ[3,4,2] ≥ 2.5\n",
      " Δ[3,4,3] ≥ 2.5\n",
      " Δ[3,4,4] ≥ 2.5\n",
      " Δ[3,4,5] ≥ 2.5\n",
      " Δ[3,5,2] ≥ 2.5\n",
      " Δ[3,5,3] ≥ 2.5\n",
      " Δ[3,5,4] ≥ 2.5\n",
      " Δ[3,5,5] ≥ 2.5\n",
      " Δ[3,6,2] ≥ 2.5\n",
      " Δ[3,6,3] ≥ 2.5\n",
      " Δ[3,6,4] ≥ 2.5\n",
      " Δ[3,6,5] ≥ 2.5\n",
      " Δ[4,4,2] ≥ 2.5\n",
      " Δ[4,4,3] ≥ 2.5\n",
      " Δ[4,4,4] ≥ 2.5\n",
      " Δ[4,4,5] ≥ 2.5\n",
      " Δ[4,5,2] ≥ 2.5\n",
      " Δ[4,5,3] ≥ 2.5\n",
      " Δ[4,5,4] ≥ 2.5\n",
      " Δ[4,5,5] ≥ 2.5\n",
      " Δ[4,6,2] ≥ 2.5\n",
      " Δ[4,6,3] ≥ 2.5\n",
      " Δ[4,6,4] ≥ 2.5\n",
      " Δ[4,6,5] ≥ 2.5\n",
      " Δ[4,7,2] ≥ 2.5\n",
      " Δ[4,7,3] ≥ 2.5\n",
      " Δ[4,7,4] ≥ 2.5\n",
      " Δ[4,7,5] ≥ 2.5\n",
      " Δ[4,8,2] ≥ 2.5\n",
      " Δ[4,8,3] ≥ 2.5\n",
      " Δ[4,8,4] ≥ 2.5\n",
      " Δ[4,8,5] ≥ 2.5\n",
      " Δ[5,5,2] ≥ 2.5\n",
      " Δ[5,5,3] ≥ 2.5\n",
      " Δ[5,5,4] ≥ 2.5\n",
      " Δ[5,5,5] ≥ 2.5\n",
      " Δ[5,6,2] ≥ 2.5\n",
      " Δ[5,6,3] ≥ 2.5\n",
      " Δ[5,6,4] ≥ 2.5\n",
      " Δ[5,6,5] ≥ 2.5\n",
      " Δ[5,7,2] ≥ 2.5\n",
      " Δ[5,7,3] ≥ 2.5\n",
      " Δ[5,7,4] ≥ 2.5\n",
      " Δ[5,7,5] ≥ 2.5\n",
      " Δ[5,8,2] ≥ 2.5\n",
      " Δ[5,8,3] ≥ 2.5\n",
      " Δ[5,8,4] ≥ 2.5\n",
      " Δ[5,8,5] ≥ 2.5\n",
      " Δ[5,9,2] ≥ 2.5\n",
      " Δ[5,9,3] ≥ 2.5\n",
      " Δ[5,9,4] ≥ 2.5\n",
      " Δ[5,9,5] ≥ 2.5\n",
      " Δ[5,10,2] ≥ 2.5\n",
      " Δ[5,10,3] ≥ 2.5\n",
      " Δ[5,10,4] ≥ 2.5\n",
      " Δ[5,10,5] ≥ 2.5\n",
      " grocery_list[flour] ≥ 0.0\n",
      " grocery_list[eggs] ≥ 0.0\n",
      " grocery_list[milk] ≥ 0.0\n",
      " number_pancakes ≥ 0.0\n",
      " y ≤ 3.141592653589793\n",
      " Δ[1,1,2] ≤ 4.5\n",
      " Δ[1,1,3] ≤ 4.5\n",
      " Δ[1,1,4] ≤ 4.5\n",
      " Δ[1,1,5] ≤ 4.5\n",
      " Δ[1,2,2] ≤ 4.5\n",
      " Δ[1,2,3] ≤ 4.5\n",
      " Δ[1,2,4] ≤ 4.5\n",
      " Δ[1,2,5] ≤ 4.5\n",
      " Δ[2,2,2] ≤ 5.5\n",
      " Δ[2,2,3] ≤ 5.5\n",
      " Δ[2,2,4] ≤ 5.5\n",
      " Δ[2,2,5] ≤ 5.5\n",
      " Δ[2,3,2] ≤ 5.5\n",
      " Δ[2,3,3] ≤ 5.5\n",
      " Δ[2,3,4] ≤ 5.5\n",
      " Δ[2,3,5] ≤ 5.5\n",
      " Δ[2,4,2] ≤ 5.5\n",
      " Δ[2,4,3] ≤ 5.5\n",
      " Δ[2,4,4] ≤ 5.5\n",
      " Δ[2,4,5] ≤ 5.5\n",
      " Δ[3,3,2] ≤ 6.5\n",
      " Δ[3,3,3] ≤ 6.5\n",
      " Δ[3,3,4] ≤ 6.5\n",
      " Δ[3,3,5] ≤ 6.5\n",
      " Δ[3,4,2] ≤ 6.5\n",
      " Δ[3,4,3] ≤ 6.5\n",
      " Δ[3,4,4] ≤ 6.5\n",
      " Δ[3,4,5] ≤ 6.5\n",
      " Δ[3,5,2] ≤ 6.5\n",
      " Δ[3,5,3] ≤ 6.5\n",
      " Δ[3,5,4] ≤ 6.5\n",
      " Δ[3,5,5] ≤ 6.5\n",
      " Δ[3,6,2] ≤ 6.5\n",
      " Δ[3,6,3] ≤ 6.5\n",
      " Δ[3,6,4] ≤ 6.5\n",
      " Δ[3,6,5] ≤ 6.5\n",
      " Δ[4,4,2] ≤ 7.5\n",
      " Δ[4,4,3] ≤ 7.5\n",
      " Δ[4,4,4] ≤ 7.5\n",
      " Δ[4,4,5] ≤ 7.5\n",
      " Δ[4,5,2] ≤ 7.5\n",
      " Δ[4,5,3] ≤ 7.5\n",
      " Δ[4,5,4] ≤ 7.5\n",
      " Δ[4,5,5] ≤ 7.5\n",
      " Δ[4,6,2] ≤ 7.5\n",
      " Δ[4,6,3] ≤ 7.5\n",
      " Δ[4,6,4] ≤ 7.5\n",
      " Δ[4,6,5] ≤ 7.5\n",
      " Δ[4,7,2] ≤ 7.5\n",
      " Δ[4,7,3] ≤ 7.5\n",
      " Δ[4,7,4] ≤ 7.5\n",
      " Δ[4,7,5] ≤ 7.5\n",
      " Δ[4,8,2] ≤ 7.5\n",
      " Δ[4,8,3] ≤ 7.5\n",
      " Δ[4,8,4] ≤ 7.5\n",
      " Δ[4,8,5] ≤ 7.5\n",
      " Δ[5,5,2] ≤ 8.5\n",
      " Δ[5,5,3] ≤ 8.5\n",
      " Δ[5,5,4] ≤ 8.5\n",
      " Δ[5,5,5] ≤ 8.5\n",
      " Δ[5,6,2] ≤ 8.5\n",
      " Δ[5,6,3] ≤ 8.5\n",
      " Δ[5,6,4] ≤ 8.5\n",
      " Δ[5,6,5] ≤ 8.5\n",
      " Δ[5,7,2] ≤ 8.5\n",
      " Δ[5,7,3] ≤ 8.5\n",
      " Δ[5,7,4] ≤ 8.5\n",
      " Δ[5,7,5] ≤ 8.5\n",
      " Δ[5,8,2] ≤ 8.5\n",
      " Δ[5,8,3] ≤ 8.5\n",
      " Δ[5,8,4] ≤ 8.5\n",
      " Δ[5,8,5] ≤ 8.5\n",
      " Δ[5,9,2] ≤ 8.5\n",
      " Δ[5,9,3] ≤ 8.5\n",
      " Δ[5,9,4] ≤ 8.5\n",
      " Δ[5,9,5] ≤ 8.5\n",
      " Δ[5,10,2] ≤ 8.5\n",
      " Δ[5,10,3] ≤ 8.5\n",
      " Δ[5,10,4] ≤ 8.5\n",
      " Δ[5,10,5] ≤ 8.5\n",
      " grocery_list[flour] integer\n",
      " grocery_list[eggs] integer\n",
      " grocery_list[milk] integer\n",
      " number_pancakes integer\n",
      " z[1,1] binary\n",
      " z[2,1] binary\n",
      " z[3,1] binary\n",
      " z[4,1] binary\n",
      " z[5,1] binary\n",
      " z[1,2] binary\n",
      " z[2,2] binary\n",
      " z[3,2] binary\n",
      " z[4,2] binary\n",
      " z[5,2] binary\n",
      " z[1,3] binary\n",
      " z[2,3] binary\n",
      " z[3,3] binary\n",
      " z[4,3] binary\n",
      " z[5,3] binary\n",
      " z[1,4] binary\n",
      " z[2,4] binary\n",
      " z[3,4] binary\n",
      " z[4,4] binary\n",
      " z[5,4] binary\n",
      " z[1,5] binary\n",
      " z[2,5] binary\n",
      " z[3,5] binary\n",
      " z[4,5] binary\n",
      " z[5,5] binary\n",
      " z[1,6] binary\n",
      " z[2,6] binary\n",
      " z[3,6] binary\n",
      " z[4,6] binary\n",
      " z[5,6] binary\n",
      " z[1,7] binary\n",
      " z[2,7] binary\n",
      " z[3,7] binary\n",
      " z[4,7] binary\n",
      " z[5,7] binary\n",
      " z[1,8] binary\n",
      " z[2,8] binary\n",
      " z[3,8] binary\n",
      " z[4,8] binary\n",
      " z[5,8] binary\n",
      " z[1,9] binary\n",
      " z[2,9] binary\n",
      " z[3,9] binary\n",
      " z[4,9] binary\n",
      " z[5,9] binary\n",
      " z[1,10] binary\n",
      " z[2,10] binary\n",
      " z[3,10] binary\n",
      " z[4,10] binary\n",
      " z[5,10] binary\n",
      "\n"
     ]
    }
   ],
   "source": [
    "println(m)"
   ]
  },
  {
   "cell_type": "code",
   "execution_count": 7,
   "metadata": {
    "slideshow": {
     "slide_type": "slide"
    }
   },
   "outputs": [],
   "source": [
    "# alternative syntax\n",
    "product_quantities = Dict(\n",
    "    \"flour\" => 0.5, \"eggs\" => 3, \"milk\" => 0.2,\n",
    ")\n",
    "\n",
    "for (product, quantity) in product_quantities\n",
    "    @constraint(m, number_pancakes <= quantity * grocery_list[product])\n",
    "end"
   ]
  },
  {
   "cell_type": "code",
   "execution_count": 8,
   "metadata": {},
   "outputs": [
    {
     "data": {
      "text/latex": [
       "$$ 0.3 grocery_list_{flour} + grocery_list_{eggs} + 2 grocery_list_{milk} $$"
      ],
      "text/plain": [
       "0.3 grocery_list[flour] + grocery_list[eggs] + 2 grocery_list[milk]"
      ]
     },
     "execution_count": 8,
     "metadata": {},
     "output_type": "execute_result"
    }
   ],
   "source": [
    "product_prices = Dict(\n",
    "    \"flour\" => 0.3, \"eggs\" => 1, \"milk\" => 2,\n",
    ")\n",
    "\n",
    "@objective(m, Min,\n",
    "    sum(price * grocery_list[product] for (product, price) in product_prices)\n",
    ")"
   ]
  },
  {
   "cell_type": "markdown",
   "metadata": {
    "slideshow": {
     "slide_type": "slide"
    }
   },
   "source": [
    "## Setting an optimizer and solving"
   ]
  },
  {
   "cell_type": "code",
   "execution_count": 9,
   "metadata": {},
   "outputs": [
    {
     "ename": "NoOptimizer",
     "evalue": "NoOptimizer()",
     "output_type": "error",
     "traceback": [
      "NoOptimizer()",
      "",
      "Stacktrace:",
      " [1] optimize!(::Model, ::Nothing; bridge_constraints::Bool, ignore_optimize_hook::Bool, kwargs::Base.Iterators.Pairs{Union{},Union{},Tuple{},NamedTuple{(),Tuple{}}}) at /home/mbesancon/.julia/packages/JuMP/MnJQc/src/optimizer_interface.jl:127",
      " [2] optimize! at /home/mbesancon/.julia/packages/JuMP/MnJQc/src/optimizer_interface.jl:107 [inlined] (repeats 2 times)",
      " [3] top-level scope at In[9]:1"
     ]
    }
   ],
   "source": [
    "optimize!(m)"
   ]
  },
  {
   "cell_type": "code",
   "execution_count": 10,
   "metadata": {},
   "outputs": [
    {
     "ename": "MathOptInterface.UnsupportedConstraint{MathOptInterface.SingleVariable,MathOptInterface.ZeroOne}",
     "evalue": "MathOptInterface.UnsupportedConstraint{MathOptInterface.SingleVariable,MathOptInterface.ZeroOne}: `MathOptInterface.SingleVariable`-in-`MathOptInterface.ZeroOne` constraint is not supported by the model.",
     "output_type": "error",
     "traceback": [
      "MathOptInterface.UnsupportedConstraint{MathOptInterface.SingleVariable,MathOptInterface.ZeroOne}: `MathOptInterface.SingleVariable`-in-`MathOptInterface.ZeroOne` constraint is not supported by the model.",
      "",
      "Stacktrace:",
      " [1] bridge_type(::MathOptInterface.Bridges.LazyBridgeOptimizer{MathOptInterface.Utilities.CachingOptimizer{Clp.Optimizer,MathOptInterface.Utilities.UniversalFallback{MathOptInterface.Utilities.Model{Float64}}}}, ::Type{MathOptInterface.ZeroOne}) at /home/mbesancon/.julia/packages/MathOptInterface/bygN7/src/Bridges/lazy_bridge_optimizer.jl:323",
      " [2] concrete_bridge_type at /home/mbesancon/.julia/packages/MathOptInterface/bygN7/src/Bridges/Variable/bridge.jl:183 [inlined]",
      " [3] add_constrained_variable(::MathOptInterface.Bridges.LazyBridgeOptimizer{MathOptInterface.Utilities.CachingOptimizer{Clp.Optimizer,MathOptInterface.Utilities.UniversalFallback{MathOptInterface.Utilities.Model{Float64}}}}, ::MathOptInterface.ZeroOne) at /home/mbesancon/.julia/packages/MathOptInterface/bygN7/src/Bridges/bridge_optimizer.jl:1177",
      " [4] copy_single_variable(::MathOptInterface.Bridges.LazyBridgeOptimizer{MathOptInterface.Utilities.CachingOptimizer{Clp.Optimizer,MathOptInterface.Utilities.UniversalFallback{MathOptInterface.Utilities.Model{Float64}}}}, ::MathOptInterface.Utilities.UniversalFallback{MathOptInterface.Utilities.Model{Float64}}, ::MathOptInterface.Utilities.IndexMap, ::Type{MathOptInterface.ZeroOne}) at /home/mbesancon/.julia/packages/MathOptInterface/bygN7/src/Utilities/copy.jl:203",
      " [5] (::MathOptInterface.Utilities.var\"#131#139\"{MathOptInterface.Bridges.LazyBridgeOptimizer{MathOptInterface.Utilities.CachingOptimizer{Clp.Optimizer,MathOptInterface.Utilities.UniversalFallback{MathOptInterface.Utilities.Model{Float64}}}},MathOptInterface.Utilities.UniversalFallback{MathOptInterface.Utilities.Model{Float64}},MathOptInterface.Utilities.IndexMap})(::Type{T} where T) at ./none:0",
      " [6] iterate at ./generator.jl:47 [inlined]",
      " [7] collect_to!(::Array{Array{T,1} where T,1}, ::Base.Generator{Array{DataType,1},MathOptInterface.Utilities.var\"#131#139\"{MathOptInterface.Bridges.LazyBridgeOptimizer{MathOptInterface.Utilities.CachingOptimizer{Clp.Optimizer,MathOptInterface.Utilities.UniversalFallback{MathOptInterface.Utilities.Model{Float64}}}},MathOptInterface.Utilities.UniversalFallback{MathOptInterface.Utilities.Model{Float64}},MathOptInterface.Utilities.IndexMap}}, ::Int64, ::Int64) at ./array.jl:710",
      " [8] collect_to!(::Array{Array{MathOptInterface.ConstraintIndex{MathOptInterface.SingleVariable,MathOptInterface.GreaterThan{Float64}},1},1}, ::Base.Generator{Array{DataType,1},MathOptInterface.Utilities.var\"#131#139\"{MathOptInterface.Bridges.LazyBridgeOptimizer{MathOptInterface.Utilities.CachingOptimizer{Clp.Optimizer,MathOptInterface.Utilities.UniversalFallback{MathOptInterface.Utilities.Model{Float64}}}},MathOptInterface.Utilities.UniversalFallback{MathOptInterface.Utilities.Model{Float64}},MathOptInterface.Utilities.IndexMap}}, ::Int64, ::Int64) at ./array.jl:718",
      " [9] collect_to_with_first!(::Array{Array{MathOptInterface.ConstraintIndex{MathOptInterface.SingleVariable,MathOptInterface.GreaterThan{Float64}},1},1}, ::Array{MathOptInterface.ConstraintIndex{MathOptInterface.SingleVariable,MathOptInterface.GreaterThan{Float64}},1}, ::Base.Generator{Array{DataType,1},MathOptInterface.Utilities.var\"#131#139\"{MathOptInterface.Bridges.LazyBridgeOptimizer{MathOptInterface.Utilities.CachingOptimizer{Clp.Optimizer,MathOptInterface.Utilities.UniversalFallback{MathOptInterface.Utilities.Model{Float64}}}},MathOptInterface.Utilities.UniversalFallback{MathOptInterface.Utilities.Model{Float64}},MathOptInterface.Utilities.IndexMap}}, ::Int64) at ./array.jl:689",
      " [10] collect(::Base.Generator{Array{DataType,1},MathOptInterface.Utilities.var\"#131#139\"{MathOptInterface.Bridges.LazyBridgeOptimizer{MathOptInterface.Utilities.CachingOptimizer{Clp.Optimizer,MathOptInterface.Utilities.UniversalFallback{MathOptInterface.Utilities.Model{Float64}}}},MathOptInterface.Utilities.UniversalFallback{MathOptInterface.Utilities.Model{Float64}},MathOptInterface.Utilities.IndexMap}}) at ./array.jl:670",
      " [11] default_copy_to(::MathOptInterface.Bridges.LazyBridgeOptimizer{MathOptInterface.Utilities.CachingOptimizer{Clp.Optimizer,MathOptInterface.Utilities.UniversalFallback{MathOptInterface.Utilities.Model{Float64}}}}, ::MathOptInterface.Utilities.UniversalFallback{MathOptInterface.Utilities.Model{Float64}}, ::Bool) at /home/mbesancon/.julia/packages/MathOptInterface/bygN7/src/Utilities/copy.jl:325",
      " [12] #automatic_copy_to#113 at /home/mbesancon/.julia/packages/MathOptInterface/bygN7/src/Utilities/copy.jl:15 [inlined]",
      " [13] #copy_to#3 at /home/mbesancon/.julia/packages/MathOptInterface/bygN7/src/Bridges/bridge_optimizer.jl:268 [inlined]",
      " [14] attach_optimizer(::MathOptInterface.Utilities.CachingOptimizer{MathOptInterface.AbstractOptimizer,MathOptInterface.Utilities.UniversalFallback{MathOptInterface.Utilities.Model{Float64}}}) at /home/mbesancon/.julia/packages/MathOptInterface/bygN7/src/Utilities/cachingoptimizer.jl:149",
      " [15] optimize!(::MathOptInterface.Utilities.CachingOptimizer{MathOptInterface.AbstractOptimizer,MathOptInterface.Utilities.UniversalFallback{MathOptInterface.Utilities.Model{Float64}}}) at /home/mbesancon/.julia/packages/MathOptInterface/bygN7/src/Utilities/cachingoptimizer.jl:185",
      " [16] optimize!(::Model, ::Nothing; bridge_constraints::Bool, ignore_optimize_hook::Bool, kwargs::Base.Iterators.Pairs{Union{},Union{},Tuple{},NamedTuple{(),Tuple{}}}) at /home/mbesancon/.julia/packages/JuMP/MnJQc/src/optimizer_interface.jl:131",
      " [17] optimize! at /home/mbesancon/.julia/packages/JuMP/MnJQc/src/optimizer_interface.jl:107 [inlined] (repeats 2 times)",
      " [18] top-level scope at In[10]:2"
     ]
    }
   ],
   "source": [
    "set_optimizer(m, Clp.Optimizer)\n",
    "optimize!(m)"
   ]
  },
  {
   "cell_type": "code",
   "execution_count": 11,
   "metadata": {
    "slideshow": {
     "slide_type": "subslide"
    }
   },
   "outputs": [
    {
     "name": "stdout",
     "output_type": "stream",
     "text": [
      "Welcome to the CBC MILP Solver \n",
      "Version: 2.10.3 \n",
      "Build Date: Jan  1 1970 \n",
      "\n",
      "command line - Cbc_C_Interface -solve -quit (default strategy 1)\n",
      "Continuous objective value is 0 - 0.00 seconds\n",
      "Cgl0004I processed model has 0 rows, 0 columns (0 integer (0 of which binary)) and 0 elements\n",
      "Cbc3007W No integer variables - nothing to do\n",
      "Cuts at root node changed objective from 0 to -1.79769e+308\n",
      "Probing was tried 0 times and created 0 cuts of which 0 were active after adding rounds of cuts (0.000 seconds)\n",
      "Gomory was tried 0 times and created 0 cuts of which 0 were active after adding rounds of cuts (0.000 seconds)\n",
      "Knapsack was tried 0 times and created 0 cuts of which 0 were active after adding rounds of cuts (0.000 seconds)\n",
      "Clique was tried 0 times and created 0 cuts of which 0 were active after adding rounds of cuts (0.000 seconds)\n",
      "MixedIntegerRounding2 was tried 0 times and created 0 cuts of which 0 were active after adding rounds of cuts (0.000 seconds)\n",
      "FlowCover was tried 0 times and created 0 cuts of which 0 were active after adding rounds of cuts (0.000 seconds)\n",
      "TwoMirCuts was tried 0 times and created 0 cuts of which 0 were active after adding rounds of cuts (0.000 seconds)\n",
      "ZeroHalf was tried 0 times and created 0 cuts of which 0 were active after adding rounds of cuts (0.000 seconds)\n",
      "\n",
      "Result - Optimal solution found\n",
      "\n",
      "Objective value:                0.00000000\n",
      "Enumerated nodes:               0\n",
      "Total iterations:               1\n",
      "Time (CPU seconds):             0.00\n",
      "Time (Wallclock seconds):       0.00\n",
      "\n",
      "Total time (CPU seconds):       0.00   (Wallclock seconds):       0.00\n",
      "\n"
     ]
    }
   ],
   "source": [
    "# 3rd attempt, appropriate solver\n",
    "set_optimizer(m, Cbc.Optimizer)\n",
    "optimize!(m)"
   ]
  },
  {
   "cell_type": "code",
   "execution_count": 12,
   "metadata": {
    "slideshow": {
     "slide_type": "subslide"
    }
   },
   "outputs": [],
   "source": [
    "# reduce verbosity\n",
    "MOI.set(m, MOI.Silent(), true)\n",
    "optimize!(m)"
   ]
  },
  {
   "cell_type": "markdown",
   "metadata": {
    "slideshow": {
     "slide_type": "slide"
    }
   },
   "source": [
    "## Getting results"
   ]
  },
  {
   "cell_type": "code",
   "execution_count": 13,
   "metadata": {},
   "outputs": [
    {
     "name": "stdout",
     "output_type": "stream",
     "text": [
      "termination_status(m) = MathOptInterface.OPTIMAL\n",
      "primal_status(m) = MathOptInterface.FEASIBLE_POINT\n",
      "dual_status(m) = MathOptInterface.NO_SOLUTION\n"
     ]
    }
   ],
   "source": [
    "# did we solve it optimally\n",
    "@show termination_status(m)\n",
    "@show primal_status(m)\n",
    "@show dual_status(m);"
   ]
  },
  {
   "cell_type": "code",
   "execution_count": 14,
   "metadata": {},
   "outputs": [],
   "source": [
    "# single value\n",
    "JuMP.value(x)"
   ]
  },
  {
   "cell_type": "code",
   "execution_count": 36,
   "metadata": {},
   "outputs": [
    {
     "data": {
      "text/plain": [
       "0.0"
      ]
     },
     "execution_count": 36,
     "metadata": {},
     "output_type": "execute_result"
    }
   ],
   "source": [
    "# objective value\n",
    "JuMP.objective_value(m)"
   ]
  },
  {
   "cell_type": "code",
   "execution_count": 15,
   "metadata": {},
   "outputs": [
    {
     "data": {
      "text/plain": [
       "5×10 Array{Float64,2}:\n",
       " -0.0  -0.0  -0.0  -0.0  -0.0  -0.0  -0.0  -0.0  -0.0  -0.0\n",
       " -0.0  -0.0  -0.0  -0.0  -0.0  -0.0  -0.0  -0.0  -0.0  -0.0\n",
       " -0.0  -0.0  -0.0  -0.0  -0.0  -0.0  -0.0  -0.0  -0.0  -0.0\n",
       " -0.0  -0.0  -0.0  -0.0  -0.0  -0.0  -0.0  -0.0  -0.0  -0.0\n",
       " -0.0  -0.0  -0.0  -0.0  -0.0  -0.0  -0.0  -0.0  -0.0  -0.0"
      ]
     },
     "execution_count": 15,
     "metadata": {},
     "output_type": "execute_result"
    }
   ],
   "source": [
    "# . before () for element-wise call\n",
    "JuMP.value.(z)"
   ]
  },
  {
   "cell_type": "markdown",
   "metadata": {
    "slideshow": {
     "slide_type": "slide"
    }
   },
   "source": [
    "## Value of arbitrary expression"
   ]
  },
  {
   "cell_type": "code",
   "execution_count": 16,
   "metadata": {},
   "outputs": [
    {
     "data": {
      "text/latex": [
       "$$ x - z_{1,1} - z_{2,1} - z_{3,1} - z_{4,1} - z_{5,1} - z_{1,2} - z_{2,2} - z_{3,2} - z_{4,2} - z_{5,2} - z_{1,3} - z_{2,3} - z_{3,3} - z_{4,3} - z_{5,3} - z_{1,4} - z_{2,4} - z_{3,4} - z_{4,4} - z_{5,4} - z_{1,5} - z_{2,5} - z_{3,5} - z_{4,5} - z_{5,5} - z_{1,6} - z_{2,6} - z_{3,6} - z_{4,6} - z_{5,6} - z_{1,7} - z_{2,7} - z_{3,7} - z_{4,7} - z_{5,7} - z_{1,8} - z_{2,8} - z_{3,8} - z_{4,8} - z_{5,8} - z_{1,9} - z_{2,9} - z_{3,9} - z_{4,9} - z_{5,9} - z_{1,10} - z_{2,10} - z_{3,10} - z_{4,10} - z_{5,10} $$"
      ],
      "text/plain": [
       "x - z[1,1] - z[2,1] - z[3,1] - z[4,1] - z[5,1] - z[1,2] - z[2,2] - z[3,2] - z[4,2] - z[5,2] - z[1,3] - z[2,3] - z[3,3] - z[4,3] - z[5,3] - z[1,4] - z[2,4] - z[3,4] - z[4,4] - z[5,4] - z[1,5] - z[2,5] - z[3,5] - z[4,5] - z[5,5] - z[1,6] - z[2,6] - z[3,6] - z[4,6] - z[5,6] - z[1,7] - z[2,7] - z[3,7] - z[4,7] - z[5,7] - z[1,8] - z[2,8] - z[3,8] - z[4,8] - z[5,8] - z[1,9] - z[2,9] - z[3,9] - z[4,9] - z[5,9] - z[1,10] - z[2,10] - z[3,10] - z[4,10] - z[5,10]"
      ]
     },
     "execution_count": 16,
     "metadata": {},
     "output_type": "execute_result"
    }
   ],
   "source": [
    "x - sum(z)"
   ]
  },
  {
   "cell_type": "code",
   "execution_count": 17,
   "metadata": {},
   "outputs": [
    {
     "data": {
      "text/plain": [
       "0.0"
      ]
     },
     "execution_count": 17,
     "metadata": {},
     "output_type": "execute_result"
    }
   ],
   "source": [
    "JuMP.value(x - sum(z))"
   ]
  },
  {
   "cell_type": "code",
   "execution_count": 18,
   "metadata": {},
   "outputs": [
    {
     "data": {
      "text/plain": [
       "false"
      ]
     },
     "execution_count": 18,
     "metadata": {},
     "output_type": "execute_result"
    }
   ],
   "source": [
    "JuMP.has_duals(m)"
   ]
  },
  {
   "cell_type": "markdown",
   "metadata": {
    "slideshow": {
     "slide_type": "slide"
    }
   },
   "source": [
    "# Advanced examples"
   ]
  },
  {
   "cell_type": "markdown",
   "metadata": {
    "slideshow": {
     "slide_type": "slide"
    }
   },
   "source": [
    "## Regularized linear regression\n",
    "\n",
    "$a x_i + b = y_i + \\varepsilon_i$"
   ]
  },
  {
   "cell_type": "code",
   "execution_count": 19,
   "metadata": {},
   "outputs": [
    {
     "data": {
      "image/svg+xml": [
       "<?xml version=\"1.0\" encoding=\"utf-8\"?>\n",
       "<svg xmlns=\"http://www.w3.org/2000/svg\" xmlns:xlink=\"http://www.w3.org/1999/xlink\" width=\"600\" height=\"400\" viewBox=\"0 0 2400 1600\">\n",
       "<defs>\n",
       "  <clipPath id=\"clip970\">\n",
       "    <rect x=\"0\" y=\"0\" width=\"2400\" height=\"1600\"/>\n",
       "  </clipPath>\n",
       "</defs>\n",
       "<path clip-path=\"url(#clip970)\" d=\"\n",
       "M0 1600 L2400 1600 L2400 0 L0 0  Z\n",
       "  \" fill=\"#ffffff\" fill-rule=\"evenodd\" fill-opacity=\"1\"/>\n",
       "<defs>\n",
       "  <clipPath id=\"clip971\">\n",
       "    <rect x=\"480\" y=\"0\" width=\"1681\" height=\"1600\"/>\n",
       "  </clipPath>\n",
       "</defs>\n",
       "<path clip-path=\"url(#clip970)\" d=\"\n",
       "M125.835 1486.45 L2352.76 1486.45 L2352.76 47.2441 L125.835 47.2441  Z\n",
       "  \" fill=\"#ffffff\" fill-rule=\"evenodd\" fill-opacity=\"1\"/>\n",
       "<defs>\n",
       "  <clipPath id=\"clip972\">\n",
       "    <rect x=\"125\" y=\"47\" width=\"2228\" height=\"1440\"/>\n",
       "  </clipPath>\n",
       "</defs>\n",
       "<polyline clip-path=\"url(#clip972)\" style=\"stroke:#000000; stroke-width:2; stroke-opacity:0.1; fill:none\" points=\"\n",
       "  529.69,1486.45 529.69,47.2441 \n",
       "  \"/>\n",
       "<polyline clip-path=\"url(#clip972)\" style=\"stroke:#000000; stroke-width:2; stroke-opacity:0.1; fill:none\" points=\"\n",
       "  1024.64,1486.45 1024.64,47.2441 \n",
       "  \"/>\n",
       "<polyline clip-path=\"url(#clip972)\" style=\"stroke:#000000; stroke-width:2; stroke-opacity:0.1; fill:none\" points=\"\n",
       "  1519.59,1486.45 1519.59,47.2441 \n",
       "  \"/>\n",
       "<polyline clip-path=\"url(#clip972)\" style=\"stroke:#000000; stroke-width:2; stroke-opacity:0.1; fill:none\" points=\"\n",
       "  2014.54,1486.45 2014.54,47.2441 \n",
       "  \"/>\n",
       "<polyline clip-path=\"url(#clip972)\" style=\"stroke:#000000; stroke-width:2; stroke-opacity:0.1; fill:none\" points=\"\n",
       "  125.835,1354.52 2352.76,1354.52 \n",
       "  \"/>\n",
       "<polyline clip-path=\"url(#clip972)\" style=\"stroke:#000000; stroke-width:2; stroke-opacity:0.1; fill:none\" points=\"\n",
       "  125.835,1070.47 2352.76,1070.47 \n",
       "  \"/>\n",
       "<polyline clip-path=\"url(#clip972)\" style=\"stroke:#000000; stroke-width:2; stroke-opacity:0.1; fill:none\" points=\"\n",
       "  125.835,786.413 2352.76,786.413 \n",
       "  \"/>\n",
       "<polyline clip-path=\"url(#clip972)\" style=\"stroke:#000000; stroke-width:2; stroke-opacity:0.1; fill:none\" points=\"\n",
       "  125.835,502.36 2352.76,502.36 \n",
       "  \"/>\n",
       "<polyline clip-path=\"url(#clip972)\" style=\"stroke:#000000; stroke-width:2; stroke-opacity:0.1; fill:none\" points=\"\n",
       "  125.835,218.307 2352.76,218.307 \n",
       "  \"/>\n",
       "<polyline clip-path=\"url(#clip970)\" style=\"stroke:#000000; stroke-width:4; stroke-opacity:1; fill:none\" points=\"\n",
       "  125.835,1486.45 2352.76,1486.45 \n",
       "  \"/>\n",
       "<polyline clip-path=\"url(#clip970)\" style=\"stroke:#000000; stroke-width:4; stroke-opacity:1; fill:none\" points=\"\n",
       "  125.835,1486.45 125.835,47.2441 \n",
       "  \"/>\n",
       "<polyline clip-path=\"url(#clip970)\" style=\"stroke:#000000; stroke-width:4; stroke-opacity:1; fill:none\" points=\"\n",
       "  529.69,1486.45 529.69,1469.18 \n",
       "  \"/>\n",
       "<polyline clip-path=\"url(#clip970)\" style=\"stroke:#000000; stroke-width:4; stroke-opacity:1; fill:none\" points=\"\n",
       "  1024.64,1486.45 1024.64,1469.18 \n",
       "  \"/>\n",
       "<polyline clip-path=\"url(#clip970)\" style=\"stroke:#000000; stroke-width:4; stroke-opacity:1; fill:none\" points=\"\n",
       "  1519.59,1486.45 1519.59,1469.18 \n",
       "  \"/>\n",
       "<polyline clip-path=\"url(#clip970)\" style=\"stroke:#000000; stroke-width:4; stroke-opacity:1; fill:none\" points=\"\n",
       "  2014.54,1486.45 2014.54,1469.18 \n",
       "  \"/>\n",
       "<polyline clip-path=\"url(#clip970)\" style=\"stroke:#000000; stroke-width:4; stroke-opacity:1; fill:none\" points=\"\n",
       "  125.835,1354.52 152.558,1354.52 \n",
       "  \"/>\n",
       "<polyline clip-path=\"url(#clip970)\" style=\"stroke:#000000; stroke-width:4; stroke-opacity:1; fill:none\" points=\"\n",
       "  125.835,1070.47 152.558,1070.47 \n",
       "  \"/>\n",
       "<polyline clip-path=\"url(#clip970)\" style=\"stroke:#000000; stroke-width:4; stroke-opacity:1; fill:none\" points=\"\n",
       "  125.835,786.413 152.558,786.413 \n",
       "  \"/>\n",
       "<polyline clip-path=\"url(#clip970)\" style=\"stroke:#000000; stroke-width:4; stroke-opacity:1; fill:none\" points=\"\n",
       "  125.835,502.36 152.558,502.36 \n",
       "  \"/>\n",
       "<polyline clip-path=\"url(#clip970)\" style=\"stroke:#000000; stroke-width:4; stroke-opacity:1; fill:none\" points=\"\n",
       "  125.835,218.307 152.558,218.307 \n",
       "  \"/>\n",
       "<path clip-path=\"url(#clip970)\" d=\"M 0 0 M510.559 1525.04 L523.035 1525.04 L523.035 1528.83 L510.559 1528.83 L510.559 1525.04 Z\" fill=\"#000000\" fill-rule=\"evenodd\" fill-opacity=\"1\" /><path clip-path=\"url(#clip970)\" d=\"M 0 0 M528.915 1535.98 L536.554 1535.98 L536.554 1509.62 L528.244 1511.29 L528.244 1507.03 L536.508 1505.36 L541.183 1505.36 L541.183 1535.98 L548.822 1535.98 L548.822 1539.92 L528.915 1539.92 L528.915 1535.98 Z\" fill=\"#000000\" fill-rule=\"evenodd\" fill-opacity=\"1\" /><path clip-path=\"url(#clip970)\" d=\"M 0 0 M1024.64 1508.44 Q1021.03 1508.44 1019.2 1512 Q1017.4 1515.55 1017.4 1522.67 Q1017.4 1529.78 1019.2 1533.35 Q1021.03 1536.89 1024.64 1536.89 Q1028.28 1536.89 1030.08 1533.35 Q1031.91 1529.78 1031.91 1522.67 Q1031.91 1515.55 1030.08 1512 Q1028.28 1508.44 1024.64 1508.44 M1024.64 1504.73 Q1030.45 1504.73 1033.51 1509.34 Q1036.59 1513.92 1036.59 1522.67 Q1036.59 1531.4 1033.51 1536.01 Q1030.45 1540.59 1024.64 1540.59 Q1018.83 1540.59 1015.75 1536.01 Q1012.7 1531.4 1012.7 1522.67 Q1012.7 1513.92 1015.75 1509.34 Q1018.83 1504.73 1024.64 1504.73 Z\" fill=\"#000000\" fill-rule=\"evenodd\" fill-opacity=\"1\" /><path clip-path=\"url(#clip970)\" d=\"M 0 0 M1509.97 1535.98 L1517.61 1535.98 L1517.61 1509.62 L1509.3 1511.29 L1509.3 1507.03 L1517.57 1505.36 L1522.24 1505.36 L1522.24 1535.98 L1529.88 1535.98 L1529.88 1539.92 L1509.97 1539.92 L1509.97 1535.98 Z\" fill=\"#000000\" fill-rule=\"evenodd\" fill-opacity=\"1\" /><path clip-path=\"url(#clip970)\" d=\"M 0 0 M2009.2 1535.98 L2025.52 1535.98 L2025.52 1539.92 L2003.57 1539.92 L2003.57 1535.98 Q2006.23 1533.23 2010.82 1528.6 Q2015.42 1523.95 2016.6 1522.61 Q2018.85 1520.08 2019.73 1518.35 Q2020.63 1516.59 2020.63 1514.9 Q2020.63 1512.14 2018.69 1510.41 Q2016.77 1508.67 2013.66 1508.67 Q2011.46 1508.67 2009.01 1509.43 Q2006.58 1510.2 2003.8 1511.75 L2003.8 1507.03 Q2006.63 1505.89 2009.08 1505.31 Q2011.53 1504.73 2013.57 1504.73 Q2018.94 1504.73 2022.14 1507.42 Q2025.33 1510.11 2025.33 1514.6 Q2025.33 1516.73 2024.52 1518.65 Q2023.73 1520.54 2021.63 1523.14 Q2021.05 1523.81 2017.95 1527.03 Q2014.84 1530.22 2009.2 1535.98 Z\" fill=\"#000000\" fill-rule=\"evenodd\" fill-opacity=\"1\" /><path clip-path=\"url(#clip970)\" d=\"M 0 0 M62.9921 1356.91 L75.4689 1356.91 L75.4689 1360.71 L62.9921 1360.71 L62.9921 1356.91 Z\" fill=\"#000000\" fill-rule=\"evenodd\" fill-opacity=\"1\" /><path clip-path=\"url(#clip970)\" d=\"M 0 0 M94.7049 1353.16 Q98.0614 1353.88 99.9364 1356.15 Q101.835 1358.42 101.835 1361.75 Q101.835 1366.87 98.316 1369.67 Q94.7975 1372.47 88.3161 1372.47 Q86.1402 1372.47 83.8253 1372.03 Q81.5337 1371.61 79.08 1370.76 L79.08 1366.24 Q81.0244 1367.38 83.3392 1367.96 Q85.654 1368.54 88.1772 1368.54 Q92.5753 1368.54 94.867 1366.8 Q97.1818 1365.06 97.1818 1361.75 Q97.1818 1358.7 95.029 1356.98 Q92.8994 1355.25 89.0799 1355.25 L85.0522 1355.25 L85.0522 1351.41 L89.2651 1351.41 Q92.7142 1351.41 94.5429 1350.04 Q96.3716 1348.65 96.3716 1346.06 Q96.3716 1343.4 94.4734 1341.98 Q92.5984 1340.55 89.0799 1340.55 Q87.1587 1340.55 84.9596 1340.97 Q82.7605 1341.38 80.1217 1342.26 L80.1217 1338.1 Q82.7837 1337.35 85.0985 1336.98 Q87.4364 1336.61 89.4966 1336.61 Q94.8207 1336.61 97.9225 1339.04 Q101.024 1341.45 101.024 1345.57 Q101.024 1348.44 99.3808 1350.43 Q97.7373 1352.4 94.7049 1353.16 Z\" fill=\"#000000\" fill-rule=\"evenodd\" fill-opacity=\"1\" /><path clip-path=\"url(#clip970)\" d=\"M 0 0 M89.8901 1056.26 Q86.279 1056.26 84.4503 1059.83 Q82.6448 1063.37 82.6448 1070.5 Q82.6448 1077.61 84.4503 1081.17 Q86.279 1084.71 89.8901 1084.71 Q93.5244 1084.71 95.3299 1081.17 Q97.1586 1077.61 97.1586 1070.5 Q97.1586 1063.37 95.3299 1059.83 Q93.5244 1056.26 89.8901 1056.26 M89.8901 1052.56 Q95.7003 1052.56 98.7558 1057.17 Q101.835 1061.75 101.835 1070.5 Q101.835 1079.23 98.7558 1083.83 Q95.7003 1088.42 89.8901 1088.42 Q84.08 1088.42 81.0013 1083.83 Q77.9457 1079.23 77.9457 1070.5 Q77.9457 1061.75 81.0013 1057.17 Q84.08 1052.56 89.8901 1052.56 Z\" fill=\"#000000\" fill-rule=\"evenodd\" fill-opacity=\"1\" /><path clip-path=\"url(#clip970)\" d=\"M 0 0 M94.7049 785.059 Q98.0614 785.777 99.9364 788.045 Q101.835 790.314 101.835 793.647 Q101.835 798.763 98.316 801.564 Q94.7975 804.364 88.3161 804.364 Q86.1402 804.364 83.8253 803.925 Q81.5337 803.508 79.08 802.651 L79.08 798.138 Q81.0244 799.272 83.3392 799.851 Q85.654 800.429 88.1772 800.429 Q92.5753 800.429 94.867 798.693 Q97.1818 796.957 97.1818 793.647 Q97.1818 790.591 95.029 788.878 Q92.8994 787.142 89.0799 787.142 L85.0522 787.142 L85.0522 783.3 L89.2651 783.3 Q92.7142 783.3 94.5429 781.934 Q96.3716 780.545 96.3716 777.953 Q96.3716 775.29 94.4734 773.878 Q92.5984 772.443 89.0799 772.443 Q87.1587 772.443 84.9596 772.86 Q82.7605 773.277 80.1217 774.156 L80.1217 769.99 Q82.7837 769.249 85.0985 768.878 Q87.4364 768.508 89.4966 768.508 Q94.8207 768.508 97.9225 770.939 Q101.024 773.346 101.024 777.466 Q101.024 780.337 99.3808 782.327 Q97.7373 784.295 94.7049 785.059 Z\" fill=\"#000000\" fill-rule=\"evenodd\" fill-opacity=\"1\" /><path clip-path=\"url(#clip970)\" d=\"M 0 0 M90.3068 500.497 Q87.1587 500.497 85.3068 502.649 Q83.4781 504.802 83.4781 508.552 Q83.4781 512.279 85.3068 514.455 Q87.1587 516.608 90.3068 516.608 Q93.4549 516.608 95.2836 514.455 Q97.1355 512.279 97.1355 508.552 Q97.1355 504.802 95.2836 502.649 Q93.4549 500.497 90.3068 500.497 M99.5892 485.844 L99.5892 490.103 Q97.8299 489.27 96.0244 488.83 Q94.242 488.39 92.4827 488.39 Q87.8531 488.39 85.3994 491.515 Q82.9689 494.64 82.6217 500.96 Q83.9874 498.946 86.0476 497.881 Q88.1077 496.793 90.5846 496.793 Q95.7929 496.793 98.8021 499.964 Q101.835 503.112 101.835 508.552 Q101.835 513.876 98.6864 517.094 Q95.5382 520.311 90.3068 520.311 Q84.3115 520.311 81.1402 515.728 Q77.9689 511.122 77.9689 502.395 Q77.9689 494.2 81.8578 489.339 Q85.7466 484.455 92.2975 484.455 Q94.0568 484.455 95.8392 484.802 Q97.6447 485.15 99.5892 485.844 Z\" fill=\"#000000\" fill-rule=\"evenodd\" fill-opacity=\"1\" /><path clip-path=\"url(#clip970)\" d=\"M 0 0 M80.2143 234.87 L80.2143 230.61 Q81.9735 231.444 83.7791 231.883 Q85.5846 232.323 87.3207 232.323 Q91.9503 232.323 94.3808 229.221 Q96.8345 226.096 97.1818 219.754 Q95.8392 221.745 93.779 222.809 Q91.7188 223.874 89.2188 223.874 Q84.0337 223.874 81.0013 220.749 Q77.992 217.601 77.992 212.161 Q77.992 206.837 81.1402 203.62 Q84.2883 200.402 89.5198 200.402 Q95.5151 200.402 98.6632 205.009 Q101.835 209.592 101.835 218.342 Q101.835 226.513 97.9456 231.397 Q94.0799 236.258 87.529 236.258 Q85.7698 236.258 83.9642 235.911 Q82.1587 235.564 80.2143 234.87 M89.5198 220.217 Q92.6679 220.217 94.4966 218.064 Q96.3484 215.911 96.3484 212.161 Q96.3484 208.434 94.4966 206.282 Q92.6679 204.106 89.5198 204.106 Q86.3716 204.106 84.5198 206.282 Q82.6911 208.434 82.6911 212.161 Q82.6911 215.911 84.5198 218.064 Q86.3716 220.217 89.5198 220.217 Z\" fill=\"#000000\" fill-rule=\"evenodd\" fill-opacity=\"1\" /><circle clip-path=\"url(#clip972)\" cx=\"557.886\" cy=\"1150.93\" r=\"14\" fill=\"#009af9\" fill-rule=\"evenodd\" fill-opacity=\"1\" stroke=\"#000000\" stroke-opacity=\"1\" stroke-width=\"3.2\"/>\n",
       "<circle clip-path=\"url(#clip972)\" cx=\"1571.31\" cy=\"750.735\" r=\"14\" fill=\"#009af9\" fill-rule=\"evenodd\" fill-opacity=\"1\" stroke=\"#000000\" stroke-opacity=\"1\" stroke-width=\"3.2\"/>\n",
       "<circle clip-path=\"url(#clip972)\" cx=\"846.67\" cy=\"850.621\" r=\"14\" fill=\"#009af9\" fill-rule=\"evenodd\" fill-opacity=\"1\" stroke=\"#000000\" stroke-opacity=\"1\" stroke-width=\"3.2\"/>\n",
       "<circle clip-path=\"url(#clip972)\" cx=\"334.309\" cy=\"1028.03\" r=\"14\" fill=\"#009af9\" fill-rule=\"evenodd\" fill-opacity=\"1\" stroke=\"#000000\" stroke-opacity=\"1\" stroke-width=\"3.2\"/>\n",
       "<circle clip-path=\"url(#clip972)\" cx=\"932.013\" cy=\"807.309\" r=\"14\" fill=\"#009af9\" fill-rule=\"evenodd\" fill-opacity=\"1\" stroke=\"#000000\" stroke-opacity=\"1\" stroke-width=\"3.2\"/>\n",
       "<circle clip-path=\"url(#clip972)\" cx=\"2289.73\" cy=\"87.9763\" r=\"14\" fill=\"#009af9\" fill-rule=\"evenodd\" fill-opacity=\"1\" stroke=\"#000000\" stroke-opacity=\"1\" stroke-width=\"3.2\"/>\n",
       "<circle clip-path=\"url(#clip972)\" cx=\"1143.88\" cy=\"825.955\" r=\"14\" fill=\"#009af9\" fill-rule=\"evenodd\" fill-opacity=\"1\" stroke=\"#000000\" stroke-opacity=\"1\" stroke-width=\"3.2\"/>\n",
       "<circle clip-path=\"url(#clip972)\" cx=\"1547.73\" cy=\"394.624\" r=\"14\" fill=\"#009af9\" fill-rule=\"evenodd\" fill-opacity=\"1\" stroke=\"#000000\" stroke-opacity=\"1\" stroke-width=\"3.2\"/>\n",
       "<circle clip-path=\"url(#clip972)\" cx=\"188.861\" cy=\"1445.72\" r=\"14\" fill=\"#009af9\" fill-rule=\"evenodd\" fill-opacity=\"1\" stroke=\"#000000\" stroke-opacity=\"1\" stroke-width=\"3.2\"/>\n",
       "<circle clip-path=\"url(#clip972)\" cx=\"544.435\" cy=\"997.476\" r=\"14\" fill=\"#009af9\" fill-rule=\"evenodd\" fill-opacity=\"1\" stroke=\"#000000\" stroke-opacity=\"1\" stroke-width=\"3.2\"/>\n",
       "<circle clip-path=\"url(#clip972)\" cx=\"501.16\" cy=\"1008.31\" r=\"14\" fill=\"#009af9\" fill-rule=\"evenodd\" fill-opacity=\"1\" stroke=\"#000000\" stroke-opacity=\"1\" stroke-width=\"3.2\"/>\n",
       "<circle clip-path=\"url(#clip972)\" cx=\"1613.59\" cy=\"372.061\" r=\"14\" fill=\"#009af9\" fill-rule=\"evenodd\" fill-opacity=\"1\" stroke=\"#000000\" stroke-opacity=\"1\" stroke-width=\"3.2\"/>\n",
       "<circle clip-path=\"url(#clip972)\" cx=\"1229.33\" cy=\"591.77\" r=\"14\" fill=\"#009af9\" fill-rule=\"evenodd\" fill-opacity=\"1\" stroke=\"#000000\" stroke-opacity=\"1\" stroke-width=\"3.2\"/>\n",
       "<circle clip-path=\"url(#clip972)\" cx=\"740.604\" cy=\"1015.65\" r=\"14\" fill=\"#009af9\" fill-rule=\"evenodd\" fill-opacity=\"1\" stroke=\"#000000\" stroke-opacity=\"1\" stroke-width=\"3.2\"/>\n",
       "<circle clip-path=\"url(#clip972)\" cx=\"1011.43\" cy=\"808.36\" r=\"14\" fill=\"#009af9\" fill-rule=\"evenodd\" fill-opacity=\"1\" stroke=\"#000000\" stroke-opacity=\"1\" stroke-width=\"3.2\"/>\n",
       "<circle clip-path=\"url(#clip972)\" cx=\"720.677\" cy=\"965.754\" r=\"14\" fill=\"#009af9\" fill-rule=\"evenodd\" fill-opacity=\"1\" stroke=\"#000000\" stroke-opacity=\"1\" stroke-width=\"3.2\"/>\n",
       "<circle clip-path=\"url(#clip972)\" cx=\"313.159\" cy=\"1208.69\" r=\"14\" fill=\"#009af9\" fill-rule=\"evenodd\" fill-opacity=\"1\" stroke=\"#000000\" stroke-opacity=\"1\" stroke-width=\"3.2\"/>\n",
       "<circle clip-path=\"url(#clip972)\" cx=\"1067.94\" cy=\"785.853\" r=\"14\" fill=\"#009af9\" fill-rule=\"evenodd\" fill-opacity=\"1\" stroke=\"#000000\" stroke-opacity=\"1\" stroke-width=\"3.2\"/>\n",
       "<circle clip-path=\"url(#clip972)\" cx=\"1009.5\" cy=\"893.987\" r=\"14\" fill=\"#009af9\" fill-rule=\"evenodd\" fill-opacity=\"1\" stroke=\"#000000\" stroke-opacity=\"1\" stroke-width=\"3.2\"/>\n",
       "<circle clip-path=\"url(#clip972)\" cx=\"940.068\" cy=\"907.991\" r=\"14\" fill=\"#009af9\" fill-rule=\"evenodd\" fill-opacity=\"1\" stroke=\"#000000\" stroke-opacity=\"1\" stroke-width=\"3.2\"/>\n",
       "<circle clip-path=\"url(#clip972)\" cx=\"1564.97\" cy=\"501.554\" r=\"14\" fill=\"#009af9\" fill-rule=\"evenodd\" fill-opacity=\"1\" stroke=\"#000000\" stroke-opacity=\"1\" stroke-width=\"3.2\"/>\n",
       "<circle clip-path=\"url(#clip972)\" cx=\"2018.06\" cy=\"318.969\" r=\"14\" fill=\"#009af9\" fill-rule=\"evenodd\" fill-opacity=\"1\" stroke=\"#000000\" stroke-opacity=\"1\" stroke-width=\"3.2\"/>\n",
       "<circle clip-path=\"url(#clip972)\" cx=\"333.637\" cy=\"1189.28\" r=\"14\" fill=\"#009af9\" fill-rule=\"evenodd\" fill-opacity=\"1\" stroke=\"#000000\" stroke-opacity=\"1\" stroke-width=\"3.2\"/>\n",
       "<circle clip-path=\"url(#clip972)\" cx=\"589.014\" cy=\"1037.56\" r=\"14\" fill=\"#009af9\" fill-rule=\"evenodd\" fill-opacity=\"1\" stroke=\"#000000\" stroke-opacity=\"1\" stroke-width=\"3.2\"/>\n",
       "<circle clip-path=\"url(#clip972)\" cx=\"1438.88\" cy=\"462.2\" r=\"14\" fill=\"#009af9\" fill-rule=\"evenodd\" fill-opacity=\"1\" stroke=\"#000000\" stroke-opacity=\"1\" stroke-width=\"3.2\"/>\n",
       "<circle clip-path=\"url(#clip972)\" cx=\"1425.01\" cy=\"655.801\" r=\"14\" fill=\"#009af9\" fill-rule=\"evenodd\" fill-opacity=\"1\" stroke=\"#000000\" stroke-opacity=\"1\" stroke-width=\"3.2\"/>\n",
       "<circle clip-path=\"url(#clip972)\" cx=\"1436.24\" cy=\"515.01\" r=\"14\" fill=\"#009af9\" fill-rule=\"evenodd\" fill-opacity=\"1\" stroke=\"#000000\" stroke-opacity=\"1\" stroke-width=\"3.2\"/>\n",
       "<circle clip-path=\"url(#clip972)\" cx=\"560.311\" cy=\"875.93\" r=\"14\" fill=\"#009af9\" fill-rule=\"evenodd\" fill-opacity=\"1\" stroke=\"#000000\" stroke-opacity=\"1\" stroke-width=\"3.2\"/>\n",
       "<circle clip-path=\"url(#clip972)\" cx=\"1723.46\" cy=\"502.109\" r=\"14\" fill=\"#009af9\" fill-rule=\"evenodd\" fill-opacity=\"1\" stroke=\"#000000\" stroke-opacity=\"1\" stroke-width=\"3.2\"/>\n",
       "<circle clip-path=\"url(#clip972)\" cx=\"396.541\" cy=\"1066.3\" r=\"14\" fill=\"#009af9\" fill-rule=\"evenodd\" fill-opacity=\"1\" stroke=\"#000000\" stroke-opacity=\"1\" stroke-width=\"3.2\"/>\n",
       "<circle clip-path=\"url(#clip972)\" cx=\"858.338\" cy=\"918.495\" r=\"14\" fill=\"#009af9\" fill-rule=\"evenodd\" fill-opacity=\"1\" stroke=\"#000000\" stroke-opacity=\"1\" stroke-width=\"3.2\"/>\n",
       "<circle clip-path=\"url(#clip972)\" cx=\"1202.08\" cy=\"684.748\" r=\"14\" fill=\"#009af9\" fill-rule=\"evenodd\" fill-opacity=\"1\" stroke=\"#000000\" stroke-opacity=\"1\" stroke-width=\"3.2\"/>\n",
       "<circle clip-path=\"url(#clip972)\" cx=\"1238.88\" cy=\"542.155\" r=\"14\" fill=\"#009af9\" fill-rule=\"evenodd\" fill-opacity=\"1\" stroke=\"#000000\" stroke-opacity=\"1\" stroke-width=\"3.2\"/>\n",
       "<circle clip-path=\"url(#clip972)\" cx=\"658.555\" cy=\"968.444\" r=\"14\" fill=\"#009af9\" fill-rule=\"evenodd\" fill-opacity=\"1\" stroke=\"#000000\" stroke-opacity=\"1\" stroke-width=\"3.2\"/>\n",
       "<circle clip-path=\"url(#clip972)\" cx=\"1194.22\" cy=\"664.412\" r=\"14\" fill=\"#009af9\" fill-rule=\"evenodd\" fill-opacity=\"1\" stroke=\"#000000\" stroke-opacity=\"1\" stroke-width=\"3.2\"/>\n",
       "<circle clip-path=\"url(#clip972)\" cx=\"1101.93\" cy=\"701.543\" r=\"14\" fill=\"#009af9\" fill-rule=\"evenodd\" fill-opacity=\"1\" stroke=\"#000000\" stroke-opacity=\"1\" stroke-width=\"3.2\"/>\n",
       "<circle clip-path=\"url(#clip972)\" cx=\"504.244\" cy=\"976.555\" r=\"14\" fill=\"#009af9\" fill-rule=\"evenodd\" fill-opacity=\"1\" stroke=\"#000000\" stroke-opacity=\"1\" stroke-width=\"3.2\"/>\n",
       "<circle clip-path=\"url(#clip972)\" cx=\"1901.88\" cy=\"465.174\" r=\"14\" fill=\"#009af9\" fill-rule=\"evenodd\" fill-opacity=\"1\" stroke=\"#000000\" stroke-opacity=\"1\" stroke-width=\"3.2\"/>\n",
       "<circle clip-path=\"url(#clip972)\" cx=\"1465.16\" cy=\"528.809\" r=\"14\" fill=\"#009af9\" fill-rule=\"evenodd\" fill-opacity=\"1\" stroke=\"#000000\" stroke-opacity=\"1\" stroke-width=\"3.2\"/>\n",
       "<circle clip-path=\"url(#clip972)\" cx=\"545.145\" cy=\"1018.29\" r=\"14\" fill=\"#009af9\" fill-rule=\"evenodd\" fill-opacity=\"1\" stroke=\"#000000\" stroke-opacity=\"1\" stroke-width=\"3.2\"/>\n",
       "<circle clip-path=\"url(#clip972)\" cx=\"690.098\" cy=\"864.684\" r=\"14\" fill=\"#009af9\" fill-rule=\"evenodd\" fill-opacity=\"1\" stroke=\"#000000\" stroke-opacity=\"1\" stroke-width=\"3.2\"/>\n",
       "<circle clip-path=\"url(#clip972)\" cx=\"1561.04\" cy=\"500.311\" r=\"14\" fill=\"#009af9\" fill-rule=\"evenodd\" fill-opacity=\"1\" stroke=\"#000000\" stroke-opacity=\"1\" stroke-width=\"3.2\"/>\n",
       "<circle clip-path=\"url(#clip972)\" cx=\"1289.39\" cy=\"722.78\" r=\"14\" fill=\"#009af9\" fill-rule=\"evenodd\" fill-opacity=\"1\" stroke=\"#000000\" stroke-opacity=\"1\" stroke-width=\"3.2\"/>\n",
       "<circle clip-path=\"url(#clip972)\" cx=\"699.399\" cy=\"807.84\" r=\"14\" fill=\"#009af9\" fill-rule=\"evenodd\" fill-opacity=\"1\" stroke=\"#000000\" stroke-opacity=\"1\" stroke-width=\"3.2\"/>\n",
       "<circle clip-path=\"url(#clip972)\" cx=\"1212.88\" cy=\"612.493\" r=\"14\" fill=\"#009af9\" fill-rule=\"evenodd\" fill-opacity=\"1\" stroke=\"#000000\" stroke-opacity=\"1\" stroke-width=\"3.2\"/>\n",
       "<circle clip-path=\"url(#clip972)\" cx=\"1206.36\" cy=\"634.469\" r=\"14\" fill=\"#009af9\" fill-rule=\"evenodd\" fill-opacity=\"1\" stroke=\"#000000\" stroke-opacity=\"1\" stroke-width=\"3.2\"/>\n",
       "<circle clip-path=\"url(#clip972)\" cx=\"768.431\" cy=\"899.366\" r=\"14\" fill=\"#009af9\" fill-rule=\"evenodd\" fill-opacity=\"1\" stroke=\"#000000\" stroke-opacity=\"1\" stroke-width=\"3.2\"/>\n",
       "<circle clip-path=\"url(#clip972)\" cx=\"1130.73\" cy=\"722.248\" r=\"14\" fill=\"#009af9\" fill-rule=\"evenodd\" fill-opacity=\"1\" stroke=\"#000000\" stroke-opacity=\"1\" stroke-width=\"3.2\"/>\n",
       "<circle clip-path=\"url(#clip972)\" cx=\"657.4\" cy=\"949.581\" r=\"14\" fill=\"#009af9\" fill-rule=\"evenodd\" fill-opacity=\"1\" stroke=\"#000000\" stroke-opacity=\"1\" stroke-width=\"3.2\"/>\n",
       "<circle clip-path=\"url(#clip972)\" cx=\"1049.09\" cy=\"649.475\" r=\"14\" fill=\"#009af9\" fill-rule=\"evenodd\" fill-opacity=\"1\" stroke=\"#000000\" stroke-opacity=\"1\" stroke-width=\"3.2\"/>\n",
       "<circle clip-path=\"url(#clip972)\" cx=\"1014.89\" cy=\"791.631\" r=\"14\" fill=\"#009af9\" fill-rule=\"evenodd\" fill-opacity=\"1\" stroke=\"#000000\" stroke-opacity=\"1\" stroke-width=\"3.2\"/>\n",
       "<circle clip-path=\"url(#clip972)\" cx=\"552.429\" cy=\"970.065\" r=\"14\" fill=\"#009af9\" fill-rule=\"evenodd\" fill-opacity=\"1\" stroke=\"#000000\" stroke-opacity=\"1\" stroke-width=\"3.2\"/>\n",
       "<circle clip-path=\"url(#clip972)\" cx=\"1764.97\" cy=\"622.895\" r=\"14\" fill=\"#009af9\" fill-rule=\"evenodd\" fill-opacity=\"1\" stroke=\"#000000\" stroke-opacity=\"1\" stroke-width=\"3.2\"/>\n",
       "<circle clip-path=\"url(#clip972)\" cx=\"1177.92\" cy=\"795.535\" r=\"14\" fill=\"#009af9\" fill-rule=\"evenodd\" fill-opacity=\"1\" stroke=\"#000000\" stroke-opacity=\"1\" stroke-width=\"3.2\"/>\n",
       "<circle clip-path=\"url(#clip972)\" cx=\"1379.83\" cy=\"607.601\" r=\"14\" fill=\"#009af9\" fill-rule=\"evenodd\" fill-opacity=\"1\" stroke=\"#000000\" stroke-opacity=\"1\" stroke-width=\"3.2\"/>\n",
       "<circle clip-path=\"url(#clip972)\" cx=\"1379.74\" cy=\"634.694\" r=\"14\" fill=\"#009af9\" fill-rule=\"evenodd\" fill-opacity=\"1\" stroke=\"#000000\" stroke-opacity=\"1\" stroke-width=\"3.2\"/>\n",
       "<circle clip-path=\"url(#clip972)\" cx=\"969.39\" cy=\"834.263\" r=\"14\" fill=\"#009af9\" fill-rule=\"evenodd\" fill-opacity=\"1\" stroke=\"#000000\" stroke-opacity=\"1\" stroke-width=\"3.2\"/>\n",
       "<circle clip-path=\"url(#clip972)\" cx=\"1054.1\" cy=\"598.655\" r=\"14\" fill=\"#009af9\" fill-rule=\"evenodd\" fill-opacity=\"1\" stroke=\"#000000\" stroke-opacity=\"1\" stroke-width=\"3.2\"/>\n",
       "<circle clip-path=\"url(#clip972)\" cx=\"917.476\" cy=\"851.141\" r=\"14\" fill=\"#009af9\" fill-rule=\"evenodd\" fill-opacity=\"1\" stroke=\"#000000\" stroke-opacity=\"1\" stroke-width=\"3.2\"/>\n",
       "<circle clip-path=\"url(#clip972)\" cx=\"661.387\" cy=\"845.468\" r=\"14\" fill=\"#009af9\" fill-rule=\"evenodd\" fill-opacity=\"1\" stroke=\"#000000\" stroke-opacity=\"1\" stroke-width=\"3.2\"/>\n",
       "<circle clip-path=\"url(#clip972)\" cx=\"1379.67\" cy=\"668.459\" r=\"14\" fill=\"#009af9\" fill-rule=\"evenodd\" fill-opacity=\"1\" stroke=\"#000000\" stroke-opacity=\"1\" stroke-width=\"3.2\"/>\n",
       "<circle clip-path=\"url(#clip972)\" cx=\"1028.61\" cy=\"791.082\" r=\"14\" fill=\"#009af9\" fill-rule=\"evenodd\" fill-opacity=\"1\" stroke=\"#000000\" stroke-opacity=\"1\" stroke-width=\"3.2\"/>\n",
       "<circle clip-path=\"url(#clip972)\" cx=\"835.477\" cy=\"883.596\" r=\"14\" fill=\"#009af9\" fill-rule=\"evenodd\" fill-opacity=\"1\" stroke=\"#000000\" stroke-opacity=\"1\" stroke-width=\"3.2\"/>\n",
       "<circle clip-path=\"url(#clip972)\" cx=\"754.689\" cy=\"882.715\" r=\"14\" fill=\"#009af9\" fill-rule=\"evenodd\" fill-opacity=\"1\" stroke=\"#000000\" stroke-opacity=\"1\" stroke-width=\"3.2\"/>\n",
       "<circle clip-path=\"url(#clip972)\" cx=\"1731.78\" cy=\"426.156\" r=\"14\" fill=\"#009af9\" fill-rule=\"evenodd\" fill-opacity=\"1\" stroke=\"#000000\" stroke-opacity=\"1\" stroke-width=\"3.2\"/>\n",
       "<circle clip-path=\"url(#clip972)\" cx=\"1010.86\" cy=\"884.477\" r=\"14\" fill=\"#009af9\" fill-rule=\"evenodd\" fill-opacity=\"1\" stroke=\"#000000\" stroke-opacity=\"1\" stroke-width=\"3.2\"/>\n",
       "<circle clip-path=\"url(#clip972)\" cx=\"938.545\" cy=\"859.675\" r=\"14\" fill=\"#009af9\" fill-rule=\"evenodd\" fill-opacity=\"1\" stroke=\"#000000\" stroke-opacity=\"1\" stroke-width=\"3.2\"/>\n",
       "<circle clip-path=\"url(#clip972)\" cx=\"1527.56\" cy=\"588.975\" r=\"14\" fill=\"#009af9\" fill-rule=\"evenodd\" fill-opacity=\"1\" stroke=\"#000000\" stroke-opacity=\"1\" stroke-width=\"3.2\"/>\n",
       "<circle clip-path=\"url(#clip972)\" cx=\"1363.36\" cy=\"699.349\" r=\"14\" fill=\"#009af9\" fill-rule=\"evenodd\" fill-opacity=\"1\" stroke=\"#000000\" stroke-opacity=\"1\" stroke-width=\"3.2\"/>\n",
       "<circle clip-path=\"url(#clip972)\" cx=\"1234.04\" cy=\"718.146\" r=\"14\" fill=\"#009af9\" fill-rule=\"evenodd\" fill-opacity=\"1\" stroke=\"#000000\" stroke-opacity=\"1\" stroke-width=\"3.2\"/>\n",
       "<circle clip-path=\"url(#clip972)\" cx=\"1333.76\" cy=\"530.305\" r=\"14\" fill=\"#009af9\" fill-rule=\"evenodd\" fill-opacity=\"1\" stroke=\"#000000\" stroke-opacity=\"1\" stroke-width=\"3.2\"/>\n",
       "<circle clip-path=\"url(#clip972)\" cx=\"1117.91\" cy=\"675.328\" r=\"14\" fill=\"#009af9\" fill-rule=\"evenodd\" fill-opacity=\"1\" stroke=\"#000000\" stroke-opacity=\"1\" stroke-width=\"3.2\"/>\n",
       "<circle clip-path=\"url(#clip972)\" cx=\"1833.43\" cy=\"494.135\" r=\"14\" fill=\"#009af9\" fill-rule=\"evenodd\" fill-opacity=\"1\" stroke=\"#000000\" stroke-opacity=\"1\" stroke-width=\"3.2\"/>\n",
       "<circle clip-path=\"url(#clip972)\" cx=\"1318.32\" cy=\"538.182\" r=\"14\" fill=\"#009af9\" fill-rule=\"evenodd\" fill-opacity=\"1\" stroke=\"#000000\" stroke-opacity=\"1\" stroke-width=\"3.2\"/>\n",
       "<circle clip-path=\"url(#clip972)\" cx=\"373.067\" cy=\"1204.27\" r=\"14\" fill=\"#009af9\" fill-rule=\"evenodd\" fill-opacity=\"1\" stroke=\"#000000\" stroke-opacity=\"1\" stroke-width=\"3.2\"/>\n",
       "<circle clip-path=\"url(#clip972)\" cx=\"1054.34\" cy=\"756.496\" r=\"14\" fill=\"#009af9\" fill-rule=\"evenodd\" fill-opacity=\"1\" stroke=\"#000000\" stroke-opacity=\"1\" stroke-width=\"3.2\"/>\n",
       "<circle clip-path=\"url(#clip972)\" cx=\"867.963\" cy=\"994.351\" r=\"14\" fill=\"#009af9\" fill-rule=\"evenodd\" fill-opacity=\"1\" stroke=\"#000000\" stroke-opacity=\"1\" stroke-width=\"3.2\"/>\n",
       "<circle clip-path=\"url(#clip972)\" cx=\"1242.52\" cy=\"685.59\" r=\"14\" fill=\"#009af9\" fill-rule=\"evenodd\" fill-opacity=\"1\" stroke=\"#000000\" stroke-opacity=\"1\" stroke-width=\"3.2\"/>\n",
       "<circle clip-path=\"url(#clip972)\" cx=\"1022.87\" cy=\"866.361\" r=\"14\" fill=\"#009af9\" fill-rule=\"evenodd\" fill-opacity=\"1\" stroke=\"#000000\" stroke-opacity=\"1\" stroke-width=\"3.2\"/>\n",
       "<circle clip-path=\"url(#clip972)\" cx=\"1525.77\" cy=\"584.633\" r=\"14\" fill=\"#009af9\" fill-rule=\"evenodd\" fill-opacity=\"1\" stroke=\"#000000\" stroke-opacity=\"1\" stroke-width=\"3.2\"/>\n",
       "<circle clip-path=\"url(#clip972)\" cx=\"1833.85\" cy=\"383.272\" r=\"14\" fill=\"#009af9\" fill-rule=\"evenodd\" fill-opacity=\"1\" stroke=\"#000000\" stroke-opacity=\"1\" stroke-width=\"3.2\"/>\n",
       "<circle clip-path=\"url(#clip972)\" cx=\"601.288\" cy=\"1253.98\" r=\"14\" fill=\"#009af9\" fill-rule=\"evenodd\" fill-opacity=\"1\" stroke=\"#000000\" stroke-opacity=\"1\" stroke-width=\"3.2\"/>\n",
       "<circle clip-path=\"url(#clip972)\" cx=\"915.907\" cy=\"818.884\" r=\"14\" fill=\"#009af9\" fill-rule=\"evenodd\" fill-opacity=\"1\" stroke=\"#000000\" stroke-opacity=\"1\" stroke-width=\"3.2\"/>\n",
       "<circle clip-path=\"url(#clip972)\" cx=\"1176.23\" cy=\"789.215\" r=\"14\" fill=\"#009af9\" fill-rule=\"evenodd\" fill-opacity=\"1\" stroke=\"#000000\" stroke-opacity=\"1\" stroke-width=\"3.2\"/>\n",
       "<circle clip-path=\"url(#clip972)\" cx=\"976.232\" cy=\"836.745\" r=\"14\" fill=\"#009af9\" fill-rule=\"evenodd\" fill-opacity=\"1\" stroke=\"#000000\" stroke-opacity=\"1\" stroke-width=\"3.2\"/>\n",
       "<circle clip-path=\"url(#clip972)\" cx=\"1029.04\" cy=\"893.023\" r=\"14\" fill=\"#009af9\" fill-rule=\"evenodd\" fill-opacity=\"1\" stroke=\"#000000\" stroke-opacity=\"1\" stroke-width=\"3.2\"/>\n",
       "<circle clip-path=\"url(#clip972)\" cx=\"623.836\" cy=\"892.785\" r=\"14\" fill=\"#009af9\" fill-rule=\"evenodd\" fill-opacity=\"1\" stroke=\"#000000\" stroke-opacity=\"1\" stroke-width=\"3.2\"/>\n",
       "<circle clip-path=\"url(#clip972)\" cx=\"728.122\" cy=\"964.432\" r=\"14\" fill=\"#009af9\" fill-rule=\"evenodd\" fill-opacity=\"1\" stroke=\"#000000\" stroke-opacity=\"1\" stroke-width=\"3.2\"/>\n",
       "<circle clip-path=\"url(#clip972)\" cx=\"1290.46\" cy=\"743.243\" r=\"14\" fill=\"#009af9\" fill-rule=\"evenodd\" fill-opacity=\"1\" stroke=\"#000000\" stroke-opacity=\"1\" stroke-width=\"3.2\"/>\n",
       "<circle clip-path=\"url(#clip972)\" cx=\"1244.01\" cy=\"662.002\" r=\"14\" fill=\"#009af9\" fill-rule=\"evenodd\" fill-opacity=\"1\" stroke=\"#000000\" stroke-opacity=\"1\" stroke-width=\"3.2\"/>\n",
       "<circle clip-path=\"url(#clip972)\" cx=\"871.604\" cy=\"836.958\" r=\"14\" fill=\"#009af9\" fill-rule=\"evenodd\" fill-opacity=\"1\" stroke=\"#000000\" stroke-opacity=\"1\" stroke-width=\"3.2\"/>\n",
       "<circle clip-path=\"url(#clip972)\" cx=\"1360.92\" cy=\"700.956\" r=\"14\" fill=\"#009af9\" fill-rule=\"evenodd\" fill-opacity=\"1\" stroke=\"#000000\" stroke-opacity=\"1\" stroke-width=\"3.2\"/>\n",
       "<circle clip-path=\"url(#clip972)\" cx=\"1196.14\" cy=\"746.394\" r=\"14\" fill=\"#009af9\" fill-rule=\"evenodd\" fill-opacity=\"1\" stroke=\"#000000\" stroke-opacity=\"1\" stroke-width=\"3.2\"/>\n",
       "<circle clip-path=\"url(#clip972)\" cx=\"1130.29\" cy=\"756.287\" r=\"14\" fill=\"#009af9\" fill-rule=\"evenodd\" fill-opacity=\"1\" stroke=\"#000000\" stroke-opacity=\"1\" stroke-width=\"3.2\"/>\n",
       "<circle clip-path=\"url(#clip972)\" cx=\"1306.17\" cy=\"652.734\" r=\"14\" fill=\"#009af9\" fill-rule=\"evenodd\" fill-opacity=\"1\" stroke=\"#000000\" stroke-opacity=\"1\" stroke-width=\"3.2\"/>\n",
       "<circle clip-path=\"url(#clip972)\" cx=\"1182.24\" cy=\"499.616\" r=\"14\" fill=\"#009af9\" fill-rule=\"evenodd\" fill-opacity=\"1\" stroke=\"#000000\" stroke-opacity=\"1\" stroke-width=\"3.2\"/>\n",
       "<circle clip-path=\"url(#clip972)\" cx=\"1034.16\" cy=\"931.067\" r=\"14\" fill=\"#009af9\" fill-rule=\"evenodd\" fill-opacity=\"1\" stroke=\"#000000\" stroke-opacity=\"1\" stroke-width=\"3.2\"/>\n",
       "<circle clip-path=\"url(#clip972)\" cx=\"1526.76\" cy=\"619.727\" r=\"14\" fill=\"#009af9\" fill-rule=\"evenodd\" fill-opacity=\"1\" stroke=\"#000000\" stroke-opacity=\"1\" stroke-width=\"3.2\"/>\n",
       "<circle clip-path=\"url(#clip972)\" cx=\"265.664\" cy=\"1164.67\" r=\"14\" fill=\"#009af9\" fill-rule=\"evenodd\" fill-opacity=\"1\" stroke=\"#000000\" stroke-opacity=\"1\" stroke-width=\"3.2\"/>\n",
       "<circle clip-path=\"url(#clip972)\" cx=\"1673.12\" cy=\"351.344\" r=\"14\" fill=\"#009af9\" fill-rule=\"evenodd\" fill-opacity=\"1\" stroke=\"#000000\" stroke-opacity=\"1\" stroke-width=\"3.2\"/>\n",
       "</svg>\n"
      ]
     },
     "execution_count": 19,
     "metadata": {},
     "output_type": "execute_result"
    }
   ],
   "source": [
    "using Plots\n",
    "\n",
    "x = randn(100)\n",
    "y = randn(100) .+ 2.5 * x .+ 3;\n",
    "\n",
    "scatter(x, y, legend = nothing)"
   ]
  },
  {
   "cell_type": "code",
   "execution_count": 20,
   "metadata": {
    "slideshow": {
     "slide_type": "subslide"
    }
   },
   "outputs": [
    {
     "name": "stdout",
     "output_type": "stream",
     "text": [
      "\n",
      "******************************************************************************\n",
      "This program contains Ipopt, a library for large-scale nonlinear optimization.\n",
      " Ipopt is released as open source code under the Eclipse Public License (EPL).\n",
      "         For more information visit http://projects.coin-or.org/Ipopt\n",
      "******************************************************************************\n",
      "\n",
      "This is Ipopt version 3.13.2, running with linear solver mumps.\n",
      "NOTE: Other linear solvers might be more efficient (see Ipopt documentation).\n",
      "\n",
      "Number of nonzeros in equality constraint Jacobian...:        0\n",
      "Number of nonzeros in inequality constraint Jacobian.:        0\n",
      "Number of nonzeros in Lagrangian Hessian.............:        3\n",
      "\n",
      "Total number of variables............................:        2\n",
      "                     variables with only lower bounds:        0\n",
      "                variables with lower and upper bounds:        0\n",
      "                     variables with only upper bounds:        0\n",
      "Total number of equality constraints.................:        0\n",
      "Total number of inequality constraints...............:        0\n",
      "        inequality constraints with only lower bounds:        0\n",
      "   inequality constraints with lower and upper bounds:        0\n",
      "        inequality constraints with only upper bounds:        0\n",
      "\n",
      "iter    objective    inf_pr   inf_du lg(mu)  ||d||  lg(rg) alpha_du alpha_pr  ls\n",
      "   0  1.6078333e+03 0.00e+00 1.00e+02  -1.0 0.00e+00    -  0.00e+00 0.00e+00   0\n",
      "   1  9.4332781e+01 0.00e+00 1.77e-14  -1.0 2.92e+00    -  1.00e+00 1.00e+00f  1\n",
      "\n",
      "Number of Iterations....: 1\n",
      "\n",
      "                                   (scaled)                 (unscaled)\n",
      "Objective...............:   1.4685370161302044e+01    9.4332780776126697e+01\n",
      "Dual infeasibility......:   1.7698336470881663e-14    1.1368683772161603e-13\n",
      "Constraint violation....:   0.0000000000000000e+00    0.0000000000000000e+00\n",
      "Complementarity.........:   0.0000000000000000e+00    0.0000000000000000e+00\n",
      "Overall NLP error.......:   1.7698336470881663e-14    1.1368683772161603e-13\n",
      "\n",
      "\n",
      "Number of objective function evaluations             = 2\n",
      "Number of objective gradient evaluations             = 2\n",
      "Number of equality constraint evaluations            = 0\n",
      "Number of inequality constraint evaluations          = 0\n",
      "Number of equality constraint Jacobian evaluations   = 0\n",
      "Number of inequality constraint Jacobian evaluations = 0\n",
      "Number of Lagrangian Hessian evaluations             = 1\n",
      "Total CPU secs in IPOPT (w/o function evaluations)   =      2.529\n",
      "Total CPU secs in NLP function evaluations           =      0.761\n",
      "\n",
      "EXIT: Optimal Solution Found.\n",
      "This is Ipopt version 3.13.2, running with linear solver mumps.\n",
      "NOTE: Other linear solvers might be more efficient (see Ipopt documentation).\n",
      "\n",
      "Number of nonzeros in equality constraint Jacobian...:        0\n",
      "Number of nonzeros in inequality constraint Jacobian.:        0\n",
      "Number of nonzeros in Lagrangian Hessian.............:        3\n",
      "\n",
      "Total number of variables............................:        2\n",
      "                     variables with only lower bounds:        0\n",
      "                variables with lower and upper bounds:        0\n",
      "                     variables with only upper bounds:        0\n",
      "Total number of equality constraints.................:        0\n",
      "Total number of inequality constraints...............:        0\n",
      "        inequality constraints with only lower bounds:        0\n",
      "   inequality constraints with lower and upper bounds:        0\n",
      "        inequality constraints with only upper bounds:        0\n",
      "\n",
      "iter    objective    inf_pr   inf_du lg(mu)  ||d||  lg(rg) alpha_du alpha_pr  ls\n",
      "   0  1.6078333e+03 0.00e+00 1.00e+02  -1.0 0.00e+00    -  0.00e+00 0.00e+00   0\n",
      "   1  2.2574978e+02 0.00e+00 7.74e-15  -1.0 2.69e+00    -  1.00e+00 1.00e+00f  1\n",
      "\n",
      "Number of Iterations....: 1\n",
      "\n",
      "                                   (scaled)                 (unscaled)\n",
      "Objective...............:   3.5143871571653307e+01    2.2574978336802008e+02\n",
      "Dual infeasibility......:   7.7430222060107278e-15    4.9737991503207013e-14\n",
      "Constraint violation....:   0.0000000000000000e+00    0.0000000000000000e+00\n",
      "Complementarity.........:   0.0000000000000000e+00    0.0000000000000000e+00\n",
      "Overall NLP error.......:   7.7430222060107278e-15    4.9737991503207013e-14\n",
      "\n",
      "\n",
      "Number of objective function evaluations             = 2\n",
      "Number of objective gradient evaluations             = 2\n",
      "Number of equality constraint evaluations            = 0\n",
      "Number of inequality constraint evaluations          = 0\n",
      "Number of equality constraint Jacobian evaluations   = 0\n",
      "Number of inequality constraint Jacobian evaluations = 0\n",
      "Number of Lagrangian Hessian evaluations             = 1\n",
      "Total CPU secs in IPOPT (w/o function evaluations)   =      0.001\n",
      "Total CPU secs in NLP function evaluations           =      0.000\n",
      "\n",
      "EXIT: Optimal Solution Found.\n",
      "This is Ipopt version 3.13.2, running with linear solver mumps.\n",
      "NOTE: Other linear solvers might be more efficient (see Ipopt documentation).\n",
      "\n",
      "Number of nonzeros in equality constraint Jacobian...:        0\n",
      "Number of nonzeros in inequality constraint Jacobian.:        0\n",
      "Number of nonzeros in Lagrangian Hessian.............:        3\n",
      "\n",
      "Total number of variables............................:        2\n",
      "                     variables with only lower bounds:        0\n",
      "                variables with lower and upper bounds:        0\n",
      "                     variables with only upper bounds:        0\n",
      "Total number of equality constraints.................:        0\n",
      "Total number of inequality constraints...............:        0\n",
      "        inequality constraints with only lower bounds:        0\n",
      "   inequality constraints with lower and upper bounds:        0\n",
      "        inequality constraints with only upper bounds:        0\n",
      "\n",
      "iter    objective    inf_pr   inf_du lg(mu)  ||d||  lg(rg) alpha_du alpha_pr  ls\n",
      "   0  1.6078333e+03 0.00e+00 1.00e+02  -1.0 0.00e+00    -  0.00e+00 0.00e+00   0\n",
      "   1  8.4712545e+02 0.00e+00 1.77e-14  -1.0 1.54e+00    -  1.00e+00 1.00e+00f  1\n",
      "\n",
      "Number of Iterations....: 1\n",
      "\n",
      "                                   (scaled)                 (unscaled)\n",
      "Objective...............:   1.3187728217716744e+02    8.4712544609547263e+02\n",
      "Dual infeasibility......:   1.7698336470881663e-14    1.1368683772161603e-13\n",
      "Constraint violation....:   0.0000000000000000e+00    0.0000000000000000e+00\n",
      "Complementarity.........:   0.0000000000000000e+00    0.0000000000000000e+00\n",
      "Overall NLP error.......:   1.7698336470881663e-14    1.1368683772161603e-13\n",
      "\n",
      "\n",
      "Number of objective function evaluations             = 2\n",
      "Number of objective gradient evaluations             = 2\n",
      "Number of equality constraint evaluations            = 0\n",
      "Number of inequality constraint evaluations          = 0\n",
      "Number of equality constraint Jacobian evaluations   = 0\n",
      "Number of inequality constraint Jacobian evaluations = 0\n",
      "Number of Lagrangian Hessian evaluations             = 1\n",
      "Total CPU secs in IPOPT (w/o function evaluations)   =      0.001\n",
      "Total CPU secs in NLP function evaluations           =      0.000\n",
      "\n",
      "EXIT: Optimal Solution Found.\n"
     ]
    }
   ],
   "source": [
    "import Ipopt # quadratic terms\n",
    "\n",
    "a_values = Float64[]\n",
    "b_values = Float64[]\n",
    "penalty_values = [0.5, 10.0, 100.0]\n",
    "\n",
    "for λ in penalty_values\n",
    "    regression = Model(Ipopt.Optimizer)\n",
    "    @variable(regression, a)\n",
    "    @variable(regression, b)\n",
    "    @expression(regression,\n",
    "        quad_error[i=1:100],\n",
    "        (a * x[i] + b - y[i])^2\n",
    "    )\n",
    "    @objective(regression, Min, sum(quad_error) + λ * (a^2 + b^2))\n",
    "    MOI.set(regression, MOI.Silent(), true)\n",
    "    optimize!(regression)\n",
    "    \n",
    "    push!(a_values, JuMP.value(a))\n",
    "    push!(b_values, JuMP.value(b))\n",
    "end"
   ]
  },
  {
   "cell_type": "code",
   "execution_count": 37,
   "metadata": {
    "slideshow": {
     "slide_type": "slide"
    }
   },
   "outputs": [
    {
     "data": {
      "image/svg+xml": [
       "<?xml version=\"1.0\" encoding=\"utf-8\"?>\n",
       "<svg xmlns=\"http://www.w3.org/2000/svg\" xmlns:xlink=\"http://www.w3.org/1999/xlink\" width=\"600\" height=\"400\" viewBox=\"0 0 2400 1600\">\n",
       "<defs>\n",
       "  <clipPath id=\"clip090\">\n",
       "    <rect x=\"0\" y=\"0\" width=\"2400\" height=\"1600\"/>\n",
       "  </clipPath>\n",
       "</defs>\n",
       "<path clip-path=\"url(#clip090)\" d=\"\n",
       "M0 1600 L2400 1600 L2400 0 L0 0  Z\n",
       "  \" fill=\"#ffffff\" fill-rule=\"evenodd\" fill-opacity=\"1\"/>\n",
       "<defs>\n",
       "  <clipPath id=\"clip091\">\n",
       "    <rect x=\"480\" y=\"0\" width=\"1681\" height=\"1600\"/>\n",
       "  </clipPath>\n",
       "</defs>\n",
       "<path clip-path=\"url(#clip090)\" d=\"\n",
       "M125.835 1486.45 L2352.76 1486.45 L2352.76 47.2441 L125.835 47.2441  Z\n",
       "  \" fill=\"#ffffff\" fill-rule=\"evenodd\" fill-opacity=\"1\"/>\n",
       "<defs>\n",
       "  <clipPath id=\"clip092\">\n",
       "    <rect x=\"125\" y=\"47\" width=\"2228\" height=\"1440\"/>\n",
       "  </clipPath>\n",
       "</defs>\n",
       "<polyline clip-path=\"url(#clip092)\" style=\"stroke:#000000; stroke-width:2; stroke-opacity:0.1; fill:none\" points=\"\n",
       "  188.861,1486.45 188.861,47.2441 \n",
       "  \"/>\n",
       "<polyline clip-path=\"url(#clip092)\" style=\"stroke:#000000; stroke-width:2; stroke-opacity:0.1; fill:none\" points=\"\n",
       "  649.983,1486.45 649.983,47.2441 \n",
       "  \"/>\n",
       "<polyline clip-path=\"url(#clip092)\" style=\"stroke:#000000; stroke-width:2; stroke-opacity:0.1; fill:none\" points=\"\n",
       "  1111.11,1486.45 1111.11,47.2441 \n",
       "  \"/>\n",
       "<polyline clip-path=\"url(#clip092)\" style=\"stroke:#000000; stroke-width:2; stroke-opacity:0.1; fill:none\" points=\"\n",
       "  1572.23,1486.45 1572.23,47.2441 \n",
       "  \"/>\n",
       "<polyline clip-path=\"url(#clip092)\" style=\"stroke:#000000; stroke-width:2; stroke-opacity:0.1; fill:none\" points=\"\n",
       "  2033.35,1486.45 2033.35,47.2441 \n",
       "  \"/>\n",
       "<polyline clip-path=\"url(#clip092)\" style=\"stroke:#000000; stroke-width:2; stroke-opacity:0.1; fill:none\" points=\"\n",
       "  125.835,1354.52 2352.76,1354.52 \n",
       "  \"/>\n",
       "<polyline clip-path=\"url(#clip092)\" style=\"stroke:#000000; stroke-width:2; stroke-opacity:0.1; fill:none\" points=\"\n",
       "  125.835,1070.47 2352.76,1070.47 \n",
       "  \"/>\n",
       "<polyline clip-path=\"url(#clip092)\" style=\"stroke:#000000; stroke-width:2; stroke-opacity:0.1; fill:none\" points=\"\n",
       "  125.835,786.413 2352.76,786.413 \n",
       "  \"/>\n",
       "<polyline clip-path=\"url(#clip092)\" style=\"stroke:#000000; stroke-width:2; stroke-opacity:0.1; fill:none\" points=\"\n",
       "  125.835,502.36 2352.76,502.36 \n",
       "  \"/>\n",
       "<polyline clip-path=\"url(#clip092)\" style=\"stroke:#000000; stroke-width:2; stroke-opacity:0.1; fill:none\" points=\"\n",
       "  125.835,218.307 2352.76,218.307 \n",
       "  \"/>\n",
       "<polyline clip-path=\"url(#clip090)\" style=\"stroke:#000000; stroke-width:4; stroke-opacity:1; fill:none\" points=\"\n",
       "  125.835,1486.45 2352.76,1486.45 \n",
       "  \"/>\n",
       "<polyline clip-path=\"url(#clip090)\" style=\"stroke:#000000; stroke-width:4; stroke-opacity:1; fill:none\" points=\"\n",
       "  125.835,1486.45 125.835,47.2441 \n",
       "  \"/>\n",
       "<polyline clip-path=\"url(#clip090)\" style=\"stroke:#000000; stroke-width:4; stroke-opacity:1; fill:none\" points=\"\n",
       "  188.861,1486.45 188.861,1469.18 \n",
       "  \"/>\n",
       "<polyline clip-path=\"url(#clip090)\" style=\"stroke:#000000; stroke-width:4; stroke-opacity:1; fill:none\" points=\"\n",
       "  649.983,1486.45 649.983,1469.18 \n",
       "  \"/>\n",
       "<polyline clip-path=\"url(#clip090)\" style=\"stroke:#000000; stroke-width:4; stroke-opacity:1; fill:none\" points=\"\n",
       "  1111.11,1486.45 1111.11,1469.18 \n",
       "  \"/>\n",
       "<polyline clip-path=\"url(#clip090)\" style=\"stroke:#000000; stroke-width:4; stroke-opacity:1; fill:none\" points=\"\n",
       "  1572.23,1486.45 1572.23,1469.18 \n",
       "  \"/>\n",
       "<polyline clip-path=\"url(#clip090)\" style=\"stroke:#000000; stroke-width:4; stroke-opacity:1; fill:none\" points=\"\n",
       "  2033.35,1486.45 2033.35,1469.18 \n",
       "  \"/>\n",
       "<polyline clip-path=\"url(#clip090)\" style=\"stroke:#000000; stroke-width:4; stroke-opacity:1; fill:none\" points=\"\n",
       "  125.835,1354.52 152.558,1354.52 \n",
       "  \"/>\n",
       "<polyline clip-path=\"url(#clip090)\" style=\"stroke:#000000; stroke-width:4; stroke-opacity:1; fill:none\" points=\"\n",
       "  125.835,1070.47 152.558,1070.47 \n",
       "  \"/>\n",
       "<polyline clip-path=\"url(#clip090)\" style=\"stroke:#000000; stroke-width:4; stroke-opacity:1; fill:none\" points=\"\n",
       "  125.835,786.413 152.558,786.413 \n",
       "  \"/>\n",
       "<polyline clip-path=\"url(#clip090)\" style=\"stroke:#000000; stroke-width:4; stroke-opacity:1; fill:none\" points=\"\n",
       "  125.835,502.36 152.558,502.36 \n",
       "  \"/>\n",
       "<polyline clip-path=\"url(#clip090)\" style=\"stroke:#000000; stroke-width:4; stroke-opacity:1; fill:none\" points=\"\n",
       "  125.835,218.307 152.558,218.307 \n",
       "  \"/>\n",
       "<path clip-path=\"url(#clip090)\" d=\"M 0 0 M169.914 1525.04 L182.391 1525.04 L182.391 1528.83 L169.914 1528.83 L169.914 1525.04 Z\" fill=\"#000000\" fill-rule=\"evenodd\" fill-opacity=\"1\" /><path clip-path=\"url(#clip090)\" d=\"M 0 0 M191.488 1535.98 L207.807 1535.98 L207.807 1539.92 L185.863 1539.92 L185.863 1535.98 Q188.525 1533.23 193.108 1528.6 Q197.715 1523.95 198.895 1522.61 Q201.141 1520.08 202.02 1518.35 Q202.923 1516.59 202.923 1514.9 Q202.923 1512.14 200.979 1510.41 Q199.057 1508.67 195.955 1508.67 Q193.756 1508.67 191.303 1509.43 Q188.872 1510.2 186.094 1511.75 L186.094 1507.03 Q188.918 1505.89 191.372 1505.31 Q193.826 1504.73 195.863 1504.73 Q201.233 1504.73 204.428 1507.42 Q207.622 1510.11 207.622 1514.6 Q207.622 1516.73 206.812 1518.65 Q206.025 1520.54 203.918 1523.14 Q203.34 1523.81 200.238 1527.03 Q197.136 1530.22 191.488 1535.98 Z\" fill=\"#000000\" fill-rule=\"evenodd\" fill-opacity=\"1\" /><path clip-path=\"url(#clip090)\" d=\"M 0 0 M630.851 1525.04 L643.328 1525.04 L643.328 1528.83 L630.851 1528.83 L630.851 1525.04 Z\" fill=\"#000000\" fill-rule=\"evenodd\" fill-opacity=\"1\" /><path clip-path=\"url(#clip090)\" d=\"M 0 0 M649.208 1535.98 L656.847 1535.98 L656.847 1509.62 L648.536 1511.29 L648.536 1507.03 L656.8 1505.36 L661.476 1505.36 L661.476 1535.98 L669.115 1535.98 L669.115 1539.92 L649.208 1539.92 L649.208 1535.98 Z\" fill=\"#000000\" fill-rule=\"evenodd\" fill-opacity=\"1\" /><path clip-path=\"url(#clip090)\" d=\"M 0 0 M1111.11 1508.44 Q1107.49 1508.44 1105.67 1512 Q1103.86 1515.55 1103.86 1522.67 Q1103.86 1529.78 1105.67 1533.35 Q1107.49 1536.89 1111.11 1536.89 Q1114.74 1536.89 1116.55 1533.35 Q1118.37 1529.78 1118.37 1522.67 Q1118.37 1515.55 1116.55 1512 Q1114.74 1508.44 1111.11 1508.44 M1111.11 1504.73 Q1116.92 1504.73 1119.97 1509.34 Q1123.05 1513.92 1123.05 1522.67 Q1123.05 1531.4 1119.97 1536.01 Q1116.92 1540.59 1111.11 1540.59 Q1105.3 1540.59 1102.22 1536.01 Q1099.16 1531.4 1099.16 1522.67 Q1099.16 1513.92 1102.22 1509.34 Q1105.3 1504.73 1111.11 1504.73 Z\" fill=\"#000000\" fill-rule=\"evenodd\" fill-opacity=\"1\" /><path clip-path=\"url(#clip090)\" d=\"M 0 0 M1562.61 1535.98 L1570.25 1535.98 L1570.25 1509.62 L1561.94 1511.29 L1561.94 1507.03 L1570.2 1505.36 L1574.88 1505.36 L1574.88 1535.98 L1582.52 1535.98 L1582.52 1539.92 L1562.61 1539.92 L1562.61 1535.98 Z\" fill=\"#000000\" fill-rule=\"evenodd\" fill-opacity=\"1\" /><path clip-path=\"url(#clip090)\" d=\"M 0 0 M2028 1535.98 L2044.32 1535.98 L2044.32 1539.92 L2022.38 1539.92 L2022.38 1535.98 Q2025.04 1533.23 2029.62 1528.6 Q2034.23 1523.95 2035.41 1522.61 Q2037.66 1520.08 2038.54 1518.35 Q2039.44 1516.59 2039.44 1514.9 Q2039.44 1512.14 2037.49 1510.41 Q2035.57 1508.67 2032.47 1508.67 Q2030.27 1508.67 2027.82 1509.43 Q2025.39 1510.2 2022.61 1511.75 L2022.61 1507.03 Q2025.43 1505.89 2027.89 1505.31 Q2030.34 1504.73 2032.38 1504.73 Q2037.75 1504.73 2040.94 1507.42 Q2044.14 1510.11 2044.14 1514.6 Q2044.14 1516.73 2043.33 1518.65 Q2042.54 1520.54 2040.43 1523.14 Q2039.86 1523.81 2036.75 1527.03 Q2033.65 1530.22 2028 1535.98 Z\" fill=\"#000000\" fill-rule=\"evenodd\" fill-opacity=\"1\" /><path clip-path=\"url(#clip090)\" d=\"M 0 0 M62.9921 1356.91 L75.4689 1356.91 L75.4689 1360.71 L62.9921 1360.71 L62.9921 1356.91 Z\" fill=\"#000000\" fill-rule=\"evenodd\" fill-opacity=\"1\" /><path clip-path=\"url(#clip090)\" d=\"M 0 0 M94.7049 1353.16 Q98.0614 1353.88 99.9364 1356.15 Q101.835 1358.42 101.835 1361.75 Q101.835 1366.87 98.316 1369.67 Q94.7975 1372.47 88.3161 1372.47 Q86.1402 1372.47 83.8253 1372.03 Q81.5337 1371.61 79.08 1370.76 L79.08 1366.24 Q81.0244 1367.38 83.3392 1367.96 Q85.654 1368.54 88.1772 1368.54 Q92.5753 1368.54 94.867 1366.8 Q97.1818 1365.06 97.1818 1361.75 Q97.1818 1358.7 95.029 1356.98 Q92.8994 1355.25 89.0799 1355.25 L85.0522 1355.25 L85.0522 1351.41 L89.2651 1351.41 Q92.7142 1351.41 94.5429 1350.04 Q96.3716 1348.65 96.3716 1346.06 Q96.3716 1343.4 94.4734 1341.98 Q92.5984 1340.55 89.0799 1340.55 Q87.1587 1340.55 84.9596 1340.97 Q82.7605 1341.38 80.1217 1342.26 L80.1217 1338.1 Q82.7837 1337.35 85.0985 1336.98 Q87.4364 1336.61 89.4966 1336.61 Q94.8207 1336.61 97.9225 1339.04 Q101.024 1341.45 101.024 1345.57 Q101.024 1348.44 99.3808 1350.43 Q97.7373 1352.4 94.7049 1353.16 Z\" fill=\"#000000\" fill-rule=\"evenodd\" fill-opacity=\"1\" /><path clip-path=\"url(#clip090)\" d=\"M 0 0 M89.8901 1056.26 Q86.279 1056.26 84.4503 1059.83 Q82.6448 1063.37 82.6448 1070.5 Q82.6448 1077.61 84.4503 1081.17 Q86.279 1084.71 89.8901 1084.71 Q93.5244 1084.71 95.3299 1081.17 Q97.1586 1077.61 97.1586 1070.5 Q97.1586 1063.37 95.3299 1059.83 Q93.5244 1056.26 89.8901 1056.26 M89.8901 1052.56 Q95.7003 1052.56 98.7558 1057.17 Q101.835 1061.75 101.835 1070.5 Q101.835 1079.23 98.7558 1083.83 Q95.7003 1088.42 89.8901 1088.42 Q84.08 1088.42 81.0013 1083.83 Q77.9457 1079.23 77.9457 1070.5 Q77.9457 1061.75 81.0013 1057.17 Q84.08 1052.56 89.8901 1052.56 Z\" fill=\"#000000\" fill-rule=\"evenodd\" fill-opacity=\"1\" /><path clip-path=\"url(#clip090)\" d=\"M 0 0 M94.7049 785.059 Q98.0614 785.777 99.9364 788.045 Q101.835 790.314 101.835 793.647 Q101.835 798.763 98.316 801.564 Q94.7975 804.364 88.3161 804.364 Q86.1402 804.364 83.8253 803.925 Q81.5337 803.508 79.08 802.651 L79.08 798.138 Q81.0244 799.272 83.3392 799.851 Q85.654 800.429 88.1772 800.429 Q92.5753 800.429 94.867 798.693 Q97.1818 796.957 97.1818 793.647 Q97.1818 790.591 95.029 788.878 Q92.8994 787.142 89.0799 787.142 L85.0522 787.142 L85.0522 783.3 L89.2651 783.3 Q92.7142 783.3 94.5429 781.934 Q96.3716 780.545 96.3716 777.953 Q96.3716 775.29 94.4734 773.878 Q92.5984 772.443 89.0799 772.443 Q87.1587 772.443 84.9596 772.86 Q82.7605 773.277 80.1217 774.156 L80.1217 769.99 Q82.7837 769.249 85.0985 768.878 Q87.4364 768.508 89.4966 768.508 Q94.8207 768.508 97.9225 770.939 Q101.024 773.346 101.024 777.466 Q101.024 780.337 99.3808 782.327 Q97.7373 784.295 94.7049 785.059 Z\" fill=\"#000000\" fill-rule=\"evenodd\" fill-opacity=\"1\" /><path clip-path=\"url(#clip090)\" d=\"M 0 0 M90.3068 500.497 Q87.1587 500.497 85.3068 502.649 Q83.4781 504.802 83.4781 508.552 Q83.4781 512.279 85.3068 514.455 Q87.1587 516.608 90.3068 516.608 Q93.4549 516.608 95.2836 514.455 Q97.1355 512.279 97.1355 508.552 Q97.1355 504.802 95.2836 502.649 Q93.4549 500.497 90.3068 500.497 M99.5892 485.844 L99.5892 490.103 Q97.8299 489.27 96.0244 488.83 Q94.242 488.39 92.4827 488.39 Q87.8531 488.39 85.3994 491.515 Q82.9689 494.64 82.6217 500.96 Q83.9874 498.946 86.0476 497.881 Q88.1077 496.793 90.5846 496.793 Q95.7929 496.793 98.8021 499.964 Q101.835 503.112 101.835 508.552 Q101.835 513.876 98.6864 517.094 Q95.5382 520.311 90.3068 520.311 Q84.3115 520.311 81.1402 515.728 Q77.9689 511.122 77.9689 502.395 Q77.9689 494.2 81.8578 489.339 Q85.7466 484.455 92.2975 484.455 Q94.0568 484.455 95.8392 484.802 Q97.6447 485.15 99.5892 485.844 Z\" fill=\"#000000\" fill-rule=\"evenodd\" fill-opacity=\"1\" /><path clip-path=\"url(#clip090)\" d=\"M 0 0 M80.2143 234.87 L80.2143 230.61 Q81.9735 231.444 83.7791 231.883 Q85.5846 232.323 87.3207 232.323 Q91.9503 232.323 94.3808 229.221 Q96.8345 226.096 97.1818 219.754 Q95.8392 221.745 93.779 222.809 Q91.7188 223.874 89.2188 223.874 Q84.0337 223.874 81.0013 220.749 Q77.992 217.601 77.992 212.161 Q77.992 206.837 81.1402 203.62 Q84.2883 200.402 89.5198 200.402 Q95.5151 200.402 98.6632 205.009 Q101.835 209.592 101.835 218.342 Q101.835 226.513 97.9456 231.397 Q94.0799 236.258 87.529 236.258 Q85.7698 236.258 83.9642 235.911 Q82.1587 235.564 80.2143 234.87 M89.5198 220.217 Q92.6679 220.217 94.4966 218.064 Q96.3484 215.911 96.3484 212.161 Q96.3484 208.434 94.4966 206.282 Q92.6679 204.106 89.5198 204.106 Q86.3716 204.106 84.5198 206.282 Q82.6911 208.434 82.6911 212.161 Q82.6911 215.911 84.5198 218.064 Q86.3716 220.217 89.5198 220.217 Z\" fill=\"#000000\" fill-rule=\"evenodd\" fill-opacity=\"1\" /><circle clip-path=\"url(#clip092)\" cx=\"676.252\" cy=\"1150.93\" r=\"14\" fill=\"#009af9\" fill-rule=\"evenodd\" fill-opacity=\"1\" stroke=\"#000000\" stroke-opacity=\"1\" stroke-width=\"3.2\"/>\n",
       "<circle clip-path=\"url(#clip092)\" cx=\"1620.42\" cy=\"750.735\" r=\"14\" fill=\"#009af9\" fill-rule=\"evenodd\" fill-opacity=\"1\" stroke=\"#000000\" stroke-opacity=\"1\" stroke-width=\"3.2\"/>\n",
       "<circle clip-path=\"url(#clip092)\" cx=\"945.299\" cy=\"850.621\" r=\"14\" fill=\"#009af9\" fill-rule=\"evenodd\" fill-opacity=\"1\" stroke=\"#000000\" stroke-opacity=\"1\" stroke-width=\"3.2\"/>\n",
       "<circle clip-path=\"url(#clip092)\" cx=\"467.955\" cy=\"1028.03\" r=\"14\" fill=\"#009af9\" fill-rule=\"evenodd\" fill-opacity=\"1\" stroke=\"#000000\" stroke-opacity=\"1\" stroke-width=\"3.2\"/>\n",
       "<circle clip-path=\"url(#clip092)\" cx=\"1024.81\" cy=\"807.309\" r=\"14\" fill=\"#009af9\" fill-rule=\"evenodd\" fill-opacity=\"1\" stroke=\"#000000\" stroke-opacity=\"1\" stroke-width=\"3.2\"/>\n",
       "<circle clip-path=\"url(#clip092)\" cx=\"2289.73\" cy=\"87.9763\" r=\"14\" fill=\"#009af9\" fill-rule=\"evenodd\" fill-opacity=\"1\" stroke=\"#000000\" stroke-opacity=\"1\" stroke-width=\"3.2\"/>\n",
       "<circle clip-path=\"url(#clip092)\" cx=\"1222.19\" cy=\"825.955\" r=\"14\" fill=\"#009af9\" fill-rule=\"evenodd\" fill-opacity=\"1\" stroke=\"#000000\" stroke-opacity=\"1\" stroke-width=\"3.2\"/>\n",
       "<circle clip-path=\"url(#clip092)\" cx=\"1598.45\" cy=\"394.624\" r=\"14\" fill=\"#009af9\" fill-rule=\"evenodd\" fill-opacity=\"1\" stroke=\"#000000\" stroke-opacity=\"1\" stroke-width=\"3.2\"/>\n",
       "<circle clip-path=\"url(#clip092)\" cx=\"332.448\" cy=\"1445.72\" r=\"14\" fill=\"#009af9\" fill-rule=\"evenodd\" fill-opacity=\"1\" stroke=\"#000000\" stroke-opacity=\"1\" stroke-width=\"3.2\"/>\n",
       "<circle clip-path=\"url(#clip092)\" cx=\"663.72\" cy=\"997.476\" r=\"14\" fill=\"#009af9\" fill-rule=\"evenodd\" fill-opacity=\"1\" stroke=\"#000000\" stroke-opacity=\"1\" stroke-width=\"3.2\"/>\n",
       "<circle clip-path=\"url(#clip092)\" cx=\"623.403\" cy=\"1008.31\" r=\"14\" fill=\"#009af9\" fill-rule=\"evenodd\" fill-opacity=\"1\" stroke=\"#000000\" stroke-opacity=\"1\" stroke-width=\"3.2\"/>\n",
       "<circle clip-path=\"url(#clip092)\" cx=\"1659.8\" cy=\"372.061\" r=\"14\" fill=\"#009af9\" fill-rule=\"evenodd\" fill-opacity=\"1\" stroke=\"#000000\" stroke-opacity=\"1\" stroke-width=\"3.2\"/>\n",
       "<circle clip-path=\"url(#clip092)\" cx=\"1301.81\" cy=\"591.77\" r=\"14\" fill=\"#009af9\" fill-rule=\"evenodd\" fill-opacity=\"1\" stroke=\"#000000\" stroke-opacity=\"1\" stroke-width=\"3.2\"/>\n",
       "<circle clip-path=\"url(#clip092)\" cx=\"846.482\" cy=\"1015.65\" r=\"14\" fill=\"#009af9\" fill-rule=\"evenodd\" fill-opacity=\"1\" stroke=\"#000000\" stroke-opacity=\"1\" stroke-width=\"3.2\"/>\n",
       "<circle clip-path=\"url(#clip092)\" cx=\"1098.8\" cy=\"808.36\" r=\"14\" fill=\"#009af9\" fill-rule=\"evenodd\" fill-opacity=\"1\" stroke=\"#000000\" stroke-opacity=\"1\" stroke-width=\"3.2\"/>\n",
       "<circle clip-path=\"url(#clip092)\" cx=\"827.916\" cy=\"965.754\" r=\"14\" fill=\"#009af9\" fill-rule=\"evenodd\" fill-opacity=\"1\" stroke=\"#000000\" stroke-opacity=\"1\" stroke-width=\"3.2\"/>\n",
       "<circle clip-path=\"url(#clip092)\" cx=\"448.251\" cy=\"1208.69\" r=\"14\" fill=\"#009af9\" fill-rule=\"evenodd\" fill-opacity=\"1\" stroke=\"#000000\" stroke-opacity=\"1\" stroke-width=\"3.2\"/>\n",
       "<circle clip-path=\"url(#clip092)\" cx=\"1151.45\" cy=\"785.853\" r=\"14\" fill=\"#009af9\" fill-rule=\"evenodd\" fill-opacity=\"1\" stroke=\"#000000\" stroke-opacity=\"1\" stroke-width=\"3.2\"/>\n",
       "<circle clip-path=\"url(#clip092)\" cx=\"1097\" cy=\"893.987\" r=\"14\" fill=\"#009af9\" fill-rule=\"evenodd\" fill-opacity=\"1\" stroke=\"#000000\" stroke-opacity=\"1\" stroke-width=\"3.2\"/>\n",
       "<circle clip-path=\"url(#clip092)\" cx=\"1032.31\" cy=\"907.991\" r=\"14\" fill=\"#009af9\" fill-rule=\"evenodd\" fill-opacity=\"1\" stroke=\"#000000\" stroke-opacity=\"1\" stroke-width=\"3.2\"/>\n",
       "<circle clip-path=\"url(#clip092)\" cx=\"1614.51\" cy=\"501.554\" r=\"14\" fill=\"#009af9\" fill-rule=\"evenodd\" fill-opacity=\"1\" stroke=\"#000000\" stroke-opacity=\"1\" stroke-width=\"3.2\"/>\n",
       "<circle clip-path=\"url(#clip092)\" cx=\"2036.63\" cy=\"318.969\" r=\"14\" fill=\"#009af9\" fill-rule=\"evenodd\" fill-opacity=\"1\" stroke=\"#000000\" stroke-opacity=\"1\" stroke-width=\"3.2\"/>\n",
       "<circle clip-path=\"url(#clip092)\" cx=\"467.329\" cy=\"1189.28\" r=\"14\" fill=\"#009af9\" fill-rule=\"evenodd\" fill-opacity=\"1\" stroke=\"#000000\" stroke-opacity=\"1\" stroke-width=\"3.2\"/>\n",
       "<circle clip-path=\"url(#clip092)\" cx=\"705.252\" cy=\"1037.56\" r=\"14\" fill=\"#009af9\" fill-rule=\"evenodd\" fill-opacity=\"1\" stroke=\"#000000\" stroke-opacity=\"1\" stroke-width=\"3.2\"/>\n",
       "<circle clip-path=\"url(#clip092)\" cx=\"1497.03\" cy=\"462.2\" r=\"14\" fill=\"#009af9\" fill-rule=\"evenodd\" fill-opacity=\"1\" stroke=\"#000000\" stroke-opacity=\"1\" stroke-width=\"3.2\"/>\n",
       "<circle clip-path=\"url(#clip092)\" cx=\"1484.11\" cy=\"655.801\" r=\"14\" fill=\"#009af9\" fill-rule=\"evenodd\" fill-opacity=\"1\" stroke=\"#000000\" stroke-opacity=\"1\" stroke-width=\"3.2\"/>\n",
       "<circle clip-path=\"url(#clip092)\" cx=\"1494.57\" cy=\"515.01\" r=\"14\" fill=\"#009af9\" fill-rule=\"evenodd\" fill-opacity=\"1\" stroke=\"#000000\" stroke-opacity=\"1\" stroke-width=\"3.2\"/>\n",
       "<circle clip-path=\"url(#clip092)\" cx=\"678.511\" cy=\"875.93\" r=\"14\" fill=\"#009af9\" fill-rule=\"evenodd\" fill-opacity=\"1\" stroke=\"#000000\" stroke-opacity=\"1\" stroke-width=\"3.2\"/>\n",
       "<circle clip-path=\"url(#clip092)\" cx=\"1762.17\" cy=\"502.109\" r=\"14\" fill=\"#009af9\" fill-rule=\"evenodd\" fill-opacity=\"1\" stroke=\"#000000\" stroke-opacity=\"1\" stroke-width=\"3.2\"/>\n",
       "<circle clip-path=\"url(#clip092)\" cx=\"525.934\" cy=\"1066.3\" r=\"14\" fill=\"#009af9\" fill-rule=\"evenodd\" fill-opacity=\"1\" stroke=\"#000000\" stroke-opacity=\"1\" stroke-width=\"3.2\"/>\n",
       "<circle clip-path=\"url(#clip092)\" cx=\"956.169\" cy=\"918.495\" r=\"14\" fill=\"#009af9\" fill-rule=\"evenodd\" fill-opacity=\"1\" stroke=\"#000000\" stroke-opacity=\"1\" stroke-width=\"3.2\"/>\n",
       "<circle clip-path=\"url(#clip092)\" cx=\"1276.41\" cy=\"684.748\" r=\"14\" fill=\"#009af9\" fill-rule=\"evenodd\" fill-opacity=\"1\" stroke=\"#000000\" stroke-opacity=\"1\" stroke-width=\"3.2\"/>\n",
       "<circle clip-path=\"url(#clip092)\" cx=\"1310.7\" cy=\"542.155\" r=\"14\" fill=\"#009af9\" fill-rule=\"evenodd\" fill-opacity=\"1\" stroke=\"#000000\" stroke-opacity=\"1\" stroke-width=\"3.2\"/>\n",
       "<circle clip-path=\"url(#clip092)\" cx=\"770.04\" cy=\"968.444\" r=\"14\" fill=\"#009af9\" fill-rule=\"evenodd\" fill-opacity=\"1\" stroke=\"#000000\" stroke-opacity=\"1\" stroke-width=\"3.2\"/>\n",
       "<circle clip-path=\"url(#clip092)\" cx=\"1269.09\" cy=\"664.412\" r=\"14\" fill=\"#009af9\" fill-rule=\"evenodd\" fill-opacity=\"1\" stroke=\"#000000\" stroke-opacity=\"1\" stroke-width=\"3.2\"/>\n",
       "<circle clip-path=\"url(#clip092)\" cx=\"1183.11\" cy=\"701.543\" r=\"14\" fill=\"#009af9\" fill-rule=\"evenodd\" fill-opacity=\"1\" stroke=\"#000000\" stroke-opacity=\"1\" stroke-width=\"3.2\"/>\n",
       "<circle clip-path=\"url(#clip092)\" cx=\"626.276\" cy=\"976.555\" r=\"14\" fill=\"#009af9\" fill-rule=\"evenodd\" fill-opacity=\"1\" stroke=\"#000000\" stroke-opacity=\"1\" stroke-width=\"3.2\"/>\n",
       "<circle clip-path=\"url(#clip092)\" cx=\"1928.39\" cy=\"465.174\" r=\"14\" fill=\"#009af9\" fill-rule=\"evenodd\" fill-opacity=\"1\" stroke=\"#000000\" stroke-opacity=\"1\" stroke-width=\"3.2\"/>\n",
       "<circle clip-path=\"url(#clip092)\" cx=\"1521.52\" cy=\"528.809\" r=\"14\" fill=\"#009af9\" fill-rule=\"evenodd\" fill-opacity=\"1\" stroke=\"#000000\" stroke-opacity=\"1\" stroke-width=\"3.2\"/>\n",
       "<circle clip-path=\"url(#clip092)\" cx=\"664.382\" cy=\"1018.29\" r=\"14\" fill=\"#009af9\" fill-rule=\"evenodd\" fill-opacity=\"1\" stroke=\"#000000\" stroke-opacity=\"1\" stroke-width=\"3.2\"/>\n",
       "<circle clip-path=\"url(#clip092)\" cx=\"799.428\" cy=\"864.684\" r=\"14\" fill=\"#009af9\" fill-rule=\"evenodd\" fill-opacity=\"1\" stroke=\"#000000\" stroke-opacity=\"1\" stroke-width=\"3.2\"/>\n",
       "<circle clip-path=\"url(#clip092)\" cx=\"1610.84\" cy=\"500.311\" r=\"14\" fill=\"#009af9\" fill-rule=\"evenodd\" fill-opacity=\"1\" stroke=\"#000000\" stroke-opacity=\"1\" stroke-width=\"3.2\"/>\n",
       "<circle clip-path=\"url(#clip092)\" cx=\"1357.76\" cy=\"722.78\" r=\"14\" fill=\"#009af9\" fill-rule=\"evenodd\" fill-opacity=\"1\" stroke=\"#000000\" stroke-opacity=\"1\" stroke-width=\"3.2\"/>\n",
       "<circle clip-path=\"url(#clip092)\" cx=\"808.092\" cy=\"807.84\" r=\"14\" fill=\"#009af9\" fill-rule=\"evenodd\" fill-opacity=\"1\" stroke=\"#000000\" stroke-opacity=\"1\" stroke-width=\"3.2\"/>\n",
       "<circle clip-path=\"url(#clip092)\" cx=\"1286.48\" cy=\"612.493\" r=\"14\" fill=\"#009af9\" fill-rule=\"evenodd\" fill-opacity=\"1\" stroke=\"#000000\" stroke-opacity=\"1\" stroke-width=\"3.2\"/>\n",
       "<circle clip-path=\"url(#clip092)\" cx=\"1280.4\" cy=\"634.469\" r=\"14\" fill=\"#009af9\" fill-rule=\"evenodd\" fill-opacity=\"1\" stroke=\"#000000\" stroke-opacity=\"1\" stroke-width=\"3.2\"/>\n",
       "<circle clip-path=\"url(#clip092)\" cx=\"872.406\" cy=\"899.366\" r=\"14\" fill=\"#009af9\" fill-rule=\"evenodd\" fill-opacity=\"1\" stroke=\"#000000\" stroke-opacity=\"1\" stroke-width=\"3.2\"/>\n",
       "<circle clip-path=\"url(#clip092)\" cx=\"1209.94\" cy=\"722.248\" r=\"14\" fill=\"#009af9\" fill-rule=\"evenodd\" fill-opacity=\"1\" stroke=\"#000000\" stroke-opacity=\"1\" stroke-width=\"3.2\"/>\n",
       "<circle clip-path=\"url(#clip092)\" cx=\"768.964\" cy=\"949.581\" r=\"14\" fill=\"#009af9\" fill-rule=\"evenodd\" fill-opacity=\"1\" stroke=\"#000000\" stroke-opacity=\"1\" stroke-width=\"3.2\"/>\n",
       "<circle clip-path=\"url(#clip092)\" cx=\"1133.88\" cy=\"649.475\" r=\"14\" fill=\"#009af9\" fill-rule=\"evenodd\" fill-opacity=\"1\" stroke=\"#000000\" stroke-opacity=\"1\" stroke-width=\"3.2\"/>\n",
       "<circle clip-path=\"url(#clip092)\" cx=\"1102.02\" cy=\"791.631\" r=\"14\" fill=\"#009af9\" fill-rule=\"evenodd\" fill-opacity=\"1\" stroke=\"#000000\" stroke-opacity=\"1\" stroke-width=\"3.2\"/>\n",
       "<circle clip-path=\"url(#clip092)\" cx=\"671.168\" cy=\"970.065\" r=\"14\" fill=\"#009af9\" fill-rule=\"evenodd\" fill-opacity=\"1\" stroke=\"#000000\" stroke-opacity=\"1\" stroke-width=\"3.2\"/>\n",
       "<circle clip-path=\"url(#clip092)\" cx=\"1800.83\" cy=\"622.895\" r=\"14\" fill=\"#009af9\" fill-rule=\"evenodd\" fill-opacity=\"1\" stroke=\"#000000\" stroke-opacity=\"1\" stroke-width=\"3.2\"/>\n",
       "<circle clip-path=\"url(#clip092)\" cx=\"1253.9\" cy=\"795.535\" r=\"14\" fill=\"#009af9\" fill-rule=\"evenodd\" fill-opacity=\"1\" stroke=\"#000000\" stroke-opacity=\"1\" stroke-width=\"3.2\"/>\n",
       "<circle clip-path=\"url(#clip092)\" cx=\"1442.01\" cy=\"607.601\" r=\"14\" fill=\"#009af9\" fill-rule=\"evenodd\" fill-opacity=\"1\" stroke=\"#000000\" stroke-opacity=\"1\" stroke-width=\"3.2\"/>\n",
       "<circle clip-path=\"url(#clip092)\" cx=\"1441.93\" cy=\"634.694\" r=\"14\" fill=\"#009af9\" fill-rule=\"evenodd\" fill-opacity=\"1\" stroke=\"#000000\" stroke-opacity=\"1\" stroke-width=\"3.2\"/>\n",
       "<circle clip-path=\"url(#clip092)\" cx=\"1059.63\" cy=\"834.263\" r=\"14\" fill=\"#009af9\" fill-rule=\"evenodd\" fill-opacity=\"1\" stroke=\"#000000\" stroke-opacity=\"1\" stroke-width=\"3.2\"/>\n",
       "<circle clip-path=\"url(#clip092)\" cx=\"1138.56\" cy=\"598.655\" r=\"14\" fill=\"#009af9\" fill-rule=\"evenodd\" fill-opacity=\"1\" stroke=\"#000000\" stroke-opacity=\"1\" stroke-width=\"3.2\"/>\n",
       "<circle clip-path=\"url(#clip092)\" cx=\"1011.26\" cy=\"851.141\" r=\"14\" fill=\"#009af9\" fill-rule=\"evenodd\" fill-opacity=\"1\" stroke=\"#000000\" stroke-opacity=\"1\" stroke-width=\"3.2\"/>\n",
       "<circle clip-path=\"url(#clip092)\" cx=\"772.679\" cy=\"845.468\" r=\"14\" fill=\"#009af9\" fill-rule=\"evenodd\" fill-opacity=\"1\" stroke=\"#000000\" stroke-opacity=\"1\" stroke-width=\"3.2\"/>\n",
       "<circle clip-path=\"url(#clip092)\" cx=\"1441.87\" cy=\"668.459\" r=\"14\" fill=\"#009af9\" fill-rule=\"evenodd\" fill-opacity=\"1\" stroke=\"#000000\" stroke-opacity=\"1\" stroke-width=\"3.2\"/>\n",
       "<circle clip-path=\"url(#clip092)\" cx=\"1114.8\" cy=\"791.082\" r=\"14\" fill=\"#009af9\" fill-rule=\"evenodd\" fill-opacity=\"1\" stroke=\"#000000\" stroke-opacity=\"1\" stroke-width=\"3.2\"/>\n",
       "<circle clip-path=\"url(#clip092)\" cx=\"934.87\" cy=\"883.596\" r=\"14\" fill=\"#009af9\" fill-rule=\"evenodd\" fill-opacity=\"1\" stroke=\"#000000\" stroke-opacity=\"1\" stroke-width=\"3.2\"/>\n",
       "<circle clip-path=\"url(#clip092)\" cx=\"859.604\" cy=\"882.715\" r=\"14\" fill=\"#009af9\" fill-rule=\"evenodd\" fill-opacity=\"1\" stroke=\"#000000\" stroke-opacity=\"1\" stroke-width=\"3.2\"/>\n",
       "<circle clip-path=\"url(#clip092)\" cx=\"1769.91\" cy=\"426.156\" r=\"14\" fill=\"#009af9\" fill-rule=\"evenodd\" fill-opacity=\"1\" stroke=\"#000000\" stroke-opacity=\"1\" stroke-width=\"3.2\"/>\n",
       "<circle clip-path=\"url(#clip092)\" cx=\"1098.27\" cy=\"884.477\" r=\"14\" fill=\"#009af9\" fill-rule=\"evenodd\" fill-opacity=\"1\" stroke=\"#000000\" stroke-opacity=\"1\" stroke-width=\"3.2\"/>\n",
       "<circle clip-path=\"url(#clip092)\" cx=\"1030.89\" cy=\"859.675\" r=\"14\" fill=\"#009af9\" fill-rule=\"evenodd\" fill-opacity=\"1\" stroke=\"#000000\" stroke-opacity=\"1\" stroke-width=\"3.2\"/>\n",
       "<circle clip-path=\"url(#clip092)\" cx=\"1579.65\" cy=\"588.975\" r=\"14\" fill=\"#009af9\" fill-rule=\"evenodd\" fill-opacity=\"1\" stroke=\"#000000\" stroke-opacity=\"1\" stroke-width=\"3.2\"/>\n",
       "<circle clip-path=\"url(#clip092)\" cx=\"1426.67\" cy=\"699.349\" r=\"14\" fill=\"#009af9\" fill-rule=\"evenodd\" fill-opacity=\"1\" stroke=\"#000000\" stroke-opacity=\"1\" stroke-width=\"3.2\"/>\n",
       "<circle clip-path=\"url(#clip092)\" cx=\"1306.19\" cy=\"718.146\" r=\"14\" fill=\"#009af9\" fill-rule=\"evenodd\" fill-opacity=\"1\" stroke=\"#000000\" stroke-opacity=\"1\" stroke-width=\"3.2\"/>\n",
       "<circle clip-path=\"url(#clip092)\" cx=\"1399.1\" cy=\"530.305\" r=\"14\" fill=\"#009af9\" fill-rule=\"evenodd\" fill-opacity=\"1\" stroke=\"#000000\" stroke-opacity=\"1\" stroke-width=\"3.2\"/>\n",
       "<circle clip-path=\"url(#clip092)\" cx=\"1198\" cy=\"675.328\" r=\"14\" fill=\"#009af9\" fill-rule=\"evenodd\" fill-opacity=\"1\" stroke=\"#000000\" stroke-opacity=\"1\" stroke-width=\"3.2\"/>\n",
       "<circle clip-path=\"url(#clip092)\" cx=\"1864.62\" cy=\"494.135\" r=\"14\" fill=\"#009af9\" fill-rule=\"evenodd\" fill-opacity=\"1\" stroke=\"#000000\" stroke-opacity=\"1\" stroke-width=\"3.2\"/>\n",
       "<circle clip-path=\"url(#clip092)\" cx=\"1384.71\" cy=\"538.182\" r=\"14\" fill=\"#009af9\" fill-rule=\"evenodd\" fill-opacity=\"1\" stroke=\"#000000\" stroke-opacity=\"1\" stroke-width=\"3.2\"/>\n",
       "<circle clip-path=\"url(#clip092)\" cx=\"504.064\" cy=\"1204.27\" r=\"14\" fill=\"#009af9\" fill-rule=\"evenodd\" fill-opacity=\"1\" stroke=\"#000000\" stroke-opacity=\"1\" stroke-width=\"3.2\"/>\n",
       "<circle clip-path=\"url(#clip092)\" cx=\"1138.78\" cy=\"756.496\" r=\"14\" fill=\"#009af9\" fill-rule=\"evenodd\" fill-opacity=\"1\" stroke=\"#000000\" stroke-opacity=\"1\" stroke-width=\"3.2\"/>\n",
       "<circle clip-path=\"url(#clip092)\" cx=\"965.136\" cy=\"994.351\" r=\"14\" fill=\"#009af9\" fill-rule=\"evenodd\" fill-opacity=\"1\" stroke=\"#000000\" stroke-opacity=\"1\" stroke-width=\"3.2\"/>\n",
       "<circle clip-path=\"url(#clip092)\" cx=\"1314.1\" cy=\"685.59\" r=\"14\" fill=\"#009af9\" fill-rule=\"evenodd\" fill-opacity=\"1\" stroke=\"#000000\" stroke-opacity=\"1\" stroke-width=\"3.2\"/>\n",
       "<circle clip-path=\"url(#clip092)\" cx=\"1109.45\" cy=\"866.361\" r=\"14\" fill=\"#009af9\" fill-rule=\"evenodd\" fill-opacity=\"1\" stroke=\"#000000\" stroke-opacity=\"1\" stroke-width=\"3.2\"/>\n",
       "<circle clip-path=\"url(#clip092)\" cx=\"1577.98\" cy=\"584.633\" r=\"14\" fill=\"#009af9\" fill-rule=\"evenodd\" fill-opacity=\"1\" stroke=\"#000000\" stroke-opacity=\"1\" stroke-width=\"3.2\"/>\n",
       "<circle clip-path=\"url(#clip092)\" cx=\"1865.01\" cy=\"383.272\" r=\"14\" fill=\"#009af9\" fill-rule=\"evenodd\" fill-opacity=\"1\" stroke=\"#000000\" stroke-opacity=\"1\" stroke-width=\"3.2\"/>\n",
       "<circle clip-path=\"url(#clip092)\" cx=\"716.687\" cy=\"1253.98\" r=\"14\" fill=\"#009af9\" fill-rule=\"evenodd\" fill-opacity=\"1\" stroke=\"#000000\" stroke-opacity=\"1\" stroke-width=\"3.2\"/>\n",
       "<circle clip-path=\"url(#clip092)\" cx=\"1009.8\" cy=\"818.884\" r=\"14\" fill=\"#009af9\" fill-rule=\"evenodd\" fill-opacity=\"1\" stroke=\"#000000\" stroke-opacity=\"1\" stroke-width=\"3.2\"/>\n",
       "<circle clip-path=\"url(#clip092)\" cx=\"1252.33\" cy=\"789.215\" r=\"14\" fill=\"#009af9\" fill-rule=\"evenodd\" fill-opacity=\"1\" stroke=\"#000000\" stroke-opacity=\"1\" stroke-width=\"3.2\"/>\n",
       "<circle clip-path=\"url(#clip092)\" cx=\"1066.01\" cy=\"836.745\" r=\"14\" fill=\"#009af9\" fill-rule=\"evenodd\" fill-opacity=\"1\" stroke=\"#000000\" stroke-opacity=\"1\" stroke-width=\"3.2\"/>\n",
       "<circle clip-path=\"url(#clip092)\" cx=\"1115.21\" cy=\"893.023\" r=\"14\" fill=\"#009af9\" fill-rule=\"evenodd\" fill-opacity=\"1\" stroke=\"#000000\" stroke-opacity=\"1\" stroke-width=\"3.2\"/>\n",
       "<circle clip-path=\"url(#clip092)\" cx=\"737.695\" cy=\"892.785\" r=\"14\" fill=\"#009af9\" fill-rule=\"evenodd\" fill-opacity=\"1\" stroke=\"#000000\" stroke-opacity=\"1\" stroke-width=\"3.2\"/>\n",
       "<circle clip-path=\"url(#clip092)\" cx=\"834.853\" cy=\"964.432\" r=\"14\" fill=\"#009af9\" fill-rule=\"evenodd\" fill-opacity=\"1\" stroke=\"#000000\" stroke-opacity=\"1\" stroke-width=\"3.2\"/>\n",
       "<circle clip-path=\"url(#clip092)\" cx=\"1358.76\" cy=\"743.243\" r=\"14\" fill=\"#009af9\" fill-rule=\"evenodd\" fill-opacity=\"1\" stroke=\"#000000\" stroke-opacity=\"1\" stroke-width=\"3.2\"/>\n",
       "<circle clip-path=\"url(#clip092)\" cx=\"1315.48\" cy=\"662.002\" r=\"14\" fill=\"#009af9\" fill-rule=\"evenodd\" fill-opacity=\"1\" stroke=\"#000000\" stroke-opacity=\"1\" stroke-width=\"3.2\"/>\n",
       "<circle clip-path=\"url(#clip092)\" cx=\"968.528\" cy=\"836.958\" r=\"14\" fill=\"#009af9\" fill-rule=\"evenodd\" fill-opacity=\"1\" stroke=\"#000000\" stroke-opacity=\"1\" stroke-width=\"3.2\"/>\n",
       "<circle clip-path=\"url(#clip092)\" cx=\"1424.4\" cy=\"700.956\" r=\"14\" fill=\"#009af9\" fill-rule=\"evenodd\" fill-opacity=\"1\" stroke=\"#000000\" stroke-opacity=\"1\" stroke-width=\"3.2\"/>\n",
       "<circle clip-path=\"url(#clip092)\" cx=\"1270.88\" cy=\"746.394\" r=\"14\" fill=\"#009af9\" fill-rule=\"evenodd\" fill-opacity=\"1\" stroke=\"#000000\" stroke-opacity=\"1\" stroke-width=\"3.2\"/>\n",
       "<circle clip-path=\"url(#clip092)\" cx=\"1209.53\" cy=\"756.287\" r=\"14\" fill=\"#009af9\" fill-rule=\"evenodd\" fill-opacity=\"1\" stroke=\"#000000\" stroke-opacity=\"1\" stroke-width=\"3.2\"/>\n",
       "<circle clip-path=\"url(#clip092)\" cx=\"1373.39\" cy=\"652.734\" r=\"14\" fill=\"#009af9\" fill-rule=\"evenodd\" fill-opacity=\"1\" stroke=\"#000000\" stroke-opacity=\"1\" stroke-width=\"3.2\"/>\n",
       "<circle clip-path=\"url(#clip092)\" cx=\"1257.94\" cy=\"499.616\" r=\"14\" fill=\"#009af9\" fill-rule=\"evenodd\" fill-opacity=\"1\" stroke=\"#000000\" stroke-opacity=\"1\" stroke-width=\"3.2\"/>\n",
       "<circle clip-path=\"url(#clip092)\" cx=\"1119.97\" cy=\"931.067\" r=\"14\" fill=\"#009af9\" fill-rule=\"evenodd\" fill-opacity=\"1\" stroke=\"#000000\" stroke-opacity=\"1\" stroke-width=\"3.2\"/>\n",
       "<circle clip-path=\"url(#clip092)\" cx=\"1578.91\" cy=\"619.727\" r=\"14\" fill=\"#009af9\" fill-rule=\"evenodd\" fill-opacity=\"1\" stroke=\"#000000\" stroke-opacity=\"1\" stroke-width=\"3.2\"/>\n",
       "<circle clip-path=\"url(#clip092)\" cx=\"404.002\" cy=\"1164.67\" r=\"14\" fill=\"#009af9\" fill-rule=\"evenodd\" fill-opacity=\"1\" stroke=\"#000000\" stroke-opacity=\"1\" stroke-width=\"3.2\"/>\n",
       "<circle clip-path=\"url(#clip092)\" cx=\"1715.27\" cy=\"351.344\" r=\"14\" fill=\"#009af9\" fill-rule=\"evenodd\" fill-opacity=\"1\" stroke=\"#000000\" stroke-opacity=\"1\" stroke-width=\"3.2\"/>\n",
       "<polyline clip-path=\"url(#clip092)\" style=\"stroke:#e26f46; stroke-width:16; stroke-opacity:1; fill:none\" points=\"\n",
       "  188.861,1285.22 2033.35,301.181 \n",
       "  \"/>\n",
       "<polyline clip-path=\"url(#clip092)\" style=\"stroke:#3da44d; stroke-width:16; stroke-opacity:1; fill:none\" points=\"\n",
       "  188.861,1283.51 2033.35,305.275 \n",
       "  \"/>\n",
       "<polyline clip-path=\"url(#clip092)\" style=\"stroke:#c271d2; stroke-width:16; stroke-opacity:1; fill:none\" points=\"\n",
       "  188.861,1254.92 2033.35,376.598 \n",
       "  \"/>\n",
       "<polyline clip-path=\"url(#clip092)\" style=\"stroke:#ac8d18; stroke-width:16; stroke-opacity:1; fill:none\" points=\"\n",
       "  188.861,1149.81 2033.35,699.292 \n",
       "  \"/>\n",
       "<path clip-path=\"url(#clip090)\" d=\"\n",
       "M197.835 493.644 L671.514 493.644 L671.514 130.764 L197.835 130.764  Z\n",
       "  \" fill=\"#ffffff\" fill-rule=\"evenodd\" fill-opacity=\"1\"/>\n",
       "<polyline clip-path=\"url(#clip090)\" style=\"stroke:#000000; stroke-width:4; stroke-opacity:1; fill:none\" points=\"\n",
       "  197.835,493.644 671.514,493.644 671.514,130.764 197.835,130.764 197.835,493.644 \n",
       "  \"/>\n",
       "<circle clip-path=\"url(#clip090)\" cx=\"305.835\" cy=\"191.244\" r=\"23\" fill=\"#009af9\" fill-rule=\"evenodd\" fill-opacity=\"1\" stroke=\"#000000\" stroke-opacity=\"1\" stroke-width=\"5.12\"/>\n",
       "<path clip-path=\"url(#clip090)\" d=\"M 0 0 M408.746 186.533 L408.746 172.506 L413.006 172.506 L413.006 208.524 L408.746 208.524 L408.746 204.635 Q407.404 206.95 405.344 208.084 Q403.307 209.195 400.436 209.195 Q395.737 209.195 392.774 205.445 Q389.835 201.695 389.835 195.584 Q389.835 189.473 392.774 185.723 Q395.737 181.973 400.436 181.973 Q403.307 181.973 405.344 183.108 Q407.404 184.219 408.746 186.533 M394.233 195.584 Q394.233 200.283 396.154 202.969 Q398.098 205.631 401.478 205.631 Q404.858 205.631 406.802 202.969 Q408.746 200.283 408.746 195.584 Q408.746 190.885 406.802 188.223 Q404.858 185.538 401.478 185.538 Q398.098 185.538 396.154 188.223 Q394.233 190.885 394.233 195.584 Z\" fill=\"#000000\" fill-rule=\"evenodd\" fill-opacity=\"1\" /><path clip-path=\"url(#clip090)\" d=\"M 0 0 M429.256 195.492 Q424.094 195.492 422.103 196.672 Q420.112 197.853 420.112 200.7 Q420.112 202.969 421.594 204.311 Q423.098 205.631 425.668 205.631 Q429.209 205.631 431.339 203.131 Q433.492 200.607 433.492 196.441 L433.492 195.492 L429.256 195.492 M437.751 193.733 L437.751 208.524 L433.492 208.524 L433.492 204.589 Q432.033 206.95 429.857 208.084 Q427.682 209.195 424.533 209.195 Q420.552 209.195 418.191 206.973 Q415.853 204.728 415.853 200.978 Q415.853 196.603 418.77 194.381 Q421.709 192.158 427.519 192.158 L433.492 192.158 L433.492 191.742 Q433.492 188.802 431.547 187.205 Q429.626 185.584 426.131 185.584 Q423.908 185.584 421.802 186.117 Q419.695 186.649 417.751 187.714 L417.751 183.779 Q420.089 182.876 422.288 182.436 Q424.487 181.973 426.57 181.973 Q432.195 181.973 434.973 184.89 Q437.751 187.807 437.751 193.733 Z\" fill=\"#000000\" fill-rule=\"evenodd\" fill-opacity=\"1\" /><path clip-path=\"url(#clip090)\" d=\"M 0 0 M446.431 175.237 L446.431 182.598 L455.205 182.598 L455.205 185.908 L446.431 185.908 L446.431 199.982 Q446.431 203.154 447.288 204.057 Q448.168 204.959 450.83 204.959 L455.205 204.959 L455.205 208.524 L450.83 208.524 Q445.899 208.524 444.024 206.695 Q442.149 204.844 442.149 199.982 L442.149 185.908 L439.024 185.908 L439.024 182.598 L442.149 182.598 L442.149 175.237 L446.431 175.237 Z\" fill=\"#000000\" fill-rule=\"evenodd\" fill-opacity=\"1\" /><path clip-path=\"url(#clip090)\" d=\"M 0 0 M471.454 195.492 Q466.292 195.492 464.302 196.672 Q462.311 197.853 462.311 200.7 Q462.311 202.969 463.792 204.311 Q465.297 205.631 467.866 205.631 Q471.408 205.631 473.538 203.131 Q475.691 200.607 475.691 196.441 L475.691 195.492 L471.454 195.492 M479.95 193.733 L479.95 208.524 L475.691 208.524 L475.691 204.589 Q474.232 206.95 472.056 208.084 Q469.88 209.195 466.732 209.195 Q462.751 209.195 460.39 206.973 Q458.052 204.728 458.052 200.978 Q458.052 196.603 460.968 194.381 Q463.908 192.158 469.718 192.158 L475.691 192.158 L475.691 191.742 Q475.691 188.802 473.746 187.205 Q471.825 185.584 468.329 185.584 Q466.107 185.584 464.001 186.117 Q461.894 186.649 459.95 187.714 L459.95 183.779 Q462.288 182.876 464.487 182.436 Q466.686 181.973 468.769 181.973 Q474.394 181.973 477.172 184.89 Q479.95 187.807 479.95 193.733 Z\" fill=\"#000000\" fill-rule=\"evenodd\" fill-opacity=\"1\" /><path clip-path=\"url(#clip090)\" d=\"M 0 0 M503.607 204.635 L503.607 218.385 L499.325 218.385 L499.325 182.598 L503.607 182.598 L503.607 186.533 Q504.95 184.219 506.987 183.108 Q509.047 181.973 511.894 181.973 Q516.616 181.973 519.556 185.723 Q522.519 189.473 522.519 195.584 Q522.519 201.695 519.556 205.445 Q516.616 209.195 511.894 209.195 Q509.047 209.195 506.987 208.084 Q504.95 206.95 503.607 204.635 M518.098 195.584 Q518.098 190.885 516.153 188.223 Q514.232 185.538 510.852 185.538 Q507.473 185.538 505.528 188.223 Q503.607 190.885 503.607 195.584 Q503.607 200.283 505.528 202.969 Q507.473 205.631 510.852 205.631 Q514.232 205.631 516.153 202.969 Q518.098 200.283 518.098 195.584 Z\" fill=\"#000000\" fill-rule=\"evenodd\" fill-opacity=\"1\" /><path clip-path=\"url(#clip090)\" d=\"M 0 0 M537.033 185.584 Q533.607 185.584 531.616 188.27 Q529.625 190.932 529.625 195.584 Q529.625 200.237 531.593 202.922 Q533.584 205.584 537.033 205.584 Q540.436 205.584 542.426 202.899 Q544.417 200.214 544.417 195.584 Q544.417 190.978 542.426 188.293 Q540.436 185.584 537.033 185.584 M537.033 181.973 Q542.588 181.973 545.76 185.584 Q548.931 189.195 548.931 195.584 Q548.931 201.95 545.76 205.584 Q542.588 209.195 537.033 209.195 Q531.454 209.195 528.283 205.584 Q525.135 201.95 525.135 195.584 Q525.135 189.195 528.283 185.584 Q531.454 181.973 537.033 181.973 Z\" fill=\"#000000\" fill-rule=\"evenodd\" fill-opacity=\"1\" /><path clip-path=\"url(#clip090)\" d=\"M 0 0 M553.398 182.598 L557.658 182.598 L557.658 208.524 L553.398 208.524 L553.398 182.598 M553.398 172.506 L557.658 172.506 L557.658 177.899 L553.398 177.899 L553.398 172.506 Z\" fill=\"#000000\" fill-rule=\"evenodd\" fill-opacity=\"1\" /><path clip-path=\"url(#clip090)\" d=\"M 0 0 M583.676 192.876 L583.676 208.524 L579.417 208.524 L579.417 193.015 Q579.417 189.334 577.982 187.506 Q576.546 185.677 573.676 185.677 Q570.227 185.677 568.236 187.876 Q566.246 190.075 566.246 193.871 L566.246 208.524 L561.963 208.524 L561.963 182.598 L566.246 182.598 L566.246 186.626 Q567.773 184.288 569.834 183.131 Q571.917 181.973 574.625 181.973 Q579.093 181.973 581.384 184.751 Q583.676 187.506 583.676 192.876 Z\" fill=\"#000000\" fill-rule=\"evenodd\" fill-opacity=\"1\" /><path clip-path=\"url(#clip090)\" d=\"M 0 0 M592.357 175.237 L592.357 182.598 L601.13 182.598 L601.13 185.908 L592.357 185.908 L592.357 199.982 Q592.357 203.154 593.213 204.057 Q594.093 204.959 596.755 204.959 L601.13 204.959 L601.13 208.524 L596.755 208.524 Q591.824 208.524 589.949 206.695 Q588.074 204.844 588.074 199.982 L588.074 185.908 L584.949 185.908 L584.949 182.598 L588.074 182.598 L588.074 175.237 L592.357 175.237 Z\" fill=\"#000000\" fill-rule=\"evenodd\" fill-opacity=\"1\" /><path clip-path=\"url(#clip090)\" d=\"M 0 0 M622.125 183.362 L622.125 187.39 Q620.319 186.464 618.375 186.001 Q616.431 185.538 614.347 185.538 Q611.176 185.538 609.579 186.51 Q608.005 187.483 608.005 189.427 Q608.005 190.908 609.139 191.765 Q610.273 192.598 613.699 193.362 L615.157 193.686 Q619.694 194.658 621.593 196.441 Q623.514 198.2 623.514 201.371 Q623.514 204.982 620.643 207.089 Q617.796 209.195 612.796 209.195 Q610.713 209.195 608.444 208.779 Q606.199 208.385 603.699 207.575 L603.699 203.177 Q606.06 204.404 608.352 205.029 Q610.644 205.631 612.889 205.631 Q615.898 205.631 617.518 204.612 Q619.139 203.57 619.139 201.695 Q619.139 199.959 617.958 199.033 Q616.801 198.107 612.843 197.251 L611.361 196.904 Q607.403 196.07 605.644 194.358 Q603.884 192.621 603.884 189.612 Q603.884 185.955 606.477 183.964 Q609.069 181.973 613.838 181.973 Q616.199 181.973 618.282 182.321 Q620.366 182.668 622.125 183.362 Z\" fill=\"#000000\" fill-rule=\"evenodd\" fill-opacity=\"1\" /><polyline clip-path=\"url(#clip090)\" style=\"stroke:#e26f46; stroke-width:4; stroke-opacity:1; fill:none\" points=\"\n",
       "  221.835,251.724 365.835,251.724 \n",
       "  \"/>\n",
       "<path clip-path=\"url(#clip090)\" d=\"M 0 0 M403.098 237.037 L415.066 269.004 L410.552 269.004 L403.284 249.838 L394.348 269.004 L389.835 269.004 L401.2 244.143 L399.487 239.56 Q398.399 236.643 395.922 236.643 L393.7 236.643 L393.7 232.986 L396.409 233.032 Q401.64 233.102 403.098 237.037 Z\" fill=\"#000000\" fill-rule=\"evenodd\" fill-opacity=\"1\" /><path clip-path=\"url(#clip090)\" d=\"M 0 0 M420.089 247.476 L449.765 247.476 L449.765 251.365 L420.089 251.365 L420.089 247.476 M420.089 256.921 L449.765 256.921 L449.765 260.856 L420.089 260.856 L420.089 256.921 Z\" fill=\"#000000\" fill-rule=\"evenodd\" fill-opacity=\"1\" /><path clip-path=\"url(#clip090)\" d=\"M 0 0 M464.834 237.523 Q461.223 237.523 459.394 241.088 Q457.589 244.629 457.589 251.759 Q457.589 258.865 459.394 262.43 Q461.223 265.972 464.834 265.972 Q468.468 265.972 470.274 262.43 Q472.103 258.865 472.103 251.759 Q472.103 244.629 470.274 241.088 Q468.468 237.523 464.834 237.523 M464.834 233.819 Q470.644 233.819 473.7 238.426 Q476.778 243.009 476.778 251.759 Q476.778 260.486 473.7 265.092 Q470.644 269.675 464.834 269.675 Q459.024 269.675 455.945 265.092 Q452.89 260.486 452.89 251.759 Q452.89 243.009 455.945 238.426 Q459.024 233.819 464.834 233.819 Z\" fill=\"#000000\" fill-rule=\"evenodd\" fill-opacity=\"1\" /><path clip-path=\"url(#clip090)\" d=\"M 0 0 M481.848 263.124 L486.732 263.124 L486.732 269.004 L481.848 269.004 L481.848 263.124 Z\" fill=\"#000000\" fill-rule=\"evenodd\" fill-opacity=\"1\" /><path clip-path=\"url(#clip090)\" d=\"M 0 0 M501.802 237.523 Q498.19 237.523 496.362 241.088 Q494.556 244.629 494.556 251.759 Q494.556 258.865 496.362 262.43 Q498.19 265.972 501.802 265.972 Q505.436 265.972 507.241 262.43 Q509.07 258.865 509.07 251.759 Q509.07 244.629 507.241 241.088 Q505.436 237.523 501.802 237.523 M501.802 233.819 Q507.612 233.819 510.667 238.426 Q513.746 243.009 513.746 251.759 Q513.746 260.486 510.667 265.092 Q507.612 269.675 501.802 269.675 Q495.991 269.675 492.913 265.092 Q489.857 260.486 489.857 251.759 Q489.857 243.009 492.913 238.426 Q495.991 233.819 501.802 233.819 Z\" fill=\"#000000\" fill-rule=\"evenodd\" fill-opacity=\"1\" /><path clip-path=\"url(#clip090)\" d=\"M 0 0 M519.625 265.069 L527.264 265.069 L527.264 238.703 L518.954 240.37 L518.954 236.111 L527.218 234.444 L531.894 234.444 L531.894 265.069 L539.533 265.069 L539.533 269.004 L519.625 269.004 L519.625 265.069 Z\" fill=\"#000000\" fill-rule=\"evenodd\" fill-opacity=\"1\" /><polyline clip-path=\"url(#clip090)\" style=\"stroke:#3da44d; stroke-width:4; stroke-opacity:1; fill:none\" points=\"\n",
       "  221.835,312.204 365.835,312.204 \n",
       "  \"/>\n",
       "<path clip-path=\"url(#clip090)\" d=\"M 0 0 M403.098 297.517 L415.066 329.484 L410.552 329.484 L403.284 310.318 L394.348 329.484 L389.835 329.484 L401.2 304.623 L399.487 300.04 Q398.399 297.123 395.922 297.123 L393.7 297.123 L393.7 293.466 L396.409 293.512 Q401.64 293.582 403.098 297.517 Z\" fill=\"#000000\" fill-rule=\"evenodd\" fill-opacity=\"1\" /><path clip-path=\"url(#clip090)\" d=\"M 0 0 M420.089 307.956 L449.765 307.956 L449.765 311.845 L420.089 311.845 L420.089 307.956 M420.089 317.401 L449.765 317.401 L449.765 321.336 L420.089 321.336 L420.089 317.401 Z\" fill=\"#000000\" fill-rule=\"evenodd\" fill-opacity=\"1\" /><path clip-path=\"url(#clip090)\" d=\"M 0 0 M464.834 298.003 Q461.223 298.003 459.394 301.568 Q457.589 305.109 457.589 312.239 Q457.589 319.345 459.394 322.91 Q461.223 326.452 464.834 326.452 Q468.468 326.452 470.274 322.91 Q472.103 319.345 472.103 312.239 Q472.103 305.109 470.274 301.568 Q468.468 298.003 464.834 298.003 M464.834 294.299 Q470.644 294.299 473.7 298.906 Q476.778 303.489 476.778 312.239 Q476.778 320.966 473.7 325.572 Q470.644 330.155 464.834 330.155 Q459.024 330.155 455.945 325.572 Q452.89 320.966 452.89 312.239 Q452.89 303.489 455.945 298.906 Q459.024 294.299 464.834 294.299 Z\" fill=\"#000000\" fill-rule=\"evenodd\" fill-opacity=\"1\" /><path clip-path=\"url(#clip090)\" d=\"M 0 0 M481.848 323.604 L486.732 323.604 L486.732 329.484 L481.848 329.484 L481.848 323.604 Z\" fill=\"#000000\" fill-rule=\"evenodd\" fill-opacity=\"1\" /><path clip-path=\"url(#clip090)\" d=\"M 0 0 M491.848 294.924 L510.204 294.924 L510.204 298.859 L496.13 298.859 L496.13 307.331 Q497.149 306.984 498.167 306.822 Q499.186 306.637 500.204 306.637 Q505.991 306.637 509.371 309.808 Q512.751 312.98 512.751 318.396 Q512.751 323.975 509.278 327.077 Q505.806 330.155 499.487 330.155 Q497.311 330.155 495.042 329.785 Q492.797 329.415 490.39 328.674 L490.39 323.975 Q492.473 325.109 494.695 325.665 Q496.917 326.22 499.394 326.22 Q503.399 326.22 505.737 324.114 Q508.075 322.007 508.075 318.396 Q508.075 314.785 505.737 312.679 Q503.399 310.572 499.394 310.572 Q497.519 310.572 495.644 310.989 Q493.792 311.405 491.848 312.285 L491.848 294.924 Z\" fill=\"#000000\" fill-rule=\"evenodd\" fill-opacity=\"1\" /><polyline clip-path=\"url(#clip090)\" style=\"stroke:#c271d2; stroke-width:4; stroke-opacity:1; fill:none\" points=\"\n",
       "  221.835,372.684 365.835,372.684 \n",
       "  \"/>\n",
       "<path clip-path=\"url(#clip090)\" d=\"M 0 0 M403.098 357.997 L415.066 389.964 L410.552 389.964 L403.284 370.798 L394.348 389.964 L389.835 389.964 L401.2 365.103 L399.487 360.52 Q398.399 357.603 395.922 357.603 L393.7 357.603 L393.7 353.946 L396.409 353.992 Q401.64 354.062 403.098 357.997 Z\" fill=\"#000000\" fill-rule=\"evenodd\" fill-opacity=\"1\" /><path clip-path=\"url(#clip090)\" d=\"M 0 0 M420.089 368.436 L449.765 368.436 L449.765 372.325 L420.089 372.325 L420.089 368.436 M420.089 377.881 L449.765 377.881 L449.765 381.816 L420.089 381.816 L420.089 377.881 Z\" fill=\"#000000\" fill-rule=\"evenodd\" fill-opacity=\"1\" /><path clip-path=\"url(#clip090)\" d=\"M 0 0 M455.644 386.029 L463.283 386.029 L463.283 359.663 L454.973 361.33 L454.973 357.071 L463.237 355.404 L467.913 355.404 L467.913 386.029 L475.552 386.029 L475.552 389.964 L455.644 389.964 L455.644 386.029 Z\" fill=\"#000000\" fill-rule=\"evenodd\" fill-opacity=\"1\" /><path clip-path=\"url(#clip090)\" d=\"M 0 0 M490.621 358.483 Q487.01 358.483 485.181 362.048 Q483.376 365.589 483.376 372.719 Q483.376 379.825 485.181 383.39 Q487.01 386.932 490.621 386.932 Q494.255 386.932 496.061 383.39 Q497.889 379.825 497.889 372.719 Q497.889 365.589 496.061 362.048 Q494.255 358.483 490.621 358.483 M490.621 354.779 Q496.431 354.779 499.487 359.386 Q502.565 363.969 502.565 372.719 Q502.565 381.446 499.487 386.052 Q496.431 390.635 490.621 390.635 Q484.811 390.635 481.732 386.052 Q478.677 381.446 478.677 372.719 Q478.677 363.969 481.732 359.386 Q484.811 354.779 490.621 354.779 Z\" fill=\"#000000\" fill-rule=\"evenodd\" fill-opacity=\"1\" /><path clip-path=\"url(#clip090)\" d=\"M 0 0 M507.635 384.084 L512.519 384.084 L512.519 389.964 L507.635 389.964 L507.635 384.084 Z\" fill=\"#000000\" fill-rule=\"evenodd\" fill-opacity=\"1\" /><path clip-path=\"url(#clip090)\" d=\"M 0 0 M527.588 358.483 Q523.977 358.483 522.149 362.048 Q520.343 365.589 520.343 372.719 Q520.343 379.825 522.149 383.39 Q523.977 386.932 527.588 386.932 Q531.223 386.932 533.028 383.39 Q534.857 379.825 534.857 372.719 Q534.857 365.589 533.028 362.048 Q531.223 358.483 527.588 358.483 M527.588 354.779 Q533.399 354.779 536.454 359.386 Q539.533 363.969 539.533 372.719 Q539.533 381.446 536.454 386.052 Q533.399 390.635 527.588 390.635 Q521.778 390.635 518.7 386.052 Q515.644 381.446 515.644 372.719 Q515.644 363.969 518.7 359.386 Q521.778 354.779 527.588 354.779 Z\" fill=\"#000000\" fill-rule=\"evenodd\" fill-opacity=\"1\" /><polyline clip-path=\"url(#clip090)\" style=\"stroke:#ac8d18; stroke-width:4; stroke-opacity:1; fill:none\" points=\"\n",
       "  221.835,433.164 365.835,433.164 \n",
       "  \"/>\n",
       "<path clip-path=\"url(#clip090)\" d=\"M 0 0 M403.098 418.477 L415.066 450.444 L410.552 450.444 L403.284 431.278 L394.348 450.444 L389.835 450.444 L401.2 425.583 L399.487 421 Q398.399 418.083 395.922 418.083 L393.7 418.083 L393.7 414.426 L396.409 414.472 Q401.64 414.542 403.098 418.477 Z\" fill=\"#000000\" fill-rule=\"evenodd\" fill-opacity=\"1\" /><path clip-path=\"url(#clip090)\" d=\"M 0 0 M420.089 428.916 L449.765 428.916 L449.765 432.805 L420.089 432.805 L420.089 428.916 M420.089 438.361 L449.765 438.361 L449.765 442.296 L420.089 442.296 L420.089 438.361 Z\" fill=\"#000000\" fill-rule=\"evenodd\" fill-opacity=\"1\" /><path clip-path=\"url(#clip090)\" d=\"M 0 0 M455.644 446.509 L463.283 446.509 L463.283 420.143 L454.973 421.81 L454.973 417.551 L463.237 415.884 L467.913 415.884 L467.913 446.509 L475.552 446.509 L475.552 450.444 L455.644 450.444 L455.644 446.509 Z\" fill=\"#000000\" fill-rule=\"evenodd\" fill-opacity=\"1\" /><path clip-path=\"url(#clip090)\" d=\"M 0 0 M490.621 418.963 Q487.01 418.963 485.181 422.528 Q483.376 426.069 483.376 433.199 Q483.376 440.305 485.181 443.87 Q487.01 447.412 490.621 447.412 Q494.255 447.412 496.061 443.87 Q497.889 440.305 497.889 433.199 Q497.889 426.069 496.061 422.528 Q494.255 418.963 490.621 418.963 M490.621 415.259 Q496.431 415.259 499.487 419.866 Q502.565 424.449 502.565 433.199 Q502.565 441.926 499.487 446.532 Q496.431 451.115 490.621 451.115 Q484.811 451.115 481.732 446.532 Q478.677 441.926 478.677 433.199 Q478.677 424.449 481.732 419.866 Q484.811 415.259 490.621 415.259 Z\" fill=\"#000000\" fill-rule=\"evenodd\" fill-opacity=\"1\" /><path clip-path=\"url(#clip090)\" d=\"M 0 0 M517.635 418.963 Q514.024 418.963 512.195 422.528 Q510.389 426.069 510.389 433.199 Q510.389 440.305 512.195 443.87 Q514.024 447.412 517.635 447.412 Q521.269 447.412 523.075 443.87 Q524.903 440.305 524.903 433.199 Q524.903 426.069 523.075 422.528 Q521.269 418.963 517.635 418.963 M517.635 415.259 Q523.445 415.259 526.5 419.866 Q529.579 424.449 529.579 433.199 Q529.579 441.926 526.5 446.532 Q523.445 451.115 517.635 451.115 Q511.825 451.115 508.746 446.532 Q505.69 441.926 505.69 433.199 Q505.69 424.449 508.746 419.866 Q511.825 415.259 517.635 415.259 Z\" fill=\"#000000\" fill-rule=\"evenodd\" fill-opacity=\"1\" /><path clip-path=\"url(#clip090)\" d=\"M 0 0 M534.649 444.564 L539.533 444.564 L539.533 450.444 L534.649 450.444 L534.649 444.564 Z\" fill=\"#000000\" fill-rule=\"evenodd\" fill-opacity=\"1\" /><path clip-path=\"url(#clip090)\" d=\"M 0 0 M554.602 418.963 Q550.991 418.963 549.162 422.528 Q547.357 426.069 547.357 433.199 Q547.357 440.305 549.162 443.87 Q550.991 447.412 554.602 447.412 Q558.236 447.412 560.042 443.87 Q561.871 440.305 561.871 433.199 Q561.871 426.069 560.042 422.528 Q558.236 418.963 554.602 418.963 M554.602 415.259 Q560.412 415.259 563.468 419.866 Q566.547 424.449 566.547 433.199 Q566.547 441.926 563.468 446.532 Q560.412 451.115 554.602 451.115 Q548.792 451.115 545.713 446.532 Q542.658 441.926 542.658 433.199 Q542.658 424.449 545.713 419.866 Q548.792 415.259 554.602 415.259 Z\" fill=\"#000000\" fill-rule=\"evenodd\" fill-opacity=\"1\" /></svg>\n"
      ]
     },
     "execution_count": 37,
     "metadata": {},
     "output_type": "execute_result"
    }
   ],
   "source": [
    "p = scatter(x, y, label=\"data points\", legend=:topleft)\n",
    "for j in eachindex(penalty_values)\n",
    "    λ = penalty_values[j]\n",
    "    plot!(p, [-2, 2], [-2 * a_values[j] + b_values[j], 2 * a_values[j] + b_values[j]], label = \"λ=$λ\", width=4)\n",
    "end\n",
    "p"
   ]
  },
  {
   "cell_type": "code",
   "execution_count": 22,
   "metadata": {
    "slideshow": {
     "slide_type": "slide"
    }
   },
   "outputs": [
    {
     "name": "stdout",
     "output_type": "stream",
     "text": [
      "This is Ipopt version 3.13.2, running with linear solver mumps.\n",
      "NOTE: Other linear solvers might be more efficient (see Ipopt documentation).\n",
      "\n",
      "Number of nonzeros in equality constraint Jacobian...:        0\n",
      "Number of nonzeros in inequality constraint Jacobian.:        0\n",
      "Number of nonzeros in Lagrangian Hessian.............:        3\n",
      "\n",
      "Total number of variables............................:        2\n",
      "                     variables with only lower bounds:        0\n",
      "                variables with lower and upper bounds:        0\n",
      "                     variables with only upper bounds:        0\n",
      "Total number of equality constraints.................:        0\n",
      "Total number of inequality constraints...............:        0\n",
      "        inequality constraints with only lower bounds:        0\n",
      "   inequality constraints with lower and upper bounds:        0\n",
      "        inequality constraints with only upper bounds:        0\n",
      "\n",
      "iter    objective    inf_pr   inf_du lg(mu)  ||d||  lg(rg) alpha_du alpha_pr  ls\n",
      "   0  1.6078333e+03 0.00e+00 1.00e+02  -1.0 0.00e+00    -  0.00e+00 0.00e+00   0\n",
      "   1  8.6860736e+01 0.00e+00 1.33e-14  -1.0 2.93e+00    -  1.00e+00 1.00e+00f  1\n",
      "\n",
      "Number of Iterations....: 1\n",
      "\n",
      "                                   (scaled)                 (unscaled)\n",
      "Objective...............:   1.3522150558450399e+01    8.6860736245751127e+01\n",
      "Dual infeasibility......:   1.3273752353161248e-14    8.5265128291212022e-14\n",
      "Constraint violation....:   0.0000000000000000e+00    0.0000000000000000e+00\n",
      "Complementarity.........:   0.0000000000000000e+00    0.0000000000000000e+00\n",
      "Overall NLP error.......:   1.3273752353161248e-14    8.5265128291212022e-14\n",
      "\n",
      "\n",
      "Number of objective function evaluations             = 2\n",
      "Number of objective gradient evaluations             = 2\n",
      "Number of equality constraint evaluations            = 0\n",
      "Number of inequality constraint evaluations          = 0\n",
      "Number of equality constraint Jacobian evaluations   = 0\n",
      "Number of inequality constraint Jacobian evaluations = 0\n",
      "Number of Lagrangian Hessian evaluations             = 1\n",
      "Total CPU secs in IPOPT (w/o function evaluations)   =      0.001\n",
      "Total CPU secs in NLP function evaluations           =      0.000\n",
      "\n",
      "EXIT: Optimal Solution Found.\n",
      "This is Ipopt version 3.13.2, running with linear solver mumps.\n",
      "NOTE: Other linear solvers might be more efficient (see Ipopt documentation).\n",
      "\n",
      "Number of nonzeros in equality constraint Jacobian...:        0\n",
      "Number of nonzeros in inequality constraint Jacobian.:        0\n",
      "Number of nonzeros in Lagrangian Hessian.............:        3\n",
      "\n",
      "Total number of variables............................:        2\n",
      "                     variables with only lower bounds:        0\n",
      "                variables with lower and upper bounds:        0\n",
      "                     variables with only upper bounds:        0\n",
      "Total number of equality constraints.................:        0\n",
      "Total number of inequality constraints...............:        0\n",
      "        inequality constraints with only lower bounds:        0\n",
      "   inequality constraints with lower and upper bounds:        0\n",
      "        inequality constraints with only upper bounds:        0\n",
      "\n",
      "iter    objective    inf_pr   inf_du lg(mu)  ||d||  lg(rg) alpha_du alpha_pr  ls\n",
      "   0  1.6078333e+03 0.00e+00 1.00e+02  -1.0 0.00e+00    -  0.00e+00 0.00e+00   0\n",
      "   1  9.4332781e+01 0.00e+00 1.77e-14  -1.0 2.92e+00    -  1.00e+00 1.00e+00f  1\n",
      "\n",
      "Number of Iterations....: 1\n",
      "\n",
      "                                   (scaled)                 (unscaled)\n",
      "Objective...............:   1.4685370161302044e+01    9.4332780776126697e+01\n",
      "Dual infeasibility......:   1.7698336470881663e-14    1.1368683772161603e-13\n",
      "Constraint violation....:   0.0000000000000000e+00    0.0000000000000000e+00\n",
      "Complementarity.........:   0.0000000000000000e+00    0.0000000000000000e+00\n",
      "Overall NLP error.......:   1.7698336470881663e-14    1.1368683772161603e-13\n",
      "\n",
      "\n",
      "Number of objective function evaluations             = 2\n",
      "Number of objective gradient evaluations             = 2\n",
      "Number of equality constraint evaluations            = 0\n",
      "Number of inequality constraint evaluations          = 0\n",
      "Number of equality constraint Jacobian evaluations   = 0\n",
      "Number of inequality constraint Jacobian evaluations = 0\n",
      "Number of Lagrangian Hessian evaluations             = 1\n",
      "Total CPU secs in IPOPT (w/o function evaluations)   =      0.001\n",
      "Total CPU secs in NLP function evaluations           =      0.000\n",
      "\n",
      "EXIT: Optimal Solution Found.\n",
      "This is Ipopt version 3.13.2, running with linear solver mumps.\n",
      "NOTE: Other linear solvers might be more efficient (see Ipopt documentation).\n",
      "\n",
      "Number of nonzeros in equality constraint Jacobian...:        0\n",
      "Number of nonzeros in inequality constraint Jacobian.:        0\n",
      "Number of nonzeros in Lagrangian Hessian.............:        3\n",
      "\n",
      "Total number of variables............................:        2\n",
      "                     variables with only lower bounds:        0\n",
      "                variables with lower and upper bounds:        0\n",
      "                     variables with only upper bounds:        0\n",
      "Total number of equality constraints.................:        0\n",
      "Total number of inequality constraints...............:        0\n",
      "        inequality constraints with only lower bounds:        0\n",
      "   inequality constraints with lower and upper bounds:        0\n",
      "        inequality constraints with only upper bounds:        0\n",
      "\n",
      "iter    objective    inf_pr   inf_du lg(mu)  ||d||  lg(rg) alpha_du alpha_pr  ls\n",
      "   0  1.6078333e+03 0.00e+00 1.00e+02  -1.0 0.00e+00    -  0.00e+00 0.00e+00   0\n",
      "   1  2.2574978e+02 0.00e+00 7.74e-15  -1.0 2.69e+00    -  1.00e+00 1.00e+00f  1\n",
      "\n",
      "Number of Iterations....: 1\n",
      "\n",
      "                                   (scaled)                 (unscaled)\n",
      "Objective...............:   3.5143871571653307e+01    2.2574978336802008e+02\n",
      "Dual infeasibility......:   7.7430222060107278e-15    4.9737991503207013e-14\n",
      "Constraint violation....:   0.0000000000000000e+00    0.0000000000000000e+00\n",
      "Complementarity.........:   0.0000000000000000e+00    0.0000000000000000e+00\n",
      "Overall NLP error.......:   7.7430222060107278e-15    4.9737991503207013e-14\n",
      "\n",
      "\n",
      "Number of objective function evaluations             = 2\n",
      "Number of objective gradient evaluations             = 2\n",
      "Number of equality constraint evaluations            = 0\n",
      "Number of inequality constraint evaluations          = 0\n",
      "Number of equality constraint Jacobian evaluations   = 0\n",
      "Number of inequality constraint Jacobian evaluations = 0\n",
      "Number of Lagrangian Hessian evaluations             = 1\n",
      "Total CPU secs in IPOPT (w/o function evaluations)   =      0.001\n",
      "Total CPU secs in NLP function evaluations           =      0.000\n",
      "\n",
      "EXIT: Optimal Solution Found.\n",
      "This is Ipopt version 3.13.2, running with linear solver mumps.\n",
      "NOTE: Other linear solvers might be more efficient (see Ipopt documentation).\n",
      "\n",
      "Number of nonzeros in equality constraint Jacobian...:        0\n",
      "Number of nonzeros in inequality constraint Jacobian.:        0\n",
      "Number of nonzeros in Lagrangian Hessian.............:        3\n",
      "\n",
      "Total number of variables............................:        2\n",
      "                     variables with only lower bounds:        0\n",
      "                variables with lower and upper bounds:        0\n",
      "                     variables with only upper bounds:        0\n",
      "Total number of equality constraints.................:        0\n",
      "Total number of inequality constraints...............:        0\n",
      "        inequality constraints with only lower bounds:        0\n",
      "   inequality constraints with lower and upper bounds:        0\n",
      "        inequality constraints with only upper bounds:        0\n",
      "\n",
      "iter    objective    inf_pr   inf_du lg(mu)  ||d||  lg(rg) alpha_du alpha_pr  ls\n",
      "   0  1.6078333e+03 0.00e+00 1.00e+02  -1.0 0.00e+00    -  0.00e+00 0.00e+00   0\n",
      "   1  8.4712545e+02 0.00e+00 1.77e-14  -1.0 1.54e+00    -  1.00e+00 1.00e+00f  1\n",
      "\n",
      "Number of Iterations....: 1\n",
      "\n",
      "                                   (scaled)                 (unscaled)\n",
      "Objective...............:   1.3187728217716744e+02    8.4712544609547263e+02\n",
      "Dual infeasibility......:   1.7698336470881663e-14    1.1368683772161603e-13\n",
      "Constraint violation....:   0.0000000000000000e+00    0.0000000000000000e+00\n",
      "Complementarity.........:   0.0000000000000000e+00    0.0000000000000000e+00\n",
      "Overall NLP error.......:   1.7698336470881663e-14    1.1368683772161603e-13\n",
      "\n",
      "\n",
      "Number of objective function evaluations             = 2\n",
      "Number of objective gradient evaluations             = 2\n",
      "Number of equality constraint evaluations            = 0\n",
      "Number of inequality constraint evaluations          = 0\n",
      "Number of equality constraint Jacobian evaluations   = 0\n",
      "Number of inequality constraint Jacobian evaluations = 0\n",
      "Number of Lagrangian Hessian evaluations             = 1\n",
      "Total CPU secs in IPOPT (w/o function evaluations)   =      0.002\n",
      "Total CPU secs in NLP function evaluations           =      0.000\n",
      "\n",
      "EXIT: Optimal Solution Found.\n"
     ]
    }
   ],
   "source": [
    "a_values = Float64[]\n",
    "b_values = Float64[]\n",
    "penalty_values = [0.01, 0.5, 10.0, 100.0]\n",
    "regression = Model(Ipopt.Optimizer)\n",
    "@variable(regression, a)\n",
    "@variable(regression, b)\n",
    "@expression(regression,\n",
    "    quad_error[i=1:100],\n",
    "    (a * x[i] + b - y[i])^2\n",
    ")\n",
    "MOI.set(regression, MOI.Silent(), true)\n",
    "\n",
    "for λ in penalty_values\n",
    "    @objective(regression, Min, sum(quad_error) + λ * (a^2 + b^2))\n",
    "    optimize!(regression)    \n",
    "    push!(a_values, JuMP.value(a))\n",
    "    push!(b_values, JuMP.value(b))\n",
    "end"
   ]
  },
  {
   "cell_type": "markdown",
   "metadata": {
    "slideshow": {
     "slide_type": "slide"
    }
   },
   "source": [
    "## Conic optimization & sparse correlation matrix\n",
    "\n",
    "Estimating a correlation matrix from data.  \n",
    "\n",
    "A vintage paper with familiar names:  \n",
    "http://www.optimization-online.org/DB_FILE/2003/09/729.pdf  \n",
    "A Semidefinite Programming Approach, for the Nearest Correlation Matrix Problem  \n",
    "M. F. Anjos, N. J. Higham, P.L. Takouda, H. Wolkowicz, 2003\n",
    "\n",
    "Let's add sparsity:\n",
    "\n",
    "$$\\begin{align}\n",
    "\\min_C & \\|C - cor(X)\\|_F^2 \\\\\n",
    "\\text{s.t.} &\\\\\n",
    "& C_{ii} = 1 \\,\\,\\,\\,\\forall i \\\\\n",
    "& C \\succeq 0 \\\\\n",
    "& C_{ij} = 0 \\,\\,\\,\\,\\forall (i,j)\\in \\mathcal{S}\n",
    "\\end{align}$$"
   ]
  },
  {
   "cell_type": "markdown",
   "metadata": {
    "slideshow": {
     "slide_type": "slide"
    }
   },
   "source": [
    "### Generating data\n",
    "\n",
    "$X_{1,2,3}$ correlated with $X_{4, 5, 6}$"
   ]
  },
  {
   "cell_type": "code",
   "execution_count": 24,
   "metadata": {},
   "outputs": [
    {
     "data": {
      "text/plain": [
       "6×6 Array{Float64,2}:\n",
       "  1.0        -0.0289997   -0.0296981   0.727345   -0.0260502   -0.0157697\n",
       " -0.0289997   1.0         -0.0259255  -0.0249451   0.740134     0.00176235\n",
       " -0.0296981  -0.0259255    1.0        -0.0547137  -0.0125796    0.744141\n",
       "  0.727345   -0.0249451   -0.0547137   1.0        -0.0110453   -0.0304483\n",
       " -0.0260502   0.740134    -0.0125796  -0.0110453   1.0         -0.00494406\n",
       " -0.0157697   0.00176235   0.744141   -0.0304483  -0.00494406   1.0"
      ]
     },
     "execution_count": 24,
     "metadata": {},
     "output_type": "execute_result"
    }
   ],
   "source": [
    "using Statistics\n",
    "\n",
    "n = 6\n",
    "X1 = randn(1000, 3)\n",
    "X2 = randn(1000, 3) .+ 1.1 .* X1\n",
    "X = [X1 X2]\n",
    "cor(X)"
   ]
  },
  {
   "cell_type": "code",
   "execution_count": 25,
   "metadata": {
    "slideshow": {
     "slide_type": "slide"
    }
   },
   "outputs": [],
   "source": [
    "import SCS # conic solver\n",
    "using LinearAlgebra"
   ]
  },
  {
   "cell_type": "code",
   "execution_count": 26,
   "metadata": {},
   "outputs": [],
   "source": [
    "sparse_corr = Model(SCS.Optimizer)\n",
    "MOI.set(sparse_corr, MOI.Silent(), true)\n",
    "@variable(sparse_corr, C[1:n, 1:n] in PSDCone())\n",
    "@constraint(sparse_corr, unit_diagonal[i=1:6], diag(C)[i] == 1);"
   ]
  },
  {
   "cell_type": "code",
   "execution_count": 27,
   "metadata": {},
   "outputs": [],
   "source": [
    "# add sparsity pattern\n",
    "for (i, j) in [(1, 2), (1, 3), (5, 6)]\n",
    "    con = @constraint(sparse_corr, C[i,j] == 0)\n",
    "    JuMP.set_name(con, \"sparse_$(i)_$(j)\")\n",
    "end\n",
    "@objective(sparse_corr, Min,\n",
    "    sum((C - cor(X)).^2)\n",
    ");"
   ]
  },
  {
   "cell_type": "code",
   "execution_count": 28,
   "metadata": {
    "slideshow": {
     "slide_type": "subslide"
    }
   },
   "outputs": [],
   "source": [
    "optimize!(sparse_corr)"
   ]
  },
  {
   "cell_type": "code",
   "execution_count": 29,
   "metadata": {},
   "outputs": [
    {
     "data": {
      "text/plain": [
       "6×6 Array{Float64,2}:\n",
       "  0.999999    -1.73144e-7  -2.03697e-7   0.727345   -0.02605    -0.0157696\n",
       " -1.73144e-7   0.999999    -0.0259256   -0.024945    0.740134    0.00176242\n",
       " -2.03697e-7  -0.0259256    0.999999    -0.0547135  -0.0125795   0.744141\n",
       "  0.727345    -0.024945    -0.0547135    0.999999   -0.0110455  -0.0304485\n",
       " -0.02605      0.740134    -0.0125795   -0.0110455   0.999999    1.2371e-8\n",
       " -0.0157696    0.00176242   0.744141    -0.0304485   1.2371e-8   0.999999"
      ]
     },
     "execution_count": 29,
     "metadata": {},
     "output_type": "execute_result"
    }
   ],
   "source": [
    "JuMP.value.(C)"
   ]
  },
  {
   "cell_type": "markdown",
   "metadata": {
    "slideshow": {
     "slide_type": "slide"
    }
   },
   "source": [
    "# Model transformations\n",
    "\n",
    "[Dualization.jl](https://github.com/JuliaOpt/Dualization.jl) for automatic computation of dual models.\n",
    "\n",
    "$$\n",
    "\\begin{align}\n",
    "& \\text{Variable-in-cone model:}\\\\\n",
    "\\min_x\\,\\,\\, & c \\cdot x\\\\\n",
    "& A x = b\\\\\n",
    "& x \\in \\mathcal{K}\\\\\n",
    "&\\\\\n",
    "& \\text{Affine-map-in-cone model:}\\\\\n",
    "&\\\\\n",
    "\\min_x\\,\\,\\, & c \\cdot x\\\\\n",
    "& A x - b \\in \\mathcal{K}\n",
    "\\end{align}$$\n"
   ]
  },
  {
   "cell_type": "code",
   "execution_count": 30,
   "metadata": {
    "slideshow": {
     "slide_type": "slide"
    }
   },
   "outputs": [],
   "source": [
    "using Dualization"
   ]
  },
  {
   "cell_type": "code",
   "execution_count": 31,
   "metadata": {},
   "outputs": [
    {
     "data": {
      "text/latex": [
       "$$ \\begin{alignat*}{1}\\min\\quad & C_{1,1}^2 + 2 C_{1,2}^2 + 2 C_{1,3}^2 + 2 C_{1,4}^2 + 2 C_{1,5}^2 + 2 C_{1,6}^2 + C_{2,2}^2 + 2 C_{2,3}^2 + 2 C_{2,4}^2 + 2 C_{2,5}^2 + 2 C_{2,6}^2 + C_{3,3}^2 + 2 C_{3,4}^2 + 2 C_{3,5}^2 + 2 C_{3,6}^2 + C_{4,4}^2 + 2 C_{4,5}^2 + 2 C_{4,6}^2 + C_{5,5}^2 + 2 C_{5,6}^2 + C_{6,6}^2 - 2 C_{1,1} + 0.11599868518467185 C_{1,2} + 0.11879232317733618 C_{1,3} - 2.9093796072194924 C_{1,4} + 0.10420065479613048 C_{1,5} + 0.0630788507286946 C_{1,6} - 2 C_{2,2} + 0.10370200714550608 C_{2,3} + 0.09978052120187321 C_{2,4} - 2.9605377349122666 C_{2,5} - 0.007049380827654394 C_{2,6} - 2 C_{3,3} + 0.21885496292912468 C_{3,4} + 0.050318503199353846 C_{3,5} - 2.9765645872267803 C_{3,6} - 2 C_{4,4} + 0.04418125928623775 C_{4,5} + 0.12179336141026578 C_{4,6} - 2 C_{5,5} + 0.019776227711337135 C_{5,6} - 2 C_{6,6} + 9.2774975317906\\\\\n",
       "\\text{Subject to} \\quad & C_{1,1} = 1.0\\\\\n",
       " & C_{2,2} = 1.0\\\\\n",
       " & C_{3,3} = 1.0\\\\\n",
       " & C_{4,4} = 1.0\\\\\n",
       " & C_{5,5} = 1.0\\\\\n",
       " & C_{6,6} = 1.0\\\\\n",
       " & C_{1,2} = 0.0\\\\\n",
       " & C_{1,3} = 0.0\\\\\n",
       " & C_{5,6} = 0.0\\\\\n",
       " & [C_{1,1}, C_{1,2}, C_{2,2}, C_{1,3}, C_{2,3}, C_{3,3}, C_{1,4}, C_{2,4}, C_{3,4}, C_{4,4}, C_{1,5}, C_{2,5}, C_{3,5}, C_{4,5}, C_{5,5}, C_{1,6}, C_{2,6}, C_{3,6}, C_{4,6}, C_{5,6}, C_{6,6}] \\in MathOptInterface.PositiveSemidefiniteConeTriangle(6)\\\\\n",
       "\\end{alignat*}\n",
       " $$"
      ],
      "text/plain": [
       "A JuMP Model\n",
       "Minimization problem with:\n",
       "Variables: 21\n",
       "Objective function type: GenericQuadExpr{Float64,VariableRef}\n",
       "`GenericAffExpr{Float64,VariableRef}`-in-`MathOptInterface.EqualTo{Float64}`: 9 constraints\n",
       "`Array{VariableRef,1}`-in-`MathOptInterface.PositiveSemidefiniteConeTriangle`: 1 constraint\n",
       "Model mode: AUTOMATIC\n",
       "CachingOptimizer state: ATTACHED_OPTIMIZER\n",
       "Solver name: SCS\n",
       "Names registered in the model: C, unit_diagonal"
      ]
     },
     "execution_count": 31,
     "metadata": {},
     "output_type": "execute_result"
    }
   ],
   "source": [
    "sparse_corr"
   ]
  },
  {
   "cell_type": "code",
   "execution_count": 39,
   "metadata": {
    "slideshow": {
     "slide_type": "slide"
    }
   },
   "outputs": [
    {
     "name": "stdout",
     "output_type": "stream",
     "text": [
      "Max -quadslack_C[1,1]² - 2 quadslack_C[1,2]² - quadslack_C[2,2]² - 2 quadslack_C[1,3]² - 2 quadslack_C[2,3]² - quadslack_C[3,3]² - 2 quadslack_C[1,4]² - 2 quadslack_C[2,4]² - 2 quadslack_C[3,4]² - quadslack_C[4,4]² - 2 quadslack_C[1,5]² - 2 quadslack_C[2,5]² - 2 quadslack_C[3,5]² - 2 quadslack_C[4,5]² - quadslack_C[5,5]² - 2 quadslack_C[1,6]² - 2 quadslack_C[2,6]² - 2 quadslack_C[3,6]² - 2 quadslack_C[4,6]² - 2 quadslack_C[5,6]² - quadslack_C[6,6]² + unit_diagonal[4]_1 + unit_diagonal[2]_1 + unit_diagonal[3]_1 + unit_diagonal[5]_1 + unit_diagonal[6]_1 + unit_diagonal[1]_1 + 9.2774975317906\n",
      "Subject to\n",
      " C[1,1] : unit_diagonal[1]_1 + _1 - 2 quadslack_C[1,1] = -2.0\n",
      " C[1,2] : sparse_1_2_1 + 2 _2 - 4 quadslack_C[1,2] = 0.11599868518467185\n",
      " C[2,2] : unit_diagonal[2]_1 + _3 - 2 quadslack_C[2,2] = -2.0\n",
      " C[1,3] : sparse_1_3_1 + 2 _4 - 4 quadslack_C[1,3] = 0.11879232317733618\n",
      " C[2,3] : 2 _5 - 4 quadslack_C[2,3] = 0.10370200714550608\n",
      " C[3,3] : unit_diagonal[3]_1 + _6 - 2 quadslack_C[3,3] = -2.0\n",
      " C[1,4] : 2 _7 - 4 quadslack_C[1,4] = -2.9093796072194924\n",
      " C[2,4] : 2 _8 - 4 quadslack_C[2,4] = 0.09978052120187321\n",
      " C[3,4] : 2 _9 - 4 quadslack_C[3,4] = 0.21885496292912468\n",
      " C[4,4] : unit_diagonal[4]_1 + _10 - 2 quadslack_C[4,4] = -2.0\n",
      " C[1,5] : 2 _11 - 4 quadslack_C[1,5] = 0.10420065479613048\n",
      " C[2,5] : 2 _12 - 4 quadslack_C[2,5] = -2.9605377349122666\n",
      " C[3,5] : 2 _13 - 4 quadslack_C[3,5] = 0.050318503199353846\n",
      " C[4,5] : 2 _14 - 4 quadslack_C[4,5] = 0.04418125928623775\n",
      " C[5,5] : unit_diagonal[5]_1 + _15 - 2 quadslack_C[5,5] = -2.0\n",
      " C[1,6] : 2 _16 - 4 quadslack_C[1,6] = 0.0630788507286946\n",
      " C[2,6] : 2 _17 - 4 quadslack_C[2,6] = -0.007049380827654394\n",
      " C[3,6] : 2 _18 - 4 quadslack_C[3,6] = -2.9765645872267803\n",
      " C[4,6] : 2 _19 - 4 quadslack_C[4,6] = 0.12179336141026578\n",
      " C[5,6] : sparse_5_6_1 + 2 _20 - 4 quadslack_C[5,6] = 0.019776227711337135\n",
      " C[6,6] : unit_diagonal[6]_1 + _21 - 2 quadslack_C[6,6] = -2.0\n",
      " [_1, _2, _3, _4, _5, _6, _7, _8, _9, _10, _11, _12, _13, _14, _15, _16, _17, _18, _19, _20, _21] ∈ MathOptInterface.PositiveSemidefiniteConeTriangle(6)\n"
     ]
    }
   ],
   "source": [
    "dual_sparse_corr = Dualization.dualize(sparse_corr, SCS.Optimizer, dual_names = DualNames(\"\", \"\"))\n",
    "print(dual_sparse_corr)"
   ]
  },
  {
   "cell_type": "code",
   "execution_count": 33,
   "metadata": {
    "slideshow": {
     "slide_type": "slide"
    }
   },
   "outputs": [],
   "source": [
    "MOI.set(dual_sparse_corr, MOI.Silent(), true)\n",
    "optimize!(dual_sparse_corr)"
   ]
  },
  {
   "cell_type": "code",
   "execution_count": 34,
   "metadata": {},
   "outputs": [
    {
     "name": "stdout",
     "output_type": "stream",
     "text": [
      "objective_value(dual_sparse_corr) - objective_value(sparse_corr) = 5.90932148902823e-6\n"
     ]
    }
   ],
   "source": [
    "@show (objective_value(dual_sparse_corr)-objective_value(sparse_corr));"
   ]
  },
  {
   "cell_type": "markdown",
   "metadata": {
    "slideshow": {
     "slide_type": "slide"
    }
   },
   "source": [
    "# What is JuMP **not good** for?\n",
    "\n",
    "- Non-linear optimization is still work in progress\n",
    "- More suited tools:\n",
    "    - [BlackBoxOptim.jl](https://github.com/robertfeldt/BlackBoxOptim.jl)\n",
    "    - [Optim.jl](https://github.com/JuliaNLSolvers/Optim.jl) and [JuliaNLSolvers](https://github.com/JuliaNLSolvers/)\n",
    "    - [JuliaSmoothOptimizers](https://juliasmoothoptimizers.github.io)\n",
    "    - [JuliaManifolds/ManOpt.jl](https://github.com/JuliaManifolds/Manopt.jl) for optimization on manifolds\n",
    "- Still dependent on Float64 (no optimization over complex, symbolic numbers, autodiff)"
   ]
  },
  {
   "cell_type": "markdown",
   "metadata": {
    "slideshow": {
     "slide_type": "slide"
    }
   },
   "source": [
    "# Wrapping up\n",
    "\n",
    "- JuMP, and E-AML are a great compromise between **model-friendly** and **algorithm-friendly**\n",
    "- One of the rare tools bridging LP, conic, integer optimization\n",
    "- Can be integrated in other packages and functions  \n",
    "    $\\rightarrow$ no workflow interruption\n",
    "\n",
    "## Learning more\n",
    "\n",
    "**https://jump.dev**\n",
    "\n",
    "Advanced tutorials (conic, approximations, non-linear, graph-based problems) on https://github.com/JuliaOpt/JuMPTutorials.jl\n",
    "\n",
    "- [Coluna.jl](https://atoptima.github.io/Coluna.jl/stable/start/): row and column generation framework on top of JuMP\n",
    "- [ConstraintSolver.jl](https://github.com/Wikunia/ConstraintSolver.jl): pure-Julia constraint programming solver\n",
    "- [Tulip.jl](https://github.com/ds4dm/Tulip.jl): pure-Julia interior-point solver with abstract algebra"
   ]
  }
 ],
 "metadata": {
  "kernelspec": {
   "display_name": "Julia 1.4.0",
   "language": "julia",
   "name": "julia-1.4"
  },
  "language_info": {
   "file_extension": ".jl",
   "mimetype": "application/julia",
   "name": "julia",
   "version": "1.4.0"
  }
 },
 "nbformat": 4,
 "nbformat_minor": 4
}
